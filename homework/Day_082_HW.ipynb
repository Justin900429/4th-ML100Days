{
 "cells": [
  {
   "cell_type": "code",
   "execution_count": 1,
   "metadata": {
    "colab": {
     "base_uri": "https://localhost:8080/",
     "height": 34
    },
    "colab_type": "code",
    "id": "t1aaj0KdGo0E",
    "outputId": "6def75ee-bf8a-4c41-c8e8-591d877c22c9"
   },
   "outputs": [
    {
     "name": "stderr",
     "output_type": "stream",
     "text": [
      "Using TensorFlow backend.\n"
     ]
    }
   ],
   "source": [
    "import keras"
   ]
  },
  {
   "cell_type": "code",
   "execution_count": 2,
   "metadata": {
    "colab": {},
    "colab_type": "code",
    "id": "E95Yky_QGvrM"
   },
   "outputs": [],
   "source": [
    "train, test = keras.datasets.cifar10.load_data()"
   ]
  },
  {
   "cell_type": "code",
   "execution_count": 3,
   "metadata": {
    "colab": {},
    "colab_type": "code",
    "id": "9Qy1p-9HGxCi"
   },
   "outputs": [],
   "source": [
    "## 資料前處理\n",
    "def preproc_x(x, flatten=True):\n",
    "    x = x / 255.\n",
    "    if flatten:\n",
    "        x = x.reshape((len(x), -1))\n",
    "    return x\n",
    "\n",
    "def preproc_y(y, num_classes=10):\n",
    "    if y.shape[-1] == 1:\n",
    "        y = keras.utils.to_categorical(y, num_classes)\n",
    "    return y    "
   ]
  },
  {
   "cell_type": "code",
   "execution_count": 4,
   "metadata": {
    "colab": {},
    "colab_type": "code",
    "id": "45tXw1B9GxrZ"
   },
   "outputs": [],
   "source": [
    "x_train, y_train = train\n",
    "x_test, y_test = test\n",
    "\n",
    "# Preproc the inputs\n",
    "x_train = preproc_x(x_train)\n",
    "x_test = preproc_x(x_test)\n",
    "\n",
    "# Preprc the outputs\n",
    "y_train = preproc_y(y_train)\n",
    "y_test = preproc_y(y_test)"
   ]
  },
  {
   "cell_type": "code",
   "execution_count": 5,
   "metadata": {
    "colab": {},
    "colab_type": "code",
    "id": "TKlHpWOkG6RL"
   },
   "outputs": [],
   "source": [
    "from keras.layers import Dropout\n",
    "\n",
    "\"\"\"\n",
    "建立神經網路，並加入 dropout layer\n",
    "\"\"\"\n",
    "def build_mlp(input_shape, output_units=10, num_neurons=[512, 256, 128], drp_ratio=0.2):\n",
    "    input_layer = keras.layers.Input(input_shape)\n",
    "    \n",
    "    for i, n_units in enumerate(num_neurons):\n",
    "        if i == 0:\n",
    "            x = keras.layers.Dense(units=n_units, \n",
    "                                   activation=\"relu\", \n",
    "                                   name=\"hidden_layer\"+str(i+1))(input_layer)\n",
    "            x = Dropout(drp_ratio)(x)\n",
    "        else:\n",
    "            x = keras.layers.Dense(units=n_units, \n",
    "                                   activation=\"relu\", \n",
    "                                   name=\"hidden_layer\"+str(i+1))(x)\n",
    "            x = Dropout(drp_ratio)(x)\n",
    "    \n",
    "    out = keras.layers.Dense(units=output_units, activation=\"softmax\", name=\"output\")(x)\n",
    "    \n",
    "    model = keras.models.Model(inputs=[input_layer], outputs=[out])\n",
    "    return model"
   ]
  },
  {
   "cell_type": "code",
   "execution_count": 6,
   "metadata": {
    "colab": {},
    "colab_type": "code",
    "id": "pEnMynbYG9gQ"
   },
   "outputs": [],
   "source": [
    "## 超參數設定\n",
    "LEARNING_RATE = 1e-3\n",
    "EPOCHS = 50\n",
    "BATCH_SIZE = 256\n",
    "MOMENTUM = 0.95\n",
    "Dropout_EXP = 0.5"
   ]
  },
  {
   "cell_type": "code",
   "execution_count": 7,
   "metadata": {
    "colab": {
     "base_uri": "https://localhost:8080/",
     "height": 1000
    },
    "colab_type": "code",
    "id": "7JUoAH-5G_iu",
    "outputId": "ff687ebc-8b8b-4c9a-e5a0-728bfb3dec7c"
   },
   "outputs": [
    {
     "name": "stdout",
     "output_type": "stream",
     "text": [
      "Model: \"model_1\"\n",
      "_________________________________________________________________\n",
      "Layer (type)                 Output Shape              Param #   \n",
      "=================================================================\n",
      "input_1 (InputLayer)         (None, 3072)              0         \n",
      "_________________________________________________________________\n",
      "hidden_layer1 (Dense)        (None, 512)               1573376   \n",
      "_________________________________________________________________\n",
      "dropout_1 (Dropout)          (None, 512)               0         \n",
      "_________________________________________________________________\n",
      "hidden_layer2 (Dense)        (None, 256)               131328    \n",
      "_________________________________________________________________\n",
      "dropout_2 (Dropout)          (None, 256)               0         \n",
      "_________________________________________________________________\n",
      "hidden_layer3 (Dense)        (None, 128)               32896     \n",
      "_________________________________________________________________\n",
      "dropout_3 (Dropout)          (None, 128)               0         \n",
      "_________________________________________________________________\n",
      "output (Dense)               (None, 10)                1290      \n",
      "=================================================================\n",
      "Total params: 1,738,890\n",
      "Trainable params: 1,738,890\n",
      "Non-trainable params: 0\n",
      "_________________________________________________________________\n",
      "Train on 50000 samples, validate on 10000 samples\n",
      "Epoch 1/50\n",
      "50000/50000 [==============================] - 1s 29us/step - loss: 2.3133 - accuracy: 0.1278 - val_loss: 2.1991 - val_accuracy: 0.2169\n",
      "Epoch 2/50\n",
      "50000/50000 [==============================] - 1s 24us/step - loss: 2.1903 - accuracy: 0.1749 - val_loss: 2.0810 - val_accuracy: 0.2551\n",
      "Epoch 3/50\n",
      "50000/50000 [==============================] - 1s 23us/step - loss: 2.1163 - accuracy: 0.2010 - val_loss: 2.0104 - val_accuracy: 0.2896\n",
      "Epoch 4/50\n",
      "50000/50000 [==============================] - 1s 24us/step - loss: 2.0660 - accuracy: 0.2267 - val_loss: 1.9557 - val_accuracy: 0.3010\n",
      "Epoch 5/50\n",
      "50000/50000 [==============================] - 1s 23us/step - loss: 2.0284 - accuracy: 0.2435 - val_loss: 1.9127 - val_accuracy: 0.3163\n",
      "Epoch 6/50\n",
      "50000/50000 [==============================] - 1s 23us/step - loss: 1.9942 - accuracy: 0.2599 - val_loss: 1.8796 - val_accuracy: 0.3324\n",
      "Epoch 7/50\n",
      "50000/50000 [==============================] - 1s 24us/step - loss: 1.9682 - accuracy: 0.2708 - val_loss: 1.8508 - val_accuracy: 0.3424\n",
      "Epoch 8/50\n",
      "50000/50000 [==============================] - 1s 23us/step - loss: 1.9474 - accuracy: 0.2792 - val_loss: 1.8205 - val_accuracy: 0.3572\n",
      "Epoch 9/50\n",
      "50000/50000 [==============================] - 1s 23us/step - loss: 1.9256 - accuracy: 0.2914 - val_loss: 1.8044 - val_accuracy: 0.3699\n",
      "Epoch 10/50\n",
      "50000/50000 [==============================] - 1s 23us/step - loss: 1.9076 - accuracy: 0.3005 - val_loss: 1.7752 - val_accuracy: 0.3765\n",
      "Epoch 11/50\n",
      "50000/50000 [==============================] - 1s 23us/step - loss: 1.8902 - accuracy: 0.3075 - val_loss: 1.7622 - val_accuracy: 0.3861\n",
      "Epoch 12/50\n",
      "50000/50000 [==============================] - 1s 23us/step - loss: 1.8721 - accuracy: 0.3164 - val_loss: 1.7360 - val_accuracy: 0.3859\n",
      "Epoch 13/50\n",
      "50000/50000 [==============================] - 1s 23us/step - loss: 1.8513 - accuracy: 0.3224 - val_loss: 1.7297 - val_accuracy: 0.3960\n",
      "Epoch 14/50\n",
      "50000/50000 [==============================] - 1s 23us/step - loss: 1.8412 - accuracy: 0.3300 - val_loss: 1.7103 - val_accuracy: 0.3956\n",
      "Epoch 15/50\n",
      "50000/50000 [==============================] - 1s 24us/step - loss: 1.8299 - accuracy: 0.3332 - val_loss: 1.6989 - val_accuracy: 0.4074\n",
      "Epoch 16/50\n",
      "50000/50000 [==============================] - 1s 23us/step - loss: 1.8163 - accuracy: 0.3425 - val_loss: 1.6749 - val_accuracy: 0.4141\n",
      "Epoch 17/50\n",
      "50000/50000 [==============================] - 1s 23us/step - loss: 1.8059 - accuracy: 0.3441 - val_loss: 1.6803 - val_accuracy: 0.4114\n",
      "Epoch 18/50\n",
      "50000/50000 [==============================] - 1s 23us/step - loss: 1.7968 - accuracy: 0.3525 - val_loss: 1.6751 - val_accuracy: 0.4156\n",
      "Epoch 19/50\n",
      "50000/50000 [==============================] - 1s 24us/step - loss: 1.7837 - accuracy: 0.3556 - val_loss: 1.6432 - val_accuracy: 0.4195\n",
      "Epoch 20/50\n",
      "50000/50000 [==============================] - 1s 23us/step - loss: 1.7768 - accuracy: 0.3578 - val_loss: 1.6346 - val_accuracy: 0.4265\n",
      "Epoch 21/50\n",
      "50000/50000 [==============================] - 1s 23us/step - loss: 1.7621 - accuracy: 0.3639 - val_loss: 1.6296 - val_accuracy: 0.4310\n",
      "Epoch 22/50\n",
      "50000/50000 [==============================] - 1s 23us/step - loss: 1.7618 - accuracy: 0.3645 - val_loss: 1.6334 - val_accuracy: 0.4293\n",
      "Epoch 23/50\n",
      "50000/50000 [==============================] - 1s 23us/step - loss: 1.7497 - accuracy: 0.3684 - val_loss: 1.6100 - val_accuracy: 0.4327\n",
      "Epoch 24/50\n",
      "50000/50000 [==============================] - 1s 23us/step - loss: 1.7405 - accuracy: 0.3752 - val_loss: 1.6090 - val_accuracy: 0.4384\n",
      "Epoch 25/50\n",
      "50000/50000 [==============================] - 1s 23us/step - loss: 1.7324 - accuracy: 0.3777 - val_loss: 1.6070 - val_accuracy: 0.4380\n",
      "Epoch 26/50\n",
      "50000/50000 [==============================] - 1s 23us/step - loss: 1.7286 - accuracy: 0.3798 - val_loss: 1.5961 - val_accuracy: 0.4403\n",
      "Epoch 27/50\n",
      "50000/50000 [==============================] - 1s 23us/step - loss: 1.7149 - accuracy: 0.3823 - val_loss: 1.5897 - val_accuracy: 0.4420\n",
      "Epoch 28/50\n",
      "50000/50000 [==============================] - 1s 24us/step - loss: 1.7081 - accuracy: 0.3868 - val_loss: 1.5777 - val_accuracy: 0.4440\n",
      "Epoch 29/50\n",
      "50000/50000 [==============================] - 1s 24us/step - loss: 1.7044 - accuracy: 0.3885 - val_loss: 1.5718 - val_accuracy: 0.4480\n",
      "Epoch 30/50\n",
      "50000/50000 [==============================] - 1s 23us/step - loss: 1.6972 - accuracy: 0.3898 - val_loss: 1.5631 - val_accuracy: 0.4548\n",
      "Epoch 31/50\n",
      "50000/50000 [==============================] - 1s 24us/step - loss: 1.6919 - accuracy: 0.3926 - val_loss: 1.5691 - val_accuracy: 0.4494\n",
      "Epoch 32/50\n",
      "50000/50000 [==============================] - 1s 24us/step - loss: 1.6821 - accuracy: 0.3939 - val_loss: 1.5550 - val_accuracy: 0.4539\n",
      "Epoch 33/50\n",
      "50000/50000 [==============================] - 1s 24us/step - loss: 1.6851 - accuracy: 0.3935 - val_loss: 1.5558 - val_accuracy: 0.4538\n",
      "Epoch 34/50\n",
      "50000/50000 [==============================] - 1s 24us/step - loss: 1.6808 - accuracy: 0.3948 - val_loss: 1.5337 - val_accuracy: 0.4591\n",
      "Epoch 35/50\n",
      "50000/50000 [==============================] - 1s 24us/step - loss: 1.6754 - accuracy: 0.3989 - val_loss: 1.5351 - val_accuracy: 0.4586\n",
      "Epoch 36/50\n",
      "50000/50000 [==============================] - 1s 23us/step - loss: 1.6616 - accuracy: 0.4020 - val_loss: 1.5246 - val_accuracy: 0.4668\n",
      "Epoch 37/50\n",
      "50000/50000 [==============================] - 1s 24us/step - loss: 1.6573 - accuracy: 0.4059 - val_loss: 1.5269 - val_accuracy: 0.4558\n",
      "Epoch 38/50\n",
      "50000/50000 [==============================] - 1s 25us/step - loss: 1.6511 - accuracy: 0.4069 - val_loss: 1.5212 - val_accuracy: 0.4667\n",
      "Epoch 39/50\n",
      "50000/50000 [==============================] - 1s 25us/step - loss: 1.6519 - accuracy: 0.4050 - val_loss: 1.5190 - val_accuracy: 0.4606\n",
      "Epoch 40/50\n",
      "50000/50000 [==============================] - 1s 24us/step - loss: 1.6464 - accuracy: 0.4092 - val_loss: 1.5110 - val_accuracy: 0.4687\n",
      "Epoch 41/50\n",
      "50000/50000 [==============================] - 1s 24us/step - loss: 1.6393 - accuracy: 0.4097 - val_loss: 1.5183 - val_accuracy: 0.4633\n",
      "Epoch 42/50\n",
      "50000/50000 [==============================] - 1s 23us/step - loss: 1.6368 - accuracy: 0.4115 - val_loss: 1.5082 - val_accuracy: 0.4664\n",
      "Epoch 43/50\n",
      "50000/50000 [==============================] - 1s 23us/step - loss: 1.6275 - accuracy: 0.4149 - val_loss: 1.5062 - val_accuracy: 0.4651\n",
      "Epoch 44/50\n",
      "50000/50000 [==============================] - 1s 23us/step - loss: 1.6216 - accuracy: 0.4193 - val_loss: 1.4984 - val_accuracy: 0.4700\n",
      "Epoch 45/50\n",
      "50000/50000 [==============================] - 1s 24us/step - loss: 1.6182 - accuracy: 0.4193 - val_loss: 1.4954 - val_accuracy: 0.4709\n",
      "Epoch 46/50\n",
      "50000/50000 [==============================] - 1s 23us/step - loss: 1.6214 - accuracy: 0.4197 - val_loss: 1.5008 - val_accuracy: 0.4695\n",
      "Epoch 47/50\n",
      "50000/50000 [==============================] - 1s 23us/step - loss: 1.6112 - accuracy: 0.4195 - val_loss: 1.4814 - val_accuracy: 0.4784\n",
      "Epoch 48/50\n",
      "50000/50000 [==============================] - 1s 23us/step - loss: 1.6061 - accuracy: 0.4229 - val_loss: 1.4757 - val_accuracy: 0.4723\n",
      "Epoch 49/50\n",
      "50000/50000 [==============================] - 1s 23us/step - loss: 1.6082 - accuracy: 0.4242 - val_loss: 1.4876 - val_accuracy: 0.4735\n",
      "Epoch 50/50\n",
      "50000/50000 [==============================] - 1s 24us/step - loss: 1.6006 - accuracy: 0.4292 - val_loss: 1.4763 - val_accuracy: 0.4771\n"
     ]
    },
    {
     "data": {
      "text/plain": [
       "<keras.callbacks.callbacks.History at 0x7f1fc0061ef0>"
      ]
     },
     "execution_count": 7,
     "metadata": {
      "tags": []
     },
     "output_type": "execute_result"
    }
   ],
   "source": [
    "model = build_mlp(input_shape=x_train.shape[1:], drp_ratio=Dropout_EXP)\n",
    "model.summary()\n",
    "optimizer = keras.optimizers.SGD(lr=LEARNING_RATE, nesterov=True, momentum=MOMENTUM)\n",
    "model.compile(loss=\"categorical_crossentropy\", metrics=[\"accuracy\"], optimizer=optimizer)\n",
    "\n",
    "model.fit(x_train, y_train, \n",
    "          epochs=EPOCHS, \n",
    "          batch_size=BATCH_SIZE, \n",
    "          validation_data=(x_test, y_test), \n",
    "          shuffle=True)\n"
   ]
  },
  {
   "cell_type": "code",
   "execution_count": 8,
   "metadata": {
    "colab": {},
    "colab_type": "code",
    "id": "x_ITGVGgHHUv"
   },
   "outputs": [],
   "source": [
    "# Collect results\n",
    "train_loss = model.history.history[\"loss\"]\n",
    "valid_loss = model.history.history[\"val_loss\"]\n",
    "train_acc = model.history.history[\"accuracy\"]\n",
    "valid_acc = model.history.history[\"val_accuracy\"]"
   ]
  },
  {
   "cell_type": "code",
   "execution_count": 9,
   "metadata": {
    "colab": {
     "base_uri": "https://localhost:8080/",
     "height": 545
    },
    "colab_type": "code",
    "id": "pT63O2KpHTXb",
    "outputId": "2dcc3fc9-ef67-4729-e913-cef8d1f37248"
   },
   "outputs": [
    {
     "data": {
      "image/png": "[encoded data removed]",
      "text/plain": [
       "<Figure size 432x288 with 1 Axes>"
      ]
     },
     "metadata": {
      "needs_background": "light",
      "tags": []
     },
     "output_type": "display_data"
    },
    {
     "data": {
      "image/png": "[encoded data removed]",
      "text/plain": [
       "<Figure size 432x288 with 1 Axes>"
      ]
     },
     "metadata": {
      "needs_background": "light",
      "tags": []
     },
     "output_type": "display_data"
    }
   ],
   "source": [
    "import matplotlib.pyplot as plt\n",
    "%matplotlib inline\n",
    "\n",
    "plt.plot(range(len(train_loss)), train_loss, label=\"train loss\")\n",
    "plt.plot(range(len(valid_loss)), valid_loss, label=\"valid loss\")\n",
    "plt.legend()\n",
    "plt.title(\"Loss\")\n",
    "plt.show()\n",
    "\n",
    "plt.plot(range(len(train_acc)), train_acc, label=\"train accuracy\")\n",
    "plt.plot(range(len(valid_acc)), valid_acc, label=\"valid accuracy\")\n",
    "plt.legend()\n",
    "plt.title(\"Accuracy\")\n",
    "plt.show()"
   ]
  }
 ],
 "metadata": {
  "accelerator": "GPU",
  "colab": {
   "collapsed_sections": [],
   "name": "Day082_HW.ipynb",
   "provenance": []
  },
  "kernelspec": {
   "display_name": "Python 3",
   "name": "python3"
  }
 },
 "nbformat": 4,
 "nbformat_minor": 0
}
