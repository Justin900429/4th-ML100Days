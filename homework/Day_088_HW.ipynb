{
 "cells": [
  {
   "cell_type": "code",
   "execution_count": 10,
   "metadata": {
    "colab": {},
    "colab_type": "code",
    "id": "5udthHJGZTIY"
   },
   "outputs": [],
   "source": [
    "import os\n",
    "import keras"
   ]
  },
  {
   "cell_type": "code",
   "execution_count": 11,
   "metadata": {
    "colab": {},
    "colab_type": "code",
    "id": "35B4K92aZVj9"
   },
   "outputs": [],
   "source": [
    "train, test = keras.datasets.cifar10.load_data()"
   ]
  },
  {
   "cell_type": "code",
   "execution_count": 12,
   "metadata": {
    "colab": {},
    "colab_type": "code",
    "id": "fcvaPOFiZYoe"
   },
   "outputs": [],
   "source": [
    "## 資料前處理\n",
    "def preproc_x(x, flatten=True):\n",
    "    x = x / 255.\n",
    "    if flatten:\n",
    "        x = x.reshape((len(x), -1))\n",
    "    return x\n",
    "\n",
    "def preproc_y(y, num_classes=10):\n",
    "    if y.shape[-1] == 1:\n",
    "        y = keras.utils.to_categorical(y, num_classes)\n",
    "    return y    "
   ]
  },
  {
   "cell_type": "code",
   "execution_count": 13,
   "metadata": {
    "colab": {},
    "colab_type": "code",
    "id": "Wlrc0vYbZaYP"
   },
   "outputs": [],
   "source": [
    "x_train, y_train = train\n",
    "x_test, y_test = test\n",
    "\n",
    "# Preproc the inputs\n",
    "x_train = preproc_x(x_train)\n",
    "x_test = preproc_x(x_test)\n",
    "\n",
    "# Preprc the outputs\n",
    "y_train = preproc_y(y_train)\n",
    "y_test = preproc_y(y_test)"
   ]
  },
  {
   "cell_type": "code",
   "execution_count": 14,
   "metadata": {
    "colab": {},
    "colab_type": "code",
    "id": "w5uzbKlwZdiR"
   },
   "outputs": [],
   "source": [
    "from keras.layers import BatchNormalization\n",
    "\n",
    "\"\"\"\n",
    "建立神經網路，並加入 BN layer\n",
    "\"\"\"\n",
    "def build_mlp(input_shape, output_units=10, num_neurons=[512, 256, 128]):\n",
    "    input_layer = keras.layers.Input(input_shape)\n",
    "    \n",
    "    for i, n_units in enumerate(num_neurons):\n",
    "        if i == 0:\n",
    "            x = keras.layers.Dense(units=n_units, \n",
    "                                   activation=\"relu\", \n",
    "                                   name=\"hidden_layer\"+str(i+1))(input_layer)\n",
    "            x = BatchNormalization()(x)\n",
    "        else:\n",
    "            x = keras.layers.Dense(units=n_units, \n",
    "                                   activation=\"relu\", \n",
    "                                   name=\"hidden_layer\"+str(i+1))(x)\n",
    "            x = BatchNormalization()(x)\n",
    "    \n",
    "    out = keras.layers.Dense(units=output_units, activation=\"softmax\", name=\"output\")(x)\n",
    "    \n",
    "    model = keras.models.Model(inputs=[input_layer], outputs=[out])\n",
    "    return model"
   ]
  },
  {
   "cell_type": "code",
   "execution_count": 15,
   "metadata": {
    "colab": {},
    "colab_type": "code",
    "id": "vplKoguvZhFv"
   },
   "outputs": [],
   "source": [
    "## 超參數設定\n",
    "LEARNING_RATE = 1e-3\n",
    "EPOCHS = 25\n",
    "BATCH_SIZE = 1024\n",
    "MOMENTUM = 0.95"
   ]
  },
  {
   "cell_type": "code",
   "execution_count": 17,
   "metadata": {
    "colab": {},
    "colab_type": "code",
    "id": "G14nJitqZi9O"
   },
   "outputs": [],
   "source": [
    "\"\"\"\n",
    "# 載入 Callbacks，撰寫一個 f1 score 的 callback function\n",
    "\"\"\"\n",
    "\n",
    "from keras.callbacks import Callback\n",
    "from sklearn.metrics import f1_score\n",
    "\n",
    "class f1sc(Callback):\n",
    "    def on_train_begin(self, epoch, logs = {}):\n",
    "        logs = logs or {}\n",
    "        record_items = [\"val_auc\", \"val_f1sc\", \"val_fp\", \"val_fn\", \"val_tp\", \"val_tn\"]\n",
    "        for i in record_items:\n",
    "            if i not in self.params['metrics']:\n",
    "                self.params['metrics'].append(i)\n",
    "    \n",
    "    def on_epoch_end(self, epoch, logs = {}, thres=0.5):\n",
    "        logs = logs or {}\n",
    "        y_true = self.validation_data[1].argmax(axis = 1)\n",
    "        y_pred = self.model.predict(self.validation_data[0])\n",
    "        y_pred = (y_pred[:, 1] >= thres) * 1\n",
    "        \n",
    "        logs[\"val_f1sc\"] = f1_score(y_true = y_true, y_pred = y_pred, average=\"weighted\")\n",
    "                \n",
    "log_f1sc = f1sc()"
   ]
  },
  {
   "cell_type": "code",
   "execution_count": 18,
   "metadata": {
    "colab": {
     "base_uri": "https://localhost:8080/",
     "height": 1000
    },
    "colab_type": "code",
    "id": "noW0044RZlN0",
    "outputId": "7ceb4534-f208-43b3-ada8-8f9d99e0e8ae"
   },
   "outputs": [
    {
     "name": "stdout",
     "output_type": "stream",
     "text": [
      "Model: \"model_2\"\n",
      "_________________________________________________________________\n",
      "Layer (type)                 Output Shape              Param #   \n",
      "=================================================================\n",
      "input_2 (InputLayer)         (None, 3072)              0         \n",
      "_________________________________________________________________\n",
      "hidden_layer1 (Dense)        (None, 512)               1573376   \n",
      "_________________________________________________________________\n",
      "batch_normalization_4 (Batch (None, 512)               2048      \n",
      "_________________________________________________________________\n",
      "hidden_layer2 (Dense)        (None, 256)               131328    \n",
      "_________________________________________________________________\n",
      "batch_normalization_5 (Batch (None, 256)               1024      \n",
      "_________________________________________________________________\n",
      "hidden_layer3 (Dense)        (None, 128)               32896     \n",
      "_________________________________________________________________\n",
      "batch_normalization_6 (Batch (None, 128)               512       \n",
      "_________________________________________________________________\n",
      "output (Dense)               (None, 10)                1290      \n",
      "=================================================================\n",
      "Total params: 1,742,474\n",
      "Trainable params: 1,740,682\n",
      "Non-trainable params: 1,792\n",
      "_________________________________________________________________\n",
      "Train on 50000 samples, validate on 10000 samples\n",
      "Epoch 1/25\n",
      "50000/50000 [==============================] - 2s 40us/step - loss: 2.2395 - accuracy: 0.2649 - val_loss: 2.1042 - val_accuracy: 0.2239\n",
      "Epoch 2/25\n",
      "50000/50000 [==============================] - 2s 30us/step - loss: 1.7443 - accuracy: 0.3913 - val_loss: 1.9474 - val_accuracy: 0.2957\n",
      "Epoch 3/25\n",
      "50000/50000 [==============================] - 2s 30us/step - loss: 1.6248 - accuracy: 0.4314 - val_loss: 1.8247 - val_accuracy: 0.3531\n",
      "Epoch 4/25\n",
      "50000/50000 [==============================] - 2s 31us/step - loss: 1.5538 - accuracy: 0.4549 - val_loss: 1.7147 - val_accuracy: 0.4101\n",
      "Epoch 5/25\n",
      "50000/50000 [==============================] - 2s 30us/step - loss: 1.4993 - accuracy: 0.4741 - val_loss: 1.6518 - val_accuracy: 0.4292\n",
      "Epoch 6/25\n",
      "50000/50000 [==============================] - 2s 30us/step - loss: 1.4558 - accuracy: 0.4903 - val_loss: 1.5959 - val_accuracy: 0.4436\n",
      "Epoch 7/25\n",
      "50000/50000 [==============================] - 2s 31us/step - loss: 1.4163 - accuracy: 0.5055 - val_loss: 1.5537 - val_accuracy: 0.4601\n",
      "Epoch 8/25\n",
      "50000/50000 [==============================] - 2s 31us/step - loss: 1.3800 - accuracy: 0.5183 - val_loss: 1.5276 - val_accuracy: 0.4651\n",
      "Epoch 9/25\n",
      "50000/50000 [==============================] - 2s 30us/step - loss: 1.3473 - accuracy: 0.5317 - val_loss: 1.5151 - val_accuracy: 0.4681\n",
      "Epoch 10/25\n",
      "50000/50000 [==============================] - 2s 30us/step - loss: 1.3164 - accuracy: 0.5421 - val_loss: 1.5026 - val_accuracy: 0.4741\n",
      "Epoch 11/25\n",
      "50000/50000 [==============================] - 2s 31us/step - loss: 1.2897 - accuracy: 0.5517 - val_loss: 1.4852 - val_accuracy: 0.4776\n",
      "Epoch 12/25\n",
      "50000/50000 [==============================] - 2s 31us/step - loss: 1.2635 - accuracy: 0.5609 - val_loss: 1.4838 - val_accuracy: 0.4808\n",
      "Epoch 13/25\n",
      "50000/50000 [==============================] - 2s 30us/step - loss: 1.2374 - accuracy: 0.5723 - val_loss: 1.4702 - val_accuracy: 0.4854\n",
      "Epoch 14/25\n",
      "50000/50000 [==============================] - 2s 31us/step - loss: 1.2139 - accuracy: 0.5809 - val_loss: 1.4754 - val_accuracy: 0.4814\n",
      "Epoch 15/25\n",
      "50000/50000 [==============================] - 2s 30us/step - loss: 1.1897 - accuracy: 0.5888 - val_loss: 1.4675 - val_accuracy: 0.4864\n",
      "Epoch 16/25\n",
      "50000/50000 [==============================] - 2s 30us/step - loss: 1.1669 - accuracy: 0.6001 - val_loss: 1.4820 - val_accuracy: 0.4798\n",
      "Epoch 17/25\n",
      "50000/50000 [==============================] - 2s 31us/step - loss: 1.1444 - accuracy: 0.6068 - val_loss: 1.4604 - val_accuracy: 0.4904\n",
      "Epoch 18/25\n",
      "50000/50000 [==============================] - 2s 30us/step - loss: 1.1219 - accuracy: 0.6160 - val_loss: 1.4558 - val_accuracy: 0.4930\n",
      "Epoch 19/25\n",
      "50000/50000 [==============================] - 2s 31us/step - loss: 1.1012 - accuracy: 0.6234 - val_loss: 1.4578 - val_accuracy: 0.4935\n",
      "Epoch 20/25\n",
      "50000/50000 [==============================] - 2s 30us/step - loss: 1.0803 - accuracy: 0.6316 - val_loss: 1.4422 - val_accuracy: 0.5019\n",
      "Epoch 21/25\n",
      "50000/50000 [==============================] - 2s 30us/step - loss: 1.0582 - accuracy: 0.6385 - val_loss: 1.4472 - val_accuracy: 0.4925\n",
      "Epoch 22/25\n",
      "50000/50000 [==============================] - 2s 31us/step - loss: 1.0359 - accuracy: 0.6486 - val_loss: 1.4680 - val_accuracy: 0.4896\n",
      "Epoch 23/25\n",
      "50000/50000 [==============================] - 2s 30us/step - loss: 1.0146 - accuracy: 0.6578 - val_loss: 1.4449 - val_accuracy: 0.5002\n",
      "Epoch 24/25\n",
      "50000/50000 [==============================] - 2s 30us/step - loss: 0.9949 - accuracy: 0.6648 - val_loss: 1.4596 - val_accuracy: 0.4982\n",
      "Epoch 25/25\n",
      "50000/50000 [==============================] - 2s 30us/step - loss: 0.9733 - accuracy: 0.6727 - val_loss: 1.4682 - val_accuracy: 0.4952\n"
     ]
    }
   ],
   "source": [
    "model = build_mlp(input_shape=x_train.shape[1:])\n",
    "model.summary()\n",
    "optimizer = keras.optimizers.SGD(lr=LEARNING_RATE, nesterov=True, momentum=MOMENTUM)\n",
    "model.compile(loss=\"categorical_crossentropy\", metrics=[\"accuracy\"], optimizer=optimizer)\n",
    "\n",
    "model.fit(x_train, y_train, \n",
    "          epochs=EPOCHS, \n",
    "          batch_size=BATCH_SIZE, \n",
    "          validation_data=(x_test, y_test), \n",
    "          shuffle=True,\n",
    "          callbacks=[log_f1sc]\n",
    "         )\n",
    "\n",
    "# Collect results\n",
    "train_loss = model.history.history[\"loss\"]\n",
    "valid_loss = model.history.history[\"val_loss\"]\n",
    "train_acc = model.history.history[\"accuracy\"]\n",
    "valid_acc = model.history.history[\"val_accuracy\"]\n",
    "\n",
    "# 在訓練後，將 f1sc 紀錄調出\n",
    "valid_f1sc = model.history.history['val_f1sc']"
   ]
  },
  {
   "cell_type": "code",
   "execution_count": 19,
   "metadata": {
    "colab": {
     "base_uri": "https://localhost:8080/",
     "height": 809
    },
    "colab_type": "code",
    "id": "F4QMJpp9ZtoH",
    "outputId": "53f6b0e9-4267-4893-8539-f18803175469"
   },
   "outputs": [
    {
     "data": {
      "image/png": "[encoded data removed]",
      "text/plain": [
       "<Figure size 432x288 with 1 Axes>"
      ]
     },
     "metadata": {
      "needs_background": "light",
      "tags": []
     },
     "output_type": "display_data"
    },
    {
     "data": {
      "image/png": "[encoded data removed]",
      "text/plain": [
       "<Figure size 432x288 with 1 Axes>"
      ]
     },
     "metadata": {
      "needs_background": "light",
      "tags": []
     },
     "output_type": "display_data"
    },
    {
     "data": {
      "image/png": "[encoded data removed]",
      "text/plain": [
       "<Figure size 432x288 with 1 Axes>"
      ]
     },
     "metadata": {
      "needs_background": "light",
      "tags": []
     },
     "output_type": "display_data"
    }
   ],
   "source": [
    "import matplotlib.pyplot as plt\n",
    "%matplotlib inline\n",
    "\n",
    "plt.plot(range(len(train_loss)), train_loss, label=\"train loss\")\n",
    "plt.plot(range(len(valid_loss)), valid_loss, label=\"valid loss\")\n",
    "plt.legend()\n",
    "plt.title(\"Loss\")\n",
    "plt.show()\n",
    "\n",
    "plt.plot(range(len(train_acc)), train_acc, label=\"train accuracy\")\n",
    "plt.plot(range(len(valid_acc)), valid_acc, label=\"valid accuracy\")\n",
    "plt.legend()\n",
    "plt.title(\"Accuracy\")\n",
    "plt.show()\n",
    "\n",
    "plt.plot(range(len(valid_f1sc)), valid_f1sc, label=\"valid f1-score\")\n",
    "plt.legend()\n",
    "plt.title(\"F1-score\")\n",
    "plt.show()"
   ]
  }
 ],
 "metadata": {
  "accelerator": "GPU",
  "colab": {
   "collapsed_sections": [],
   "name": "Day_088_HW.ipynb",
   "provenance": []
  },
  "kernelspec": {
   "display_name": "Python 3",
   "name": "python3"
  }
 },
 "nbformat": 4,
 "nbformat_minor": 0
}
