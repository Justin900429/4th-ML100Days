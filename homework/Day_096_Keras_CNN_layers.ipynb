{
 "cells": [
  {
   "cell_type": "markdown",
   "metadata": {
    "colab_type": "text",
    "id": "-BduNaT7t4_0"
   },
   "source": [
    "請閱讀 Keras 官方範例 [mnist_cnn.py](https://github.com/keras-team/keras/blob/master/examples/mnist_cnn.py)\n",
    "\n",
    "並回答下列問題。僅有 70 行程式碼，請確保每一行的程式碼你都能夠理解目的\n",
    "\n",
    "是否有對資料做標準化 (normalization)? 如果有，在哪幾行?\n",
    "使用的優化器 Optimizer 為何?\n",
    "模型總共疊了幾層卷積層?\n",
    "模型的參數量是多少?\n",
    "\n",
    "1. Yes, from line 37 to 38.\n",
    "2. Adadelta\n",
    "3. 2\n",
    "4. 1,199,882"
   ]
  }
 ],
 "metadata": {
  "accelerator": "GPU",
  "colab": {
   "collapsed_sections": [],
   "name": "Day_096_Keras_CNN_layers.ipynb",
   "provenance": []
  },
  "kernelspec": {
   "display_name": "Python 3",
   "name": "python3"
  }
 },
 "nbformat": 4,
 "nbformat_minor": 0
}
