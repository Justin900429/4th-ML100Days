{
 "cells": [
  {
   "cell_type": "code",
   "execution_count": 1,
   "metadata": {
    "colab": {
     "base_uri": "https://localhost:8080/",
     "height": 34
    },
    "colab_type": "code",
    "id": "v7ivV-IwXfjY",
    "outputId": "d541162b-b0cb-4da4-c377-8113dc640353"
   },
   "outputs": [
    {
     "name": "stderr",
     "output_type": "stream",
     "text": [
      "Using TensorFlow backend.\n"
     ]
    }
   ],
   "source": [
    "import os\n",
    "import keras"
   ]
  },
  {
   "cell_type": "code",
   "execution_count": 2,
   "metadata": {
    "colab": {
     "base_uri": "https://localhost:8080/",
     "height": 51
    },
    "colab_type": "code",
    "id": "RAlY8SVwXf7H",
    "outputId": "4f761088-273d-4d2f-d140-b30e6ad05c59"
   },
   "outputs": [
    {
     "name": "stdout",
     "output_type": "stream",
     "text": [
      "Downloading data from https://www.cs.toronto.edu/~kriz/cifar-10-python.tar.gz\n",
      "170500096/170498071 [==============================] - 12s 0us/step\n"
     ]
    }
   ],
   "source": [
    "train, test = keras.datasets.cifar10.load_data()"
   ]
  },
  {
   "cell_type": "code",
   "execution_count": 3,
   "metadata": {
    "colab": {},
    "colab_type": "code",
    "id": "DfjZ7QMZXh11"
   },
   "outputs": [],
   "source": [
    "## 資料前處理\n",
    "def preproc_x(x, flatten=True):\n",
    "    x = x / 255.\n",
    "    if flatten:\n",
    "        x = x.reshape((len(x), -1))\n",
    "    return x\n",
    "\n",
    "def preproc_y(y, num_classes=10):\n",
    "    if y.shape[-1] == 1:\n",
    "        y = keras.utils.to_categorical(y, num_classes)\n",
    "    return y  "
   ]
  },
  {
   "cell_type": "code",
   "execution_count": 4,
   "metadata": {
    "colab": {},
    "colab_type": "code",
    "id": "52VDnAkcXj77"
   },
   "outputs": [],
   "source": [
    "x_train, y_train = train\n",
    "x_test, y_test = test\n",
    "\n",
    "# Preproc the inputs\n",
    "x_train = preproc_x(x_train)\n",
    "x_test = preproc_x(x_test)\n",
    "\n",
    "# Preprc the outputs\n",
    "y_train = preproc_y(y_train)\n",
    "y_test = preproc_y(y_test)"
   ]
  },
  {
   "cell_type": "code",
   "execution_count": 5,
   "metadata": {
    "colab": {},
    "colab_type": "code",
    "id": "8BTg7vFCXnC5"
   },
   "outputs": [],
   "source": [
    "from keras.layers import BatchNormalization\n",
    "\n",
    "\"\"\"\n",
    "建立神經網路，並加入 BN layer\n",
    "\"\"\"\n",
    "def build_mlp(input_shape, output_units=10, num_neurons=[512, 256, 128]):\n",
    "    input_layer = keras.layers.Input(input_shape)\n",
    "    \n",
    "    for i, n_units in enumerate(num_neurons):\n",
    "        if i == 0:\n",
    "            x = keras.layers.Dense(units=n_units, \n",
    "                                   activation=\"relu\", \n",
    "                                   name=\"hidden_layer\"+str(i+1))(input_layer)\n",
    "            x = BatchNormalization()(x)\n",
    "        else:\n",
    "            x = keras.layers.Dense(units=n_units, \n",
    "                                   activation=\"relu\", \n",
    "                                   name=\"hidden_layer\"+str(i+1))(x)\n",
    "            x = BatchNormalization()(x)\n",
    "    \n",
    "    out = keras.layers.Dense(units=output_units, activation=\"softmax\", name=\"output\")(x)\n",
    "    \n",
    "    model = keras.models.Model(inputs=[input_layer], outputs=[out])\n",
    "    return model"
   ]
  },
  {
   "cell_type": "code",
   "execution_count": 6,
   "metadata": {
    "colab": {},
    "colab_type": "code",
    "id": "daJtJVXiXrhT"
   },
   "outputs": [],
   "source": [
    "## 超參數設定\n",
    "LEARNING_RATE = 1e-3\n",
    "EPOCHS = 50\n",
    "BATCH_SIZE = 1024\n",
    "MOMENTUM = 0.95"
   ]
  },
  {
   "cell_type": "code",
   "execution_count": 7,
   "metadata": {
    "colab": {},
    "colab_type": "code",
    "id": "pjpv1jZJXuSQ"
   },
   "outputs": [],
   "source": [
    "\"\"\"\n",
    "# 載入 Callbacks, 並設定監控目標為 validation loss\n",
    "\"\"\"\n",
    "from keras.callbacks import ReduceLROnPlateau\n",
    "\n",
    "reduce_lr = ReduceLROnPlateau(factor=0.5, \n",
    "                              min_lr=1e-12, \n",
    "                              monitor='val_loss', \n",
    "                              patience=5, \n",
    "                              verbose=1)"
   ]
  },
  {
   "cell_type": "code",
   "execution_count": 8,
   "metadata": {
    "colab": {
     "base_uri": "https://localhost:8080/",
     "height": 1000
    },
    "colab_type": "code",
    "id": "WxUF9x9_Xwud",
    "outputId": "54ba469c-b0a8-416c-c0b8-f1cf5e3cd858"
   },
   "outputs": [
    {
     "name": "stdout",
     "output_type": "stream",
     "text": [
      "Model: \"model_1\"\n",
      "_________________________________________________________________\n",
      "Layer (type)                 Output Shape              Param #   \n",
      "=================================================================\n",
      "input_1 (InputLayer)         (None, 3072)              0         \n",
      "_________________________________________________________________\n",
      "hidden_layer1 (Dense)        (None, 512)               1573376   \n",
      "_________________________________________________________________\n",
      "batch_normalization_1 (Batch (None, 512)               2048      \n",
      "_________________________________________________________________\n",
      "hidden_layer2 (Dense)        (None, 256)               131328    \n",
      "_________________________________________________________________\n",
      "batch_normalization_2 (Batch (None, 256)               1024      \n",
      "_________________________________________________________________\n",
      "hidden_layer3 (Dense)        (None, 128)               32896     \n",
      "_________________________________________________________________\n",
      "batch_normalization_3 (Batch (None, 128)               512       \n",
      "_________________________________________________________________\n",
      "output (Dense)               (None, 10)                1290      \n",
      "=================================================================\n",
      "Total params: 1,742,474\n",
      "Trainable params: 1,740,682\n",
      "Non-trainable params: 1,792\n",
      "_________________________________________________________________\n",
      "Train on 50000 samples, validate on 10000 samples\n",
      "Epoch 1/50\n",
      "50000/50000 [==============================] - 3s 69us/step - loss: 2.1668 - accuracy: 0.2745 - val_loss: 2.1354 - val_accuracy: 0.2277\n",
      "Epoch 2/50\n",
      "50000/50000 [==============================] - 1s 30us/step - loss: 1.7359 - accuracy: 0.3917 - val_loss: 1.9653 - val_accuracy: 0.3010\n",
      "Epoch 3/50\n",
      "50000/50000 [==============================] - 2s 31us/step - loss: 1.6173 - accuracy: 0.4314 - val_loss: 1.8268 - val_accuracy: 0.3702\n",
      "Epoch 4/50\n",
      "50000/50000 [==============================] - 2s 31us/step - loss: 1.5456 - accuracy: 0.4566 - val_loss: 1.7212 - val_accuracy: 0.4006\n",
      "Epoch 5/50\n",
      "50000/50000 [==============================] - 2s 31us/step - loss: 1.4901 - accuracy: 0.4770 - val_loss: 1.6351 - val_accuracy: 0.4369\n",
      "Epoch 6/50\n",
      "50000/50000 [==============================] - 2s 30us/step - loss: 1.4452 - accuracy: 0.4934 - val_loss: 1.5834 - val_accuracy: 0.4429\n",
      "Epoch 7/50\n",
      "50000/50000 [==============================] - 2s 31us/step - loss: 1.4083 - accuracy: 0.5082 - val_loss: 1.5470 - val_accuracy: 0.4567\n",
      "Epoch 8/50\n",
      "50000/50000 [==============================] - 2s 31us/step - loss: 1.3704 - accuracy: 0.5220 - val_loss: 1.5249 - val_accuracy: 0.4648\n",
      "Epoch 9/50\n",
      "50000/50000 [==============================] - 2s 30us/step - loss: 1.3374 - accuracy: 0.5339 - val_loss: 1.5013 - val_accuracy: 0.4693\n",
      "Epoch 10/50\n",
      "50000/50000 [==============================] - 2s 30us/step - loss: 1.3092 - accuracy: 0.5446 - val_loss: 1.4861 - val_accuracy: 0.4813\n",
      "Epoch 11/50\n",
      "50000/50000 [==============================] - 2s 31us/step - loss: 1.2817 - accuracy: 0.5536 - val_loss: 1.4812 - val_accuracy: 0.4763\n",
      "Epoch 12/50\n",
      "50000/50000 [==============================] - 2s 30us/step - loss: 1.2544 - accuracy: 0.5655 - val_loss: 1.4796 - val_accuracy: 0.4841\n",
      "Epoch 13/50\n",
      "50000/50000 [==============================] - 2s 30us/step - loss: 1.2304 - accuracy: 0.5730 - val_loss: 1.4629 - val_accuracy: 0.4856\n",
      "Epoch 14/50\n",
      "50000/50000 [==============================] - 2s 30us/step - loss: 1.2035 - accuracy: 0.5836 - val_loss: 1.4590 - val_accuracy: 0.4831\n",
      "Epoch 15/50\n",
      "50000/50000 [==============================] - 2s 30us/step - loss: 1.1788 - accuracy: 0.5925 - val_loss: 1.4633 - val_accuracy: 0.4877\n",
      "Epoch 16/50\n",
      "50000/50000 [==============================] - 1s 30us/step - loss: 1.1562 - accuracy: 0.5991 - val_loss: 1.4589 - val_accuracy: 0.4872\n",
      "Epoch 17/50\n",
      "50000/50000 [==============================] - 2s 30us/step - loss: 1.1348 - accuracy: 0.6091 - val_loss: 1.4549 - val_accuracy: 0.4926\n",
      "Epoch 18/50\n",
      "50000/50000 [==============================] - 2s 30us/step - loss: 1.1119 - accuracy: 0.6180 - val_loss: 1.4542 - val_accuracy: 0.4926\n",
      "Epoch 19/50\n",
      "50000/50000 [==============================] - 2s 30us/step - loss: 1.0888 - accuracy: 0.6264 - val_loss: 1.4597 - val_accuracy: 0.4905\n",
      "Epoch 20/50\n",
      "50000/50000 [==============================] - 2s 30us/step - loss: 1.0684 - accuracy: 0.6352 - val_loss: 1.4481 - val_accuracy: 0.4950\n",
      "Epoch 21/50\n",
      "50000/50000 [==============================] - 1s 30us/step - loss: 1.0461 - accuracy: 0.6430 - val_loss: 1.4677 - val_accuracy: 0.4871\n",
      "Epoch 22/50\n",
      "50000/50000 [==============================] - 2s 31us/step - loss: 1.0243 - accuracy: 0.6532 - val_loss: 1.4536 - val_accuracy: 0.4959\n",
      "Epoch 23/50\n",
      "50000/50000 [==============================] - 2s 30us/step - loss: 1.0033 - accuracy: 0.6603 - val_loss: 1.4549 - val_accuracy: 0.4920\n",
      "Epoch 24/50\n",
      "50000/50000 [==============================] - 2s 31us/step - loss: 0.9823 - accuracy: 0.6687 - val_loss: 1.4633 - val_accuracy: 0.4939\n",
      "Epoch 25/50\n",
      "50000/50000 [==============================] - 2s 31us/step - loss: 0.9627 - accuracy: 0.6766 - val_loss: 1.4675 - val_accuracy: 0.4946\n",
      "\n",
      "Epoch 00025: ReduceLROnPlateau reducing learning rate to 0.0005000000237487257.\n",
      "Epoch 26/50\n",
      "50000/50000 [==============================] - 2s 30us/step - loss: 0.9341 - accuracy: 0.6871 - val_loss: 1.4511 - val_accuracy: 0.5038\n",
      "Epoch 27/50\n",
      "50000/50000 [==============================] - 2s 30us/step - loss: 0.9157 - accuracy: 0.6970 - val_loss: 1.4524 - val_accuracy: 0.5034\n",
      "Epoch 28/50\n",
      "50000/50000 [==============================] - 2s 30us/step - loss: 0.9029 - accuracy: 0.7012 - val_loss: 1.4586 - val_accuracy: 0.5042\n",
      "Epoch 29/50\n",
      "50000/50000 [==============================] - 2s 30us/step - loss: 0.8911 - accuracy: 0.7066 - val_loss: 1.4658 - val_accuracy: 0.5009\n",
      "Epoch 30/50\n",
      "50000/50000 [==============================] - 2s 30us/step - loss: 0.8818 - accuracy: 0.7093 - val_loss: 1.4678 - val_accuracy: 0.5005\n",
      "\n",
      "Epoch 00030: ReduceLROnPlateau reducing learning rate to 0.0002500000118743628.\n",
      "Epoch 31/50\n",
      "50000/50000 [==============================] - 2s 30us/step - loss: 0.8658 - accuracy: 0.7163 - val_loss: 1.4585 - val_accuracy: 0.5051\n",
      "Epoch 32/50\n",
      "50000/50000 [==============================] - 2s 30us/step - loss: 0.8563 - accuracy: 0.7199 - val_loss: 1.4580 - val_accuracy: 0.5063\n",
      "Epoch 33/50\n",
      "50000/50000 [==============================] - 2s 31us/step - loss: 0.8493 - accuracy: 0.7229 - val_loss: 1.4597 - val_accuracy: 0.5020\n",
      "Epoch 34/50\n",
      "50000/50000 [==============================] - 2s 30us/step - loss: 0.8446 - accuracy: 0.7264 - val_loss: 1.4633 - val_accuracy: 0.5030\n",
      "Epoch 35/50\n",
      "50000/50000 [==============================] - 2s 30us/step - loss: 0.8393 - accuracy: 0.7284 - val_loss: 1.4673 - val_accuracy: 0.5032\n",
      "\n",
      "Epoch 00035: ReduceLROnPlateau reducing learning rate to 0.0001250000059371814.\n",
      "Epoch 36/50\n",
      "50000/50000 [==============================] - 2s 30us/step - loss: 0.8299 - accuracy: 0.7309 - val_loss: 1.4662 - val_accuracy: 0.5033\n",
      "Epoch 37/50\n",
      "50000/50000 [==============================] - 2s 30us/step - loss: 0.8256 - accuracy: 0.7351 - val_loss: 1.4680 - val_accuracy: 0.5042\n",
      "Epoch 38/50\n",
      "50000/50000 [==============================] - 2s 30us/step - loss: 0.8231 - accuracy: 0.7355 - val_loss: 1.4653 - val_accuracy: 0.5033\n",
      "Epoch 39/50\n",
      "50000/50000 [==============================] - 2s 30us/step - loss: 0.8196 - accuracy: 0.7348 - val_loss: 1.4682 - val_accuracy: 0.5039\n",
      "Epoch 40/50\n",
      "50000/50000 [==============================] - 2s 31us/step - loss: 0.8169 - accuracy: 0.7375 - val_loss: 1.4690 - val_accuracy: 0.5045\n",
      "\n",
      "Epoch 00040: ReduceLROnPlateau reducing learning rate to 6.25000029685907e-05.\n",
      "Epoch 41/50\n",
      "50000/50000 [==============================] - 2s 31us/step - loss: 0.8132 - accuracy: 0.7393 - val_loss: 1.4680 - val_accuracy: 0.5034\n",
      "Epoch 42/50\n",
      "50000/50000 [==============================] - 2s 31us/step - loss: 0.8103 - accuracy: 0.7406 - val_loss: 1.4686 - val_accuracy: 0.5044\n",
      "Epoch 43/50\n",
      "50000/50000 [==============================] - 2s 30us/step - loss: 0.8076 - accuracy: 0.7412 - val_loss: 1.4704 - val_accuracy: 0.5032\n",
      "Epoch 44/50\n",
      "50000/50000 [==============================] - 2s 30us/step - loss: 0.8063 - accuracy: 0.7418 - val_loss: 1.4694 - val_accuracy: 0.5030\n",
      "Epoch 45/50\n",
      "50000/50000 [==============================] - 2s 31us/step - loss: 0.8058 - accuracy: 0.7423 - val_loss: 1.4711 - val_accuracy: 0.5046\n",
      "\n",
      "Epoch 00045: ReduceLROnPlateau reducing learning rate to 3.125000148429535e-05.\n",
      "Epoch 46/50\n",
      "50000/50000 [==============================] - 2s 30us/step - loss: 0.8039 - accuracy: 0.7426 - val_loss: 1.4712 - val_accuracy: 0.5035\n",
      "Epoch 47/50\n",
      "50000/50000 [==============================] - 2s 30us/step - loss: 0.8010 - accuracy: 0.7438 - val_loss: 1.4711 - val_accuracy: 0.5039\n",
      "Epoch 48/50\n",
      "50000/50000 [==============================] - 2s 31us/step - loss: 0.8015 - accuracy: 0.7444 - val_loss: 1.4718 - val_accuracy: 0.5033\n",
      "Epoch 49/50\n",
      "50000/50000 [==============================] - 2s 30us/step - loss: 0.7995 - accuracy: 0.7442 - val_loss: 1.4720 - val_accuracy: 0.5028\n",
      "Epoch 50/50\n",
      "50000/50000 [==============================] - 2s 31us/step - loss: 0.7996 - accuracy: 0.7447 - val_loss: 1.4724 - val_accuracy: 0.5039\n",
      "\n",
      "Epoch 00050: ReduceLROnPlateau reducing learning rate to 1.5625000742147677e-05.\n"
     ]
    }
   ],
   "source": [
    "model = build_mlp(input_shape=x_train.shape[1:])\n",
    "model.summary()\n",
    "optimizer = keras.optimizers.SGD(lr=LEARNING_RATE, nesterov=True, momentum=MOMENTUM)\n",
    "model.compile(loss=\"categorical_crossentropy\", metrics=[\"accuracy\"], optimizer=optimizer)\n",
    "\n",
    "model.fit(x_train, y_train, \n",
    "          epochs=EPOCHS, \n",
    "          batch_size=BATCH_SIZE, \n",
    "          validation_data=(x_test, y_test), \n",
    "          shuffle=True,\n",
    "          callbacks=[reduce_lr]\n",
    "         )\n",
    "\n",
    "# Collect results\n",
    "train_loss = model.history.history[\"loss\"]\n",
    "valid_loss = model.history.history[\"val_loss\"]\n",
    "train_acc = model.history.history[\"accuracy\"]\n",
    "valid_acc = model.history.history[\"val_accuracy\"]"
   ]
  },
  {
   "cell_type": "code",
   "execution_count": 9,
   "metadata": {
    "colab": {
     "base_uri": "https://localhost:8080/",
     "height": 545
    },
    "colab_type": "code",
    "id": "cjIzI-phX0lQ",
    "outputId": "3a51b7fc-1926-4261-ff34-7bb3011c31e7"
   },
   "outputs": [
    {
     "data": {
      "image/png": "[encoded data removed]",
      "text/plain": [
       "<Figure size 432x288 with 1 Axes>"
      ]
     },
     "metadata": {
      "needs_background": "light",
      "tags": []
     },
     "output_type": "display_data"
    },
    {
     "data": {
      "image/png": "[encoded data removed]",
      "text/plain": [
       "<Figure size 432x288 with 1 Axes>"
      ]
     },
     "metadata": {
      "needs_background": "light",
      "tags": []
     },
     "output_type": "display_data"
    }
   ],
   "source": [
    "import matplotlib.pyplot as plt\n",
    "%matplotlib inline\n",
    "\n",
    "plt.plot(range(len(train_loss)), train_loss, label=\"train loss\")\n",
    "plt.plot(range(len(valid_loss)), valid_loss, label=\"valid loss\")\n",
    "plt.legend()\n",
    "plt.title(\"Loss\")\n",
    "plt.show()\n",
    "\n",
    "plt.plot(range(len(train_acc)), train_acc, label=\"train accuracy\")\n",
    "plt.plot(range(len(valid_acc)), valid_acc, label=\"valid accuracy\")\n",
    "plt.legend()\n",
    "plt.title(\"Accuracy\")\n",
    "plt.show()"
   ]
  }
 ],
 "metadata": {
  "accelerator": "GPU",
  "colab": {
   "collapsed_sections": [],
   "name": "Day_087_HW.ipynb",
   "provenance": []
  },
  "kernelspec": {
   "display_name": "Python 3",
   "name": "python3"
  }
 },
 "nbformat": 4,
 "nbformat_minor": 0
}
