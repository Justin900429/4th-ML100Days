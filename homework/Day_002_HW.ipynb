{
 "cells": [
  {
   "cell_type": "markdown",
   "metadata": {},
   "source": [
    "## [作業目標]\n",
    "了解機器學習適合應用的領域與範疇。"
   ]
  },
  {
   "cell_type": "markdown",
   "metadata": {},
   "source": [
    "## [作業重點]\n",
    "透過瞭解機器學習的運作方式，找出非常適用機器學習應用的領域及其原因"
   ]
  },
  {
   "cell_type": "markdown",
   "metadata": {},
   "source": [
    "## 作業\n",
    "請找出一個你認為機器學習可以發光發熱的領域並闡述原因? "
   ]
  },
  {
   "cell_type": "markdown",
   "metadata": {},
   "source": [
    "> 我認為可以在市場分析起到非常大的用途，能幫助商家更了解哪些部分是影響自己產業最深的地方，哪些是比較不重要的地方，可以重新調配資源，增進業績。\n",
    "\n",
    "市場分析已經是現在很普偏的行為，但如果能減少人力資源，將一部份的工作交由電腦來時實現，是另一種減少成本的方式。同時利用電腦也能做到全程不間斷的應用，讓商家更能知道市場瞬間的動向，已改變策略。但困難的事，市場資料可能過於龐大，難以萃取分析，所花的成本也許會提升。不過要是真的實現，也許現金市場走向也會很不一樣！"
   ]
  }
 ],
 "metadata": {
  "kernelspec": {
   "display_name": "Python 3",
   "language": "python",
   "name": "python3"
  },
  "language_info": {
   "codemirror_mode": {
    "name": "ipython",
    "version": 3
   },
   "file_extension": ".py",
   "mimetype": "text/x-python",
   "name": "python",
   "nbconvert_exporter": "python",
   "pygments_lexer": "ipython3",
   "version": "3.7.4"
  }
 },
 "nbformat": 4,
 "nbformat_minor": 2
}
