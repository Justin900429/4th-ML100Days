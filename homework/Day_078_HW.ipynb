{
 "cells": [
  {
   "cell_type": "code",
   "execution_count": 1,
   "metadata": {
    "colab": {
     "base_uri": "https://localhost:8080/",
     "height": 34
    },
    "colab_type": "code",
    "id": "n0JUEnylTsOK",
    "outputId": "75fe9563-6689-4d0a-beb1-9a2a299e6aa5"
   },
   "outputs": [
    {
     "name": "stderr",
     "output_type": "stream",
     "text": [
      "Using TensorFlow backend.\n"
     ]
    }
   ],
   "source": [
    "import keras\n",
    "import numpy as np\n",
    "\n",
    "train, test = keras.datasets.cifar10.load_data()"
   ]
  },
  {
   "cell_type": "code",
   "execution_count": 0,
   "metadata": {
    "colab": {},
    "colab_type": "code",
    "id": "QhydexeHUMYe"
   },
   "outputs": [],
   "source": [
    "## 資料前處理\n",
    "def preproc_x(x, flatten=True):\n",
    "    if flatten:\n",
    "        x = x.reshape((len(x), -1))\n",
    "\n",
    "    x = (x - np.min(x)) / (np.max(x) - np.min(x))\n",
    "    return x\n",
    "\n",
    "def preproc_y(y, num_classes=10):\n",
    "    if y.shape[-1] == 1:\n",
    "        y = keras.utils.to_categorical(y, num_classes)\n",
    "    return y  "
   ]
  },
  {
   "cell_type": "code",
   "execution_count": 0,
   "metadata": {
    "colab": {},
    "colab_type": "code",
    "id": "D4h070WKUPJC"
   },
   "outputs": [],
   "source": [
    "x_train, y_train = train\n",
    "x_test, y_test = test\n",
    "\n",
    "# 資料前處理 - X 標準化\n",
    "x_train = preproc_x(x_train)\n",
    "x_test = preproc_x(x_test)\n",
    "\n",
    "# 資料前處理 -Y 轉成 onehot\n",
    "y_train = preproc_y(y_train)\n",
    "y_test = preproc_y(y_test)"
   ]
  },
  {
   "cell_type": "code",
   "execution_count": 0,
   "metadata": {
    "colab": {},
    "colab_type": "code",
    "id": "bPDQh6mIURf8"
   },
   "outputs": [],
   "source": [
    "def build_mlp(input_shape, output_units=10, num_neurons=[512, 256, 128, 256, 128]):\n",
    "    input_layer = keras.layers.Input(input_shape)\n",
    "    \n",
    "    for i, n_units in enumerate(num_neurons):\n",
    "        if i == 0:\n",
    "            x = keras.layers.Dense(units=n_units, activation=\"relu\", name=\"hidden_layer\"+str(i+1))(input_layer)\n",
    "        else:\n",
    "            x = keras.layers.Dense(units=n_units, activation=\"relu\", name=\"hidden_layer\"+str(i+1))(x)\n",
    "    \n",
    "    out = keras.layers.Dense(units=output_units, activation=\"softmax\", name=\"output\")(x)\n",
    "    \n",
    "    model = keras.models.Model(inputs=[input_layer], outputs=[out])\n",
    "    return model"
   ]
  },
  {
   "cell_type": "code",
   "execution_count": 0,
   "metadata": {
    "colab": {},
    "colab_type": "code",
    "id": "MjVSm8pIUTDZ"
   },
   "outputs": [],
   "source": [
    "## 超參數設定\n",
    "LEARNING_RATE = 0.001\n",
    "EPOCHS = 100\n",
    "BATCH_SIZE = 256"
   ]
  },
  {
   "cell_type": "code",
   "execution_count": 6,
   "metadata": {
    "colab": {
     "base_uri": "https://localhost:8080/",
     "height": 391
    },
    "colab_type": "code",
    "id": "FfXn6u6D0JSc",
    "outputId": "2448e95a-6692-4714-f7e8-5f11af417be0"
   },
   "outputs": [
    {
     "name": "stdout",
     "output_type": "stream",
     "text": [
      "Model: \"model_1\"\n",
      "_________________________________________________________________\n",
      "Layer (type)                 Output Shape              Param #   \n",
      "=================================================================\n",
      "input_1 (InputLayer)         (None, 3072)              0         \n",
      "_________________________________________________________________\n",
      "hidden_layer1 (Dense)        (None, 512)               1573376   \n",
      "_________________________________________________________________\n",
      "hidden_layer2 (Dense)        (None, 256)               131328    \n",
      "_________________________________________________________________\n",
      "hidden_layer3 (Dense)        (None, 128)               32896     \n",
      "_________________________________________________________________\n",
      "hidden_layer4 (Dense)        (None, 256)               33024     \n",
      "_________________________________________________________________\n",
      "hidden_layer5 (Dense)        (None, 128)               32896     \n",
      "_________________________________________________________________\n",
      "output (Dense)               (None, 10)                1290      \n",
      "=================================================================\n",
      "Total params: 1,804,810\n",
      "Trainable params: 1,804,810\n",
      "Non-trainable params: 0\n",
      "_________________________________________________________________\n"
     ]
    }
   ],
   "source": [
    "# 用 Keras 內建方法檢視模型各層參數量\n",
    "model = build_mlp(input_shape=x_train.shape[1:])\n",
    "model.summary()"
   ]
  },
  {
   "cell_type": "code",
   "execution_count": 0,
   "metadata": {
    "colab": {},
    "colab_type": "code",
    "id": "VLp-VYCM0XD0"
   },
   "outputs": [],
   "source": [
    "optimizer = keras.optimizers.Adam(lr=LEARNING_RATE)\n",
    "model.compile(loss=\"categorical_crossentropy\", metrics=[\"accuracy\"], optimizer=optimizer)"
   ]
  },
  {
   "cell_type": "code",
   "execution_count": 8,
   "metadata": {
    "colab": {
     "base_uri": "https://localhost:8080/",
     "height": 1000
    },
    "colab_type": "code",
    "id": "-71jUJdAVrf6",
    "outputId": "350c4553-6150-490d-b75e-13a3175347f3"
   },
   "outputs": [
    {
     "name": "stdout",
     "output_type": "stream",
     "text": [
      "Train on 50000 samples, validate on 10000 samples\n",
      "Epoch 1/100\n",
      "50000/50000 [==============================] - 3s 68us/step - loss: 1.9002 - accuracy: 0.3030 - val_loss: 1.7124 - val_accuracy: 0.3824\n",
      "Epoch 2/100\n",
      "50000/50000 [==============================] - 2s 33us/step - loss: 1.7015 - accuracy: 0.3877 - val_loss: 1.6596 - val_accuracy: 0.4105\n",
      "Epoch 3/100\n",
      "50000/50000 [==============================] - 2s 33us/step - loss: 1.6081 - accuracy: 0.4265 - val_loss: 1.6076 - val_accuracy: 0.4212\n",
      "Epoch 4/100\n",
      "50000/50000 [==============================] - 2s 32us/step - loss: 1.5547 - accuracy: 0.4446 - val_loss: 1.5344 - val_accuracy: 0.4528\n",
      "Epoch 5/100\n",
      "50000/50000 [==============================] - 2s 31us/step - loss: 1.5022 - accuracy: 0.4614 - val_loss: 1.5566 - val_accuracy: 0.4512\n",
      "Epoch 6/100\n",
      "50000/50000 [==============================] - 2s 32us/step - loss: 1.4675 - accuracy: 0.4767 - val_loss: 1.4956 - val_accuracy: 0.4708\n",
      "Epoch 7/100\n",
      "50000/50000 [==============================] - 2s 32us/step - loss: 1.4276 - accuracy: 0.4909 - val_loss: 1.4924 - val_accuracy: 0.4656\n",
      "Epoch 8/100\n",
      "50000/50000 [==============================] - 2s 31us/step - loss: 1.4050 - accuracy: 0.4971 - val_loss: 1.4576 - val_accuracy: 0.4829\n",
      "Epoch 9/100\n",
      "50000/50000 [==============================] - 2s 33us/step - loss: 1.3759 - accuracy: 0.5083 - val_loss: 1.4340 - val_accuracy: 0.4908\n",
      "Epoch 10/100\n",
      "50000/50000 [==============================] - 2s 32us/step - loss: 1.3471 - accuracy: 0.5161 - val_loss: 1.4305 - val_accuracy: 0.4978\n",
      "Epoch 11/100\n",
      "50000/50000 [==============================] - 2s 32us/step - loss: 1.3090 - accuracy: 0.5324 - val_loss: 1.4290 - val_accuracy: 0.5039\n",
      "Epoch 12/100\n",
      "50000/50000 [==============================] - 2s 32us/step - loss: 1.3081 - accuracy: 0.5317 - val_loss: 1.4081 - val_accuracy: 0.5061\n",
      "Epoch 13/100\n",
      "50000/50000 [==============================] - 2s 31us/step - loss: 1.2702 - accuracy: 0.5456 - val_loss: 1.4989 - val_accuracy: 0.4718\n",
      "Epoch 14/100\n",
      "50000/50000 [==============================] - 2s 31us/step - loss: 1.2476 - accuracy: 0.5547 - val_loss: 1.3931 - val_accuracy: 0.5088\n",
      "Epoch 15/100\n",
      "50000/50000 [==============================] - 2s 31us/step - loss: 1.2214 - accuracy: 0.5612 - val_loss: 1.3882 - val_accuracy: 0.5150\n",
      "Epoch 16/100\n",
      "50000/50000 [==============================] - 2s 33us/step - loss: 1.1941 - accuracy: 0.5720 - val_loss: 1.4218 - val_accuracy: 0.5140\n",
      "Epoch 17/100\n",
      "50000/50000 [==============================] - 2s 32us/step - loss: 1.1741 - accuracy: 0.5803 - val_loss: 1.4096 - val_accuracy: 0.5079\n",
      "Epoch 18/100\n",
      "50000/50000 [==============================] - 2s 32us/step - loss: 1.1507 - accuracy: 0.5866 - val_loss: 1.3786 - val_accuracy: 0.5210\n",
      "Epoch 19/100\n",
      "50000/50000 [==============================] - 2s 32us/step - loss: 1.1159 - accuracy: 0.5983 - val_loss: 1.4399 - val_accuracy: 0.5056\n",
      "Epoch 20/100\n",
      "50000/50000 [==============================] - 2s 32us/step - loss: 1.0956 - accuracy: 0.6060 - val_loss: 1.4457 - val_accuracy: 0.5052\n",
      "Epoch 21/100\n",
      "50000/50000 [==============================] - 2s 31us/step - loss: 1.0912 - accuracy: 0.6063 - val_loss: 1.4092 - val_accuracy: 0.5186\n",
      "Epoch 22/100\n",
      "50000/50000 [==============================] - 2s 32us/step - loss: 1.0552 - accuracy: 0.6207 - val_loss: 1.3844 - val_accuracy: 0.5302\n",
      "Epoch 23/100\n",
      "50000/50000 [==============================] - 2s 33us/step - loss: 1.0373 - accuracy: 0.6257 - val_loss: 1.3958 - val_accuracy: 0.5200\n",
      "Epoch 24/100\n",
      "50000/50000 [==============================] - 2s 31us/step - loss: 1.0126 - accuracy: 0.6364 - val_loss: 1.4401 - val_accuracy: 0.5146\n",
      "Epoch 25/100\n",
      "50000/50000 [==============================] - 2s 31us/step - loss: 0.9956 - accuracy: 0.6405 - val_loss: 1.4250 - val_accuracy: 0.5179\n",
      "Epoch 26/100\n",
      "50000/50000 [==============================] - 2s 32us/step - loss: 0.9632 - accuracy: 0.6516 - val_loss: 1.4581 - val_accuracy: 0.5157\n",
      "Epoch 27/100\n",
      "50000/50000 [==============================] - 2s 32us/step - loss: 0.9324 - accuracy: 0.6639 - val_loss: 1.5039 - val_accuracy: 0.5077\n",
      "Epoch 28/100\n",
      "50000/50000 [==============================] - 2s 34us/step - loss: 0.9151 - accuracy: 0.6694 - val_loss: 1.5467 - val_accuracy: 0.5002\n",
      "Epoch 29/100\n",
      "50000/50000 [==============================] - 2s 31us/step - loss: 0.9049 - accuracy: 0.6720 - val_loss: 1.5339 - val_accuracy: 0.5094\n",
      "Epoch 30/100\n",
      "50000/50000 [==============================] - 2s 33us/step - loss: 0.8783 - accuracy: 0.6821 - val_loss: 1.5109 - val_accuracy: 0.5118\n",
      "Epoch 31/100\n",
      "50000/50000 [==============================] - 2s 32us/step - loss: 0.8636 - accuracy: 0.6876 - val_loss: 1.5357 - val_accuracy: 0.5121\n",
      "Epoch 32/100\n",
      "50000/50000 [==============================] - 2s 30us/step - loss: 0.8236 - accuracy: 0.7028 - val_loss: 1.5712 - val_accuracy: 0.5124\n",
      "Epoch 33/100\n",
      "50000/50000 [==============================] - 2s 32us/step - loss: 0.8056 - accuracy: 0.7091 - val_loss: 1.5992 - val_accuracy: 0.5112\n",
      "Epoch 34/100\n",
      "50000/50000 [==============================] - 2s 30us/step - loss: 0.7749 - accuracy: 0.7191 - val_loss: 1.6722 - val_accuracy: 0.5091\n",
      "Epoch 35/100\n",
      "50000/50000 [==============================] - 2s 32us/step - loss: 0.7722 - accuracy: 0.7198 - val_loss: 1.7255 - val_accuracy: 0.4997\n",
      "Epoch 36/100\n",
      "50000/50000 [==============================] - 2s 31us/step - loss: 0.7559 - accuracy: 0.7274 - val_loss: 1.6731 - val_accuracy: 0.5143\n",
      "Epoch 37/100\n",
      "50000/50000 [==============================] - 2s 32us/step - loss: 0.7227 - accuracy: 0.7405 - val_loss: 1.7343 - val_accuracy: 0.5071\n",
      "Epoch 38/100\n",
      "50000/50000 [==============================] - 2s 34us/step - loss: 0.7069 - accuracy: 0.7436 - val_loss: 1.7666 - val_accuracy: 0.5085\n",
      "Epoch 39/100\n",
      "50000/50000 [==============================] - 2s 31us/step - loss: 0.6878 - accuracy: 0.7504 - val_loss: 1.8621 - val_accuracy: 0.4985\n",
      "Epoch 40/100\n",
      "50000/50000 [==============================] - 2s 32us/step - loss: 0.6718 - accuracy: 0.7559 - val_loss: 1.8438 - val_accuracy: 0.5080\n",
      "Epoch 41/100\n",
      "50000/50000 [==============================] - 2s 33us/step - loss: 0.6545 - accuracy: 0.7632 - val_loss: 1.8928 - val_accuracy: 0.5121\n",
      "Epoch 42/100\n",
      "50000/50000 [==============================] - 2s 33us/step - loss: 0.6329 - accuracy: 0.7695 - val_loss: 1.9413 - val_accuracy: 0.5075\n",
      "Epoch 43/100\n",
      "50000/50000 [==============================] - 2s 31us/step - loss: 0.6191 - accuracy: 0.7771 - val_loss: 1.9406 - val_accuracy: 0.5017\n",
      "Epoch 44/100\n",
      "50000/50000 [==============================] - 2s 32us/step - loss: 0.5992 - accuracy: 0.7841 - val_loss: 2.0096 - val_accuracy: 0.4891\n",
      "Epoch 45/100\n",
      "50000/50000 [==============================] - 2s 31us/step - loss: 0.5789 - accuracy: 0.7901 - val_loss: 1.9901 - val_accuracy: 0.5091\n",
      "Epoch 46/100\n",
      "50000/50000 [==============================] - 2s 33us/step - loss: 0.5791 - accuracy: 0.7897 - val_loss: 2.0077 - val_accuracy: 0.5092\n",
      "Epoch 47/100\n",
      "50000/50000 [==============================] - 2s 33us/step - loss: 0.5610 - accuracy: 0.7978 - val_loss: 2.0797 - val_accuracy: 0.5038\n",
      "Epoch 48/100\n",
      "50000/50000 [==============================] - 2s 33us/step - loss: 0.5316 - accuracy: 0.8073 - val_loss: 2.1280 - val_accuracy: 0.5102\n",
      "Epoch 49/100\n",
      "50000/50000 [==============================] - 2s 34us/step - loss: 0.5373 - accuracy: 0.8045 - val_loss: 2.1026 - val_accuracy: 0.4991\n",
      "Epoch 50/100\n",
      "50000/50000 [==============================] - 2s 33us/step - loss: 0.5078 - accuracy: 0.8178 - val_loss: 2.1749 - val_accuracy: 0.5062\n",
      "Epoch 51/100\n",
      "50000/50000 [==============================] - 2s 33us/step - loss: 0.4864 - accuracy: 0.8249 - val_loss: 2.3465 - val_accuracy: 0.4965\n",
      "Epoch 52/100\n",
      "50000/50000 [==============================] - 2s 34us/step - loss: 0.5088 - accuracy: 0.8161 - val_loss: 2.3301 - val_accuracy: 0.4994\n",
      "Epoch 53/100\n",
      "50000/50000 [==============================] - 2s 33us/step - loss: 0.4700 - accuracy: 0.8293 - val_loss: 2.2808 - val_accuracy: 0.4921\n",
      "Epoch 54/100\n",
      "50000/50000 [==============================] - 2s 32us/step - loss: 0.4714 - accuracy: 0.8304 - val_loss: 2.3609 - val_accuracy: 0.5028\n",
      "Epoch 55/100\n",
      "50000/50000 [==============================] - 2s 30us/step - loss: 0.4403 - accuracy: 0.8420 - val_loss: 2.4316 - val_accuracy: 0.5062\n",
      "Epoch 56/100\n",
      "50000/50000 [==============================] - 2s 31us/step - loss: 0.4542 - accuracy: 0.8344 - val_loss: 2.4348 - val_accuracy: 0.4963\n",
      "Epoch 57/100\n",
      "50000/50000 [==============================] - 2s 31us/step - loss: 0.4333 - accuracy: 0.8445 - val_loss: 2.5721 - val_accuracy: 0.5014\n",
      "Epoch 58/100\n",
      "50000/50000 [==============================] - 2s 30us/step - loss: 0.4148 - accuracy: 0.8490 - val_loss: 2.5664 - val_accuracy: 0.5014\n",
      "Epoch 59/100\n",
      "50000/50000 [==============================] - 2s 31us/step - loss: 0.4179 - accuracy: 0.8488 - val_loss: 2.5916 - val_accuracy: 0.4953\n",
      "Epoch 60/100\n",
      "50000/50000 [==============================] - 2s 30us/step - loss: 0.4257 - accuracy: 0.8471 - val_loss: 2.5829 - val_accuracy: 0.5016\n",
      "Epoch 61/100\n",
      "50000/50000 [==============================] - 2s 31us/step - loss: 0.4038 - accuracy: 0.8562 - val_loss: 2.6335 - val_accuracy: 0.4961\n",
      "Epoch 62/100\n",
      "50000/50000 [==============================] - 2s 30us/step - loss: 0.4002 - accuracy: 0.8552 - val_loss: 2.6219 - val_accuracy: 0.4978\n",
      "Epoch 63/100\n",
      "50000/50000 [==============================] - 2s 30us/step - loss: 0.3894 - accuracy: 0.8586 - val_loss: 2.7436 - val_accuracy: 0.4911\n",
      "Epoch 64/100\n",
      "50000/50000 [==============================] - 2s 32us/step - loss: 0.3633 - accuracy: 0.8690 - val_loss: 2.8132 - val_accuracy: 0.4878\n",
      "Epoch 65/100\n",
      "50000/50000 [==============================] - 2s 32us/step - loss: 0.4232 - accuracy: 0.8460 - val_loss: 2.7845 - val_accuracy: 0.5007\n",
      "Epoch 66/100\n",
      "50000/50000 [==============================] - 2s 32us/step - loss: 0.3328 - accuracy: 0.8809 - val_loss: 2.9455 - val_accuracy: 0.5008\n",
      "Epoch 67/100\n",
      "50000/50000 [==============================] - 2s 31us/step - loss: 0.3300 - accuracy: 0.8810 - val_loss: 2.9231 - val_accuracy: 0.5025\n",
      "Epoch 68/100\n",
      "50000/50000 [==============================] - 2s 30us/step - loss: 0.3290 - accuracy: 0.8810 - val_loss: 3.0029 - val_accuracy: 0.4995\n",
      "Epoch 69/100\n",
      "50000/50000 [==============================] - 2s 31us/step - loss: 0.3715 - accuracy: 0.8663 - val_loss: 3.0499 - val_accuracy: 0.4907\n",
      "Epoch 70/100\n",
      "50000/50000 [==============================] - 2s 31us/step - loss: 0.3547 - accuracy: 0.8712 - val_loss: 3.0795 - val_accuracy: 0.4958\n",
      "Epoch 71/100\n",
      "50000/50000 [==============================] - 2s 33us/step - loss: 0.3244 - accuracy: 0.8826 - val_loss: 3.1247 - val_accuracy: 0.4939\n",
      "Epoch 72/100\n",
      "50000/50000 [==============================] - 2s 32us/step - loss: 0.3165 - accuracy: 0.8868 - val_loss: 3.0278 - val_accuracy: 0.5010\n",
      "Epoch 73/100\n",
      "50000/50000 [==============================] - 2s 34us/step - loss: 0.2917 - accuracy: 0.8960 - val_loss: 3.1817 - val_accuracy: 0.4919\n",
      "Epoch 74/100\n",
      "50000/50000 [==============================] - 2s 31us/step - loss: 0.3395 - accuracy: 0.8800 - val_loss: 3.1140 - val_accuracy: 0.4992\n",
      "Epoch 75/100\n",
      "50000/50000 [==============================] - 2s 30us/step - loss: 0.3488 - accuracy: 0.8752 - val_loss: 3.4138 - val_accuracy: 0.4858\n",
      "Epoch 76/100\n",
      "50000/50000 [==============================] - 2s 33us/step - loss: 0.3430 - accuracy: 0.8765 - val_loss: 3.2203 - val_accuracy: 0.4956\n",
      "Epoch 77/100\n",
      "50000/50000 [==============================] - 2s 33us/step - loss: 0.3160 - accuracy: 0.8871 - val_loss: 3.2430 - val_accuracy: 0.4942\n",
      "Epoch 78/100\n",
      "50000/50000 [==============================] - 2s 31us/step - loss: 0.2884 - accuracy: 0.8950 - val_loss: 3.3874 - val_accuracy: 0.4976\n",
      "Epoch 79/100\n",
      "50000/50000 [==============================] - 2s 32us/step - loss: 0.2627 - accuracy: 0.9057 - val_loss: 3.6045 - val_accuracy: 0.4884\n",
      "Epoch 80/100\n",
      "50000/50000 [==============================] - 2s 31us/step - loss: 0.3063 - accuracy: 0.8889 - val_loss: 3.3480 - val_accuracy: 0.4901\n",
      "Epoch 81/100\n",
      "50000/50000 [==============================] - 2s 31us/step - loss: 0.2890 - accuracy: 0.8957 - val_loss: 3.4495 - val_accuracy: 0.4899\n",
      "Epoch 82/100\n",
      "50000/50000 [==============================] - 2s 32us/step - loss: 0.2631 - accuracy: 0.9056 - val_loss: 3.5732 - val_accuracy: 0.4944\n",
      "Epoch 83/100\n",
      "50000/50000 [==============================] - 2s 31us/step - loss: 0.2702 - accuracy: 0.9034 - val_loss: 3.6472 - val_accuracy: 0.4912\n",
      "Epoch 84/100\n",
      "50000/50000 [==============================] - 2s 32us/step - loss: 0.2861 - accuracy: 0.8989 - val_loss: 3.6138 - val_accuracy: 0.4907\n",
      "Epoch 85/100\n",
      "50000/50000 [==============================] - 2s 33us/step - loss: 0.3164 - accuracy: 0.8883 - val_loss: 3.6819 - val_accuracy: 0.4858\n",
      "Epoch 86/100\n",
      "50000/50000 [==============================] - 2s 33us/step - loss: 0.3028 - accuracy: 0.8932 - val_loss: 3.6704 - val_accuracy: 0.4974\n",
      "Epoch 87/100\n",
      "50000/50000 [==============================] - 2s 32us/step - loss: 0.2490 - accuracy: 0.9117 - val_loss: 3.6098 - val_accuracy: 0.4993\n",
      "Epoch 88/100\n",
      "50000/50000 [==============================] - 2s 33us/step - loss: 0.2283 - accuracy: 0.9188 - val_loss: 3.7224 - val_accuracy: 0.4990\n",
      "Epoch 89/100\n",
      "50000/50000 [==============================] - 2s 31us/step - loss: 0.2673 - accuracy: 0.9054 - val_loss: 3.7297 - val_accuracy: 0.4956\n",
      "Epoch 90/100\n",
      "50000/50000 [==============================] - 2s 33us/step - loss: 0.2387 - accuracy: 0.9158 - val_loss: 4.0189 - val_accuracy: 0.4909\n",
      "Epoch 91/100\n",
      "50000/50000 [==============================] - 2s 32us/step - loss: 0.2866 - accuracy: 0.8982 - val_loss: 3.6608 - val_accuracy: 0.4844\n",
      "Epoch 92/100\n",
      "50000/50000 [==============================] - 2s 32us/step - loss: 0.2632 - accuracy: 0.9063 - val_loss: 3.7806 - val_accuracy: 0.4921\n",
      "Epoch 93/100\n",
      "50000/50000 [==============================] - 2s 33us/step - loss: 0.2694 - accuracy: 0.9043 - val_loss: 3.8134 - val_accuracy: 0.4889\n",
      "Epoch 94/100\n",
      "50000/50000 [==============================] - 2s 32us/step - loss: 0.2826 - accuracy: 0.8996 - val_loss: 3.7981 - val_accuracy: 0.4897\n",
      "Epoch 95/100\n",
      "50000/50000 [==============================] - 2s 34us/step - loss: 0.2675 - accuracy: 0.9058 - val_loss: 3.8269 - val_accuracy: 0.4876\n",
      "Epoch 96/100\n",
      "50000/50000 [==============================] - 2s 32us/step - loss: 0.2296 - accuracy: 0.9185 - val_loss: 3.7912 - val_accuracy: 0.4841\n",
      "Epoch 97/100\n",
      "50000/50000 [==============================] - 2s 33us/step - loss: 0.2445 - accuracy: 0.9121 - val_loss: 3.8823 - val_accuracy: 0.4975\n",
      "Epoch 98/100\n",
      "50000/50000 [==============================] - 2s 33us/step - loss: 0.2179 - accuracy: 0.9219 - val_loss: 3.9659 - val_accuracy: 0.4902\n",
      "Epoch 99/100\n",
      "50000/50000 [==============================] - 2s 32us/step - loss: 0.2259 - accuracy: 0.9208 - val_loss: 3.9779 - val_accuracy: 0.4891\n",
      "Epoch 100/100\n",
      "50000/50000 [==============================] - 2s 32us/step - loss: 0.2674 - accuracy: 0.9046 - val_loss: 3.9607 - val_accuracy: 0.4969\n"
     ]
    },
    {
     "data": {
      "text/plain": [
       "<keras.callbacks.callbacks.History at 0x7fb42becd898>"
      ]
     },
     "execution_count": 8,
     "metadata": {
      "tags": []
     },
     "output_type": "execute_result"
    }
   ],
   "source": [
    "model.fit(x_train, y_train, \n",
    "          epochs=EPOCHS, \n",
    "          batch_size=BATCH_SIZE, \n",
    "          validation_data=(x_test, y_test), \n",
    "          shuffle=True)"
   ]
  },
  {
   "cell_type": "code",
   "execution_count": 9,
   "metadata": {
    "colab": {
     "base_uri": "https://localhost:8080/",
     "height": 545
    },
    "colab_type": "code",
    "id": "d_xd6DoPVupU",
    "outputId": "bf08d55c-6317-426f-ee7f-e930389cf4be"
   },
   "outputs": [
    {
     "data": {
      "image/png": "[encoded data removed]",
      "text/plain": [
       "<Figure size 432x288 with 1 Axes>"
      ]
     },
     "metadata": {
      "needs_background": "light",
      "tags": []
     },
     "output_type": "display_data"
    },
    {
     "data": {
      "image/png": "[encoded data removed]",
      "text/plain": [
       "<Figure size 432x288 with 1 Axes>"
      ]
     },
     "metadata": {
      "needs_background": "light",
      "tags": []
     },
     "output_type": "display_data"
    }
   ],
   "source": [
    "# 訓練模型並檢視驗證集的結果\n",
    "import matplotlib.pyplot as plt\n",
    "\n",
    "train_loss = model.history.history[\"loss\"]\n",
    "valid_loss = model.history.history[\"val_loss\"]\n",
    "\n",
    "train_acc = model.history.history[\"accuracy\"]\n",
    "valid_acc = model.history.history[\"val_accuracy\"]\n",
    "\n",
    "plt.plot(range(len(train_loss)), train_loss, label=\"train loss\")\n",
    "plt.plot(range(len(valid_loss)), valid_loss, label=\"valid loss\")\n",
    "plt.legend()\n",
    "plt.title(\"Loss\")\n",
    "plt.show()\n",
    "\n",
    "plt.plot(range(len(train_acc)), train_acc, label=\"train accuracy\")\n",
    "plt.plot(range(len(valid_acc)), valid_acc, label=\"valid accuracy\")\n",
    "plt.legend()\n",
    "plt.title(\"Accuracy\")\n",
    "plt.show()"
   ]
  }
 ],
 "metadata": {
  "accelerator": "GPU",
  "colab": {
   "name": "Day078_HW",
   "provenance": []
  },
  "kernelspec": {
   "display_name": "Python 3",
   "name": "python3"
  }
 },
 "nbformat": 4,
 "nbformat_minor": 0
}
