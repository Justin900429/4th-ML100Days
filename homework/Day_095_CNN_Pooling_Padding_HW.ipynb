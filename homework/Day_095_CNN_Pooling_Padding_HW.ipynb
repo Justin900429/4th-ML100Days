{
 "cells": [
  {
   "cell_type": "code",
   "execution_count": 1,
   "metadata": {
    "colab": {},
    "colab_type": "code",
    "id": "lzhROSQ5hnha"
   },
   "outputs": [],
   "source": [
    "import numpy as np\n",
    "import h5py\n",
    "import matplotlib.pyplot as plt\n",
    "\n",
    "# 繪圖結果直接顯示在Jupyter cell 之內\n",
    "%matplotlib inline  \n",
    "plt.rcParams['figure.figsize'] = (5.0, 4.0) #  設定繪圖板的大小\n",
    "plt.rcParams['image.interpolation'] = 'nearest'\n",
    "plt.rcParams['image.cmap'] = 'gray'"
   ]
  },
  {
   "cell_type": "code",
   "execution_count": 2,
   "metadata": {
    "colab": {},
    "colab_type": "code",
    "id": "Jup7sJ_Phn9T"
   },
   "outputs": [],
   "source": [
    "# GRADED FUNCTION: zero_pad\n",
    "def zero_pad(X, pad):\n",
    "    \"\"\"\n",
    "    對image X 做 zero-padding. \n",
    "    參數定義如下:\n",
    "    X -- python numpy array, 呈現維度 (m, n_H, n_W, n_C), 代表一批 m 個圖像\n",
    "         n_H: 圖高, n_W: 圖寬, n_C: color channels 數\n",
    "    pad -- 整數, 加幾圈的 zero padding.\n",
    "    Returns:\n",
    "    X_pad -- image of shape (m, n_H + 2*pad, n_W + 2*pad, n_C) 做完zero-padding 的結果\n",
    "    \"\"\"\n",
    "    \n",
    "    X_pad = np.pad(X, ((0, 0), (pad, pad), (pad, pad), (0, 0)), 'constant', constant_values=(0, 0))\n",
    "  \n",
    "    return X_pad"
   ]
  },
  {
   "cell_type": "code",
   "execution_count": 3,
   "metadata": {
    "colab": {
     "base_uri": "https://localhost:8080/",
     "height": 1000
    },
    "colab_type": "code",
    "id": "eA6WKmZThqVL",
    "outputId": "4abd0f50-20b8-41a0-f19c-0ecfd058f2a4"
   },
   "outputs": [
    {
     "name": "stdout",
     "output_type": "stream",
     "text": [
      "x.shape = (4, 3, 3, 2)\n",
      "x_pad.shape = (4, 9, 9, 2)\n",
      "x[1,1] = [[ 0.90085595 -0.68372786]\n",
      " [-0.12289023 -0.93576943]\n",
      " [-0.26788808  0.53035547]]\n",
      "x_pad[1,1] = [[0. 0.]\n",
      " [0. 0.]\n",
      " [0. 0.]\n",
      " [0. 0.]\n",
      " [0. 0.]\n",
      " [0. 0.]\n",
      " [0. 0.]\n",
      " [0. 0.]\n",
      " [0. 0.]]\n"
     ]
    },
    {
     "data": {
      "text/plain": [
       "array([[[[ 1.62434536, -0.61175641],\n",
       "         [-0.52817175, -1.07296862],\n",
       "         [ 0.86540763, -2.3015387 ]],\n",
       "\n",
       "        [[ 1.74481176, -0.7612069 ],\n",
       "         [ 0.3190391 , -0.24937038],\n",
       "         [ 1.46210794, -2.06014071]],\n",
       "\n",
       "        [[-0.3224172 , -0.38405435],\n",
       "         [ 1.13376944, -1.09989127],\n",
       "         [-0.17242821, -0.87785842]]],\n",
       "\n",
       "\n",
       "       [[[ 0.04221375,  0.58281521],\n",
       "         [-1.10061918,  1.14472371],\n",
       "         [ 0.90159072,  0.50249434]],\n",
       "\n",
       "        [[ 0.90085595, -0.68372786],\n",
       "         [-0.12289023, -0.93576943],\n",
       "         [-0.26788808,  0.53035547]],\n",
       "\n",
       "        [[-0.69166075, -0.39675353],\n",
       "         [-0.6871727 , -0.84520564],\n",
       "         [-0.67124613, -0.0126646 ]]],\n",
       "\n",
       "\n",
       "       [[[-1.11731035,  0.2344157 ],\n",
       "         [ 1.65980218,  0.74204416],\n",
       "         [-0.19183555, -0.88762896]],\n",
       "\n",
       "        [[-0.74715829,  1.6924546 ],\n",
       "         [ 0.05080775, -0.63699565],\n",
       "         [ 0.19091548,  2.10025514]],\n",
       "\n",
       "        [[ 0.12015895,  0.61720311],\n",
       "         [ 0.30017032, -0.35224985],\n",
       "         [-1.1425182 , -0.34934272]]],\n",
       "\n",
       "\n",
       "       [[[-0.20889423,  0.58662319],\n",
       "         [ 0.83898341,  0.93110208],\n",
       "         [ 0.28558733,  0.88514116]],\n",
       "\n",
       "        [[-0.75439794,  1.25286816],\n",
       "         [ 0.51292982, -0.29809284],\n",
       "         [ 0.48851815, -0.07557171]],\n",
       "\n",
       "        [[ 1.13162939,  1.51981682],\n",
       "         [ 2.18557541, -1.39649634],\n",
       "         [-1.44411381, -0.50446586]]]])"
      ]
     },
     "execution_count": 3,
     "metadata": {
      "tags": []
     },
     "output_type": "execute_result"
    },
    {
     "data": {
      "image/png": "[encoded data removed]",
      "text/plain": [
       "<Figure size 432x288 with 2 Axes>"
      ]
     },
     "metadata": {
      "needs_background": "light",
      "tags": []
     },
     "output_type": "display_data"
    }
   ],
   "source": [
    "\n",
    "np.random.seed(1)\n",
    "\n",
    "x = np.random.randn(4, 3, 3, 2)\n",
    "x_pad = zero_pad(x, 3)\n",
    "\n",
    "print (\"x.shape =\", x.shape)\n",
    "print (\"x_pad.shape =\", x_pad.shape)\n",
    "print (\"x[1,1] =\", x[1,1])\n",
    "print (\"x_pad[1,1] =\", x_pad[1,1])\n",
    "fig, axarr = plt.subplots(1, 2)\n",
    "axarr[0].set_title('x')\n",
    "axarr[0].imshow(x[0,:,:,0])\n",
    "axarr[1].set_title('x_pad')\n",
    "axarr[1].imshow(x_pad[0,:,:,0])\n",
    "\n",
    "x"
   ]
  },
  {
   "cell_type": "code",
   "execution_count": 4,
   "metadata": {
    "colab": {},
    "colab_type": "code",
    "id": "JhFnjNQUiEkn"
   },
   "outputs": [],
   "source": [
    "# GRADED FUNCTION: pool_forward\n",
    "def pool_forward(A_prev, hparameters, mode = \"max\"):\n",
    "    \"\"\"\n",
    "    設計一個前行網路的池化層\n",
    "    參數定義如下:\n",
    "    A_prev -- 輸入的numpy 陣列, 維度 (m, n_H_prev, n_W_prev, n_C_prev)\n",
    "    hparameter 超參數 --  \"f\" and \"stride\" 所形成的python 字典\n",
    "    mode -- 池化的模式: \"max\" or \"average\"\n",
    "    \n",
    "    返回:\n",
    "        A -- 輸出的池化層, 維度為 (m, n_H, n_W, n_C) 的 numpy 陣列\n",
    "        cache -- 可以應用在 backward pass pooling layer 資料, 包含 input and hparameter\n",
    "    \"\"\"\n",
    "\n",
    "    # 檢索尺寸 from the input shape\n",
    "    (m, n_H_prev, n_W_prev, n_C_prev) = A_prev.shape\n",
    "\n",
    "    # 檢索超參數 from \"hparameters\"\n",
    "    f = hparameters[\"f\"]\n",
    "    stride = hparameters[\"stride\"]\n",
    "\n",
    "    # 定義輸出的dimensions\n",
    "    n_H = int(1 + (n_H_prev - f) / stride)\n",
    "    n_W = int(1 + (n_W_prev - f) / stride)\n",
    "    n_C = n_C_prev\n",
    "\n",
    "    # 初始化輸出的 matrix A\n",
    "    A = np.zeros((m, n_H, n_W, n_C))\n",
    "\n",
    "    ### 程式起始位置 ###\n",
    "    for i in range(m): # 訓練樣本的for 迴圈\n",
    "        for h in range(n_H): # 輸出樣本的for 迴圈, 針對vertical axis\n",
    "            for w in range(n_W): #  輸出樣本的for 迴圈, 針對 horizontal axis\n",
    "                for c in range (n_C): #  輸出樣本的for 迴圈, 針對channels\n",
    "\n",
    "                    # 找出特徵圖的寬度跟高度四個點\n",
    "                    vert_start = h * stride\n",
    "                    vert_end = h * stride+ f\n",
    "                    horiz_start = w * stride\n",
    "                    horiz_end = w * stride + f\n",
    "\n",
    "                    # 定義第i個訓練示例中\n",
    "                    a_prev_slice = A_prev[i, vert_start:vert_end, horiz_start:horiz_end,c]\n",
    "\n",
    "                    # 計算輸入data 的池化結果. 使用 if statment 去做分類\n",
    "                    if mode == \"max\":\n",
    "                        A[i, h, w, c] = np.max(a_prev_slice)\n",
    "                    elif mode == \"average\":\n",
    "                        A[i, h, w, c] = np.mean(a_prev_slice)\n",
    "\n",
    "                        ### 程式結束 ###\n",
    "    \n",
    "    # 儲存輸入的特徵圖跟所設定的超參數, 可以用在 pool_backward()\n",
    "    cache = (A_prev, hparameters)\n",
    "    \n",
    "    # 確認輸出的資料維度\n",
    "    assert(A.shape == (m, n_H, n_W, n_C))\n",
    "    \n",
    "    return A, cache"
   ]
  },
  {
   "cell_type": "code",
   "execution_count": 5,
   "metadata": {
    "colab": {
     "base_uri": "https://localhost:8080/",
     "height": 476
    },
    "colab_type": "code",
    "id": "69HMJzkBiJDH",
    "outputId": "d312ba4e-8f7f-4023-c144-c806ea603e73"
   },
   "outputs": [
    {
     "name": "stdout",
     "output_type": "stream",
     "text": [
      "mode = max\n",
      "A = [[[[0.77132064 0.72175532 0.81262096]\n",
      "   [0.91777412 0.76053071 0.95339335]]\n",
      "\n",
      "  [[0.62628715 0.82868133 0.819287  ]\n",
      "   [0.8052232  0.8568503  0.90864888]]]\n",
      "\n",
      "\n",
      " [[[0.59737165 0.90283176 0.53455795]\n",
      "   [0.7738303  0.94426071 0.98762547]]\n",
      "\n",
      "  [[0.31492687 0.87991517 0.76324059]\n",
      "   [0.97881915 0.59783665 0.60557756]]]]\n",
      "\n",
      "mode = average\n",
      "A = [[[[0.53414971 0.43830164 0.49073548]\n",
      "   [0.33658671 0.63345177 0.58479554]]\n",
      "\n",
      "  [[0.42381073 0.61516966 0.52124731]\n",
      "   [0.51951363 0.44122963 0.61123451]]]\n",
      "\n",
      "\n",
      " [[[0.40163626 0.48205877 0.35885524]\n",
      "   [0.4234656  0.52895067 0.49980277]]\n",
      "\n",
      "  [[0.22524285 0.52484607 0.49453933]\n",
      "   [0.71137867 0.4119629  0.35677323]]]]\n"
     ]
    }
   ],
   "source": [
    "np.random.seed(10)\n",
    "A_prev = np.random.rand(2, 4, 4, 3)\n",
    "hparameters = {\"stride\": 2, \"f\": 2}\n",
    "\n",
    "A, cache = pool_forward(A_prev, hparameters)\n",
    "print(\"mode = max\")\n",
    "print(\"A =\", A)\n",
    "print()\n",
    "A, cache = pool_forward(A_prev, hparameters, mode = \"average\")\n",
    "print(\"mode = average\")\n",
    "print(\"A =\", A)"
   ]
  }
 ],
 "metadata": {
  "accelerator": "GPU",
  "colab": {
   "collapsed_sections": [],
   "name": "Day_095-CNN_Pooling_Padding_HW.ipynb",
   "provenance": []
  },
  "kernelspec": {
   "display_name": "Python 3",
   "name": "python3"
  }
 },
 "nbformat": 4,
 "nbformat_minor": 0
}
