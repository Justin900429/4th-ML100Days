{
 "cells": [
  {
   "cell_type": "code",
   "execution_count": 1,
   "metadata": {
    "colab": {
     "base_uri": "https://localhost:8080/",
     "height": 34
    },
    "colab_type": "code",
    "id": "5udthHJGZTIY",
    "outputId": "141ee528-7689-493a-97f0-58777bb96533"
   },
   "outputs": [
    {
     "name": "stderr",
     "output_type": "stream",
     "text": [
      "Using TensorFlow backend.\n"
     ]
    }
   ],
   "source": [
    "import os\n",
    "import keras"
   ]
  },
  {
   "cell_type": "code",
   "execution_count": 2,
   "metadata": {
    "colab": {},
    "colab_type": "code",
    "id": "35B4K92aZVj9"
   },
   "outputs": [],
   "source": [
    "train, test = keras.datasets.cifar10.load_data()"
   ]
  },
  {
   "cell_type": "code",
   "execution_count": 3,
   "metadata": {
    "colab": {},
    "colab_type": "code",
    "id": "fcvaPOFiZYoe"
   },
   "outputs": [],
   "source": [
    "## 資料前處理\n",
    "def preproc_x(x, flatten=True):\n",
    "    x = x / 255.\n",
    "    if flatten:\n",
    "        x = x.reshape((len(x), -1))\n",
    "    return x\n",
    "\n",
    "def preproc_y(y, num_classes=10):\n",
    "    if y.shape[-1] == 1:\n",
    "        y = keras.utils.to_categorical(y, num_classes)\n",
    "    return y    "
   ]
  },
  {
   "cell_type": "code",
   "execution_count": 4,
   "metadata": {
    "colab": {},
    "colab_type": "code",
    "id": "Wlrc0vYbZaYP"
   },
   "outputs": [],
   "source": [
    "x_train, y_train = train\n",
    "x_test, y_test = test\n",
    "\n",
    "# Preproc the inputs\n",
    "x_train = preproc_x(x_train)\n",
    "x_test = preproc_x(x_test)\n",
    "\n",
    "# Preprc the outputs\n",
    "y_train = preproc_y(y_train)\n",
    "y_test = preproc_y(y_test)"
   ]
  },
  {
   "cell_type": "code",
   "execution_count": 5,
   "metadata": {
    "colab": {},
    "colab_type": "code",
    "id": "dklLTbg4cKt0"
   },
   "outputs": [],
   "source": [
    "from keras.layers import BatchNormalization\n",
    "\n",
    "\"\"\"\n",
    "建立神經網路，並加入 BN layer\n",
    "\"\"\"\n",
    "def build_mlp(input_shape, output_units=10, num_neurons=[512, 256, 128]):\n",
    "    input_layer = keras.layers.Input(input_shape)\n",
    "    \n",
    "    for i, n_units in enumerate(num_neurons):\n",
    "        if i == 0:\n",
    "            x = keras.layers.Dense(units=n_units, \n",
    "                                   activation=\"relu\", \n",
    "                                   name=\"hidden_layer\"+str(i+1))(input_layer)\n",
    "            x = BatchNormalization()(x)\n",
    "        else:\n",
    "            x = keras.layers.Dense(units=n_units, \n",
    "                                   activation=\"relu\", \n",
    "                                   name=\"hidden_layer\"+str(i+1))(x)\n",
    "            x = BatchNormalization()(x)\n",
    "    \n",
    "    out = keras.layers.Dense(units=output_units, activation=\"softmax\", name=\"output\")(x)\n",
    "    \n",
    "    model = keras.models.Model(inputs=[input_layer], outputs=[out])\n",
    "    return model"
   ]
  },
  {
   "cell_type": "code",
   "execution_count": 6,
   "metadata": {
    "colab": {},
    "colab_type": "code",
    "id": "5KJ1kmG7cQGh"
   },
   "outputs": [],
   "source": [
    "## 超參數設定\n",
    "LEARNING_RATE = 1e-3\n",
    "EPOCHS = 50\n",
    "BATCH_SIZE = 1024\n",
    "MOMENTUM = 0.95"
   ]
  },
  {
   "cell_type": "code",
   "execution_count": 9,
   "metadata": {
    "colab": {},
    "colab_type": "code",
    "id": "2K5dd_BScR_h"
   },
   "outputs": [],
   "source": [
    "import tensorflow as tf\n",
    "import keras.backend as K\n",
    "\n",
    "\"\"\"\n",
    "# 撰寫自定義的 loss function: focal loss (https://blog.csdn.net/u014380165/article/details/77019084)\n",
    "\"\"\"\n",
    "def focal_loss(gamma=2., alpha=4.):\n",
    "    gamma = float(gamma)\n",
    "    alpha = float(alpha)\n",
    "    def focal_loss_fixed(y_true, y_pred):\n",
    "        \"\"\"Focal loss for multi-classification\n",
    "        FL(p_t)=-alpha(1-p_t)^{gamma}ln(p_t)\n",
    "        \"\"\"\n",
    "        epsilon = 1e-8\n",
    "        y_true = tf.convert_to_tensor(y_true, tf.float32)\n",
    "        y_pred = tf.convert_to_tensor(y_pred, tf.float32)\n",
    "\n",
    "        model_out = tf.add(y_pred, epsilon)\n",
    "        ce = tf.multiply(y_true, -tf.math.log(model_out))\n",
    "        weight = tf.multiply(y_true, tf.pow(tf.subtract(1., model_out), gamma))\n",
    "        fl = tf.multiply(alpha, tf.multiply(weight, ce))\n",
    "        reduced_fl = tf.reduce_max(fl, axis=1)\n",
    "        return tf.reduce_mean(reduced_fl)\n",
    "    return focal_loss_fixed"
   ]
  },
  {
   "cell_type": "code",
   "execution_count": 11,
   "metadata": {
    "colab": {
     "base_uri": "https://localhost:8080/",
     "height": 1000
    },
    "colab_type": "code",
    "id": "Jvpb3zefcUCP",
    "outputId": "fce1906e-265c-4838-839f-341d2a403698"
   },
   "outputs": [
    {
     "name": "stdout",
     "output_type": "stream",
     "text": [
      "Model: \"model_3\"\n",
      "_________________________________________________________________\n",
      "Layer (type)                 Output Shape              Param #   \n",
      "=================================================================\n",
      "input_3 (InputLayer)         (None, 3072)              0         \n",
      "_________________________________________________________________\n",
      "hidden_layer1 (Dense)        (None, 512)               1573376   \n",
      "_________________________________________________________________\n",
      "batch_normalization_7 (Batch (None, 512)               2048      \n",
      "_________________________________________________________________\n",
      "hidden_layer2 (Dense)        (None, 256)               131328    \n",
      "_________________________________________________________________\n",
      "batch_normalization_8 (Batch (None, 256)               1024      \n",
      "_________________________________________________________________\n",
      "hidden_layer3 (Dense)        (None, 128)               32896     \n",
      "_________________________________________________________________\n",
      "batch_normalization_9 (Batch (None, 128)               512       \n",
      "_________________________________________________________________\n",
      "output (Dense)               (None, 10)                1290      \n",
      "=================================================================\n",
      "Total params: 1,742,474\n",
      "Trainable params: 1,740,682\n",
      "Non-trainable params: 1,792\n",
      "_________________________________________________________________\n",
      "Train on 50000 samples, validate on 10000 samples\n",
      "Epoch 1/50\n",
      "50000/50000 [==============================] - 2s 39us/step - loss: 5.9932 - accuracy: 0.3318 - val_loss: 6.5212 - val_accuracy: 0.2280\n",
      "Epoch 2/50\n",
      "50000/50000 [==============================] - 2s 30us/step - loss: 4.3418 - accuracy: 0.4464 - val_loss: 5.4288 - val_accuracy: 0.3515\n",
      "Epoch 3/50\n",
      "50000/50000 [==============================] - 1s 30us/step - loss: 3.9345 - accuracy: 0.4849 - val_loss: 4.8850 - val_accuracy: 0.4017\n",
      "Epoch 4/50\n",
      "50000/50000 [==============================] - 2s 30us/step - loss: 3.6691 - accuracy: 0.5121 - val_loss: 4.4390 - val_accuracy: 0.4442\n",
      "Epoch 5/50\n",
      "50000/50000 [==============================] - 2s 30us/step - loss: 3.4598 - accuracy: 0.5303 - val_loss: 4.2566 - val_accuracy: 0.4505\n",
      "Epoch 6/50\n",
      "50000/50000 [==============================] - 2s 30us/step - loss: 3.2798 - accuracy: 0.5522 - val_loss: 4.0935 - val_accuracy: 0.4607\n",
      "Epoch 7/50\n",
      "50000/50000 [==============================] - 2s 30us/step - loss: 3.1200 - accuracy: 0.5672 - val_loss: 4.0226 - val_accuracy: 0.4706\n",
      "Epoch 8/50\n",
      "50000/50000 [==============================] - 2s 30us/step - loss: 2.9674 - accuracy: 0.5831 - val_loss: 3.9883 - val_accuracy: 0.4657\n",
      "Epoch 9/50\n",
      "50000/50000 [==============================] - 2s 30us/step - loss: 2.8309 - accuracy: 0.6001 - val_loss: 4.2698 - val_accuracy: 0.4497\n",
      "Epoch 10/50\n",
      "50000/50000 [==============================] - 1s 30us/step - loss: 2.6900 - accuracy: 0.6142 - val_loss: 3.8795 - val_accuracy: 0.4827\n",
      "Epoch 11/50\n",
      "50000/50000 [==============================] - 2s 30us/step - loss: 2.5500 - accuracy: 0.6288 - val_loss: 4.0592 - val_accuracy: 0.4731\n",
      "Epoch 12/50\n",
      "50000/50000 [==============================] - 2s 31us/step - loss: 2.4189 - accuracy: 0.6432 - val_loss: 3.9581 - val_accuracy: 0.4797\n",
      "Epoch 13/50\n",
      "50000/50000 [==============================] - 2s 31us/step - loss: 2.3033 - accuracy: 0.6567 - val_loss: 3.9319 - val_accuracy: 0.4884\n",
      "Epoch 14/50\n",
      "50000/50000 [==============================] - 1s 29us/step - loss: 2.1809 - accuracy: 0.6697 - val_loss: 4.0028 - val_accuracy: 0.4771\n",
      "Epoch 15/50\n",
      "50000/50000 [==============================] - 2s 30us/step - loss: 2.0671 - accuracy: 0.6835 - val_loss: 4.0887 - val_accuracy: 0.4739\n",
      "Epoch 16/50\n",
      "50000/50000 [==============================] - 2s 30us/step - loss: 1.9450 - accuracy: 0.6962 - val_loss: 4.0608 - val_accuracy: 0.4846\n",
      "Epoch 17/50\n",
      "50000/50000 [==============================] - 2s 30us/step - loss: 1.8302 - accuracy: 0.7123 - val_loss: 4.0112 - val_accuracy: 0.4914\n",
      "Epoch 18/50\n",
      "50000/50000 [==============================] - 2s 30us/step - loss: 1.7142 - accuracy: 0.7271 - val_loss: 4.1218 - val_accuracy: 0.4793\n",
      "Epoch 19/50\n",
      "50000/50000 [==============================] - 1s 30us/step - loss: 1.6052 - accuracy: 0.7404 - val_loss: 4.4533 - val_accuracy: 0.4681\n",
      "Epoch 20/50\n",
      "50000/50000 [==============================] - 2s 31us/step - loss: 1.5050 - accuracy: 0.7552 - val_loss: 4.2475 - val_accuracy: 0.4743\n",
      "Epoch 21/50\n",
      "50000/50000 [==============================] - 1s 30us/step - loss: 1.4013 - accuracy: 0.7665 - val_loss: 4.3157 - val_accuracy: 0.4818\n",
      "Epoch 22/50\n",
      "50000/50000 [==============================] - 1s 30us/step - loss: 1.2967 - accuracy: 0.7844 - val_loss: 4.3711 - val_accuracy: 0.4757\n",
      "Epoch 23/50\n",
      "50000/50000 [==============================] - 1s 29us/step - loss: 1.2191 - accuracy: 0.7942 - val_loss: 4.5201 - val_accuracy: 0.4750\n",
      "Epoch 24/50\n",
      "50000/50000 [==============================] - 1s 29us/step - loss: 1.1215 - accuracy: 0.8082 - val_loss: 4.5224 - val_accuracy: 0.4814\n",
      "Epoch 25/50\n",
      "50000/50000 [==============================] - 1s 29us/step - loss: 1.0311 - accuracy: 0.8226 - val_loss: 4.7664 - val_accuracy: 0.4627\n",
      "Epoch 26/50\n",
      "50000/50000 [==============================] - 1s 30us/step - loss: 0.9514 - accuracy: 0.8343 - val_loss: 4.6840 - val_accuracy: 0.4765\n",
      "Epoch 27/50\n",
      "50000/50000 [==============================] - 1s 30us/step - loss: 0.8680 - accuracy: 0.8472 - val_loss: 4.8308 - val_accuracy: 0.4633\n",
      "Epoch 28/50\n",
      "50000/50000 [==============================] - 1s 30us/step - loss: 0.7966 - accuracy: 0.8585 - val_loss: 4.8581 - val_accuracy: 0.4688\n",
      "Epoch 29/50\n",
      "50000/50000 [==============================] - 1s 29us/step - loss: 0.7334 - accuracy: 0.8691 - val_loss: 4.9182 - val_accuracy: 0.4738\n",
      "Epoch 30/50\n",
      "50000/50000 [==============================] - 1s 30us/step - loss: 0.6626 - accuracy: 0.8820 - val_loss: 5.0020 - val_accuracy: 0.4746\n",
      "Epoch 31/50\n",
      "50000/50000 [==============================] - 2s 31us/step - loss: 0.6081 - accuracy: 0.8936 - val_loss: 5.2633 - val_accuracy: 0.4715\n",
      "Epoch 32/50\n",
      "50000/50000 [==============================] - 1s 30us/step - loss: 0.5472 - accuracy: 0.9038 - val_loss: 5.2746 - val_accuracy: 0.4749\n",
      "Epoch 33/50\n",
      "50000/50000 [==============================] - 2s 31us/step - loss: 0.4981 - accuracy: 0.9121 - val_loss: 5.2852 - val_accuracy: 0.4758\n",
      "Epoch 34/50\n",
      "50000/50000 [==============================] - 2s 31us/step - loss: 0.4595 - accuracy: 0.9198 - val_loss: 5.2880 - val_accuracy: 0.4696\n",
      "Epoch 35/50\n",
      "50000/50000 [==============================] - 2s 30us/step - loss: 0.4077 - accuracy: 0.9301 - val_loss: 5.4741 - val_accuracy: 0.4726\n",
      "Epoch 36/50\n",
      "50000/50000 [==============================] - 2s 30us/step - loss: 0.3681 - accuracy: 0.9376 - val_loss: 5.4216 - val_accuracy: 0.4690\n",
      "Epoch 37/50\n",
      "50000/50000 [==============================] - 1s 30us/step - loss: 0.3328 - accuracy: 0.9439 - val_loss: 5.6131 - val_accuracy: 0.4747\n",
      "Epoch 38/50\n",
      "50000/50000 [==============================] - 1s 30us/step - loss: 0.3025 - accuracy: 0.9495 - val_loss: 5.6309 - val_accuracy: 0.4666\n",
      "Epoch 39/50\n",
      "50000/50000 [==============================] - 1s 30us/step - loss: 0.2701 - accuracy: 0.9570 - val_loss: 5.8074 - val_accuracy: 0.4689\n",
      "Epoch 40/50\n",
      "50000/50000 [==============================] - 1s 29us/step - loss: 0.2385 - accuracy: 0.9634 - val_loss: 5.9207 - val_accuracy: 0.4662\n",
      "Epoch 41/50\n",
      "50000/50000 [==============================] - 1s 30us/step - loss: 0.2171 - accuracy: 0.9676 - val_loss: 5.9685 - val_accuracy: 0.4735\n",
      "Epoch 42/50\n",
      "50000/50000 [==============================] - 1s 29us/step - loss: 0.1987 - accuracy: 0.9711 - val_loss: 5.9920 - val_accuracy: 0.4679\n",
      "Epoch 43/50\n",
      "50000/50000 [==============================] - 1s 30us/step - loss: 0.1752 - accuracy: 0.9753 - val_loss: 6.0572 - val_accuracy: 0.4663\n",
      "Epoch 44/50\n",
      "50000/50000 [==============================] - 1s 30us/step - loss: 0.1577 - accuracy: 0.9804 - val_loss: 6.0955 - val_accuracy: 0.4669\n",
      "Epoch 45/50\n",
      "50000/50000 [==============================] - 1s 30us/step - loss: 0.1401 - accuracy: 0.9828 - val_loss: 6.3091 - val_accuracy: 0.4736\n",
      "Epoch 46/50\n",
      "50000/50000 [==============================] - 1s 29us/step - loss: 0.1280 - accuracy: 0.9852 - val_loss: 6.3144 - val_accuracy: 0.4705\n",
      "Epoch 47/50\n",
      "50000/50000 [==============================] - 1s 29us/step - loss: 0.1139 - accuracy: 0.9881 - val_loss: 6.4582 - val_accuracy: 0.4755\n",
      "Epoch 48/50\n",
      "50000/50000 [==============================] - 1s 29us/step - loss: 0.1040 - accuracy: 0.9894 - val_loss: 6.3055 - val_accuracy: 0.4778\n",
      "Epoch 49/50\n",
      "50000/50000 [==============================] - 1s 30us/step - loss: 0.0936 - accuracy: 0.9910 - val_loss: 6.4569 - val_accuracy: 0.4747\n",
      "Epoch 50/50\n",
      "50000/50000 [==============================] - 1s 29us/step - loss: 0.0858 - accuracy: 0.9921 - val_loss: 6.4228 - val_accuracy: 0.4699\n"
     ]
    }
   ],
   "source": [
    "model = build_mlp(input_shape=x_train.shape[1:])\n",
    "model.summary()\n",
    "optimizer = keras.optimizers.SGD(lr=LEARNING_RATE, nesterov=True, momentum=MOMENTUM)\n",
    "\"\"\"\n",
    "# 在 compile 時，使用自定義的 loss function\n",
    "\"\"\"\n",
    "model.compile(loss=focal_loss(), metrics=[\"accuracy\"], optimizer=optimizer)\n",
    "\n",
    "model.fit(x_train, y_train, \n",
    "          epochs=EPOCHS, \n",
    "          batch_size=BATCH_SIZE, \n",
    "          validation_data=(x_test, y_test), \n",
    "          shuffle=True\n",
    "         )\n",
    "\n",
    "# Collect results\n",
    "train_loss = model.history.history[\"loss\"]\n",
    "valid_loss = model.history.history[\"val_loss\"]\n",
    "train_acc = model.history.history[\"accuracy\"]\n",
    "valid_acc = model.history.history[\"val_accuracy\"]"
   ]
  },
  {
   "cell_type": "code",
   "execution_count": 12,
   "metadata": {
    "colab": {
     "base_uri": "https://localhost:8080/",
     "height": 545
    },
    "colab_type": "code",
    "id": "GCmsCFgycctZ",
    "outputId": "be53ab71-998e-4612-dc83-fc7b92fbd9b5"
   },
   "outputs": [
    {
     "data": {
      "image/png": "[encoded data removed]",
      "text/plain": [
       "<Figure size 432x288 with 1 Axes>"
      ]
     },
     "metadata": {
      "needs_background": "light",
      "tags": []
     },
     "output_type": "display_data"
    },
    {
     "data": {
      "image/png": "[encoded data removed]",
      "text/plain": [
       "<Figure size 432x288 with 1 Axes>"
      ]
     },
     "metadata": {
      "needs_background": "light",
      "tags": []
     },
     "output_type": "display_data"
    }
   ],
   "source": [
    "import matplotlib.pyplot as plt\n",
    "%matplotlib inline\n",
    "\n",
    "plt.plot(range(len(train_loss)), train_loss, label=\"train loss\")\n",
    "plt.plot(range(len(valid_loss)), valid_loss, label=\"valid loss\")\n",
    "plt.legend()\n",
    "plt.title(\"Loss\")\n",
    "plt.show()\n",
    "\n",
    "plt.plot(range(len(train_acc)), train_acc, label=\"train accuracy\")\n",
    "plt.plot(range(len(valid_acc)), valid_acc, label=\"valid accuracy\")\n",
    "plt.legend()\n",
    "plt.title(\"Accuracy\")\n",
    "plt.show()"
   ]
  }
 ],
 "metadata": {
  "accelerator": "GPU",
  "colab": {
   "collapsed_sections": [],
   "name": "Day_089_HW.ipynb",
   "provenance": []
  },
  "kernelspec": {
   "display_name": "Python 3",
   "name": "python3"
  }
 },
 "nbformat": 4,
 "nbformat_minor": 0
}
