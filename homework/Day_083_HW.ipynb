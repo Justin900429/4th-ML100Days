{
 "cells": [
  {
   "cell_type": "code",
   "execution_count": 10,
   "metadata": {
    "colab": {},
    "colab_type": "code",
    "id": "2prBe40zIht_"
   },
   "outputs": [],
   "source": [
    "import os\n",
    "import keras\n",
    "import itertools"
   ]
  },
  {
   "cell_type": "code",
   "execution_count": 11,
   "metadata": {
    "colab": {},
    "colab_type": "code",
    "id": "sG2WAmzEIhra"
   },
   "outputs": [],
   "source": [
    "train, test = keras.datasets.cifar10.load_data()"
   ]
  },
  {
   "cell_type": "code",
   "execution_count": 12,
   "metadata": {
    "colab": {},
    "colab_type": "code",
    "id": "amgemFTFIkDQ"
   },
   "outputs": [],
   "source": [
    "## 資料前處理\n",
    "def preproc_x(x, flatten=True):\n",
    "    x = x / 255.\n",
    "    if flatten:\n",
    "        x = x.reshape((len(x), -1))\n",
    "    return x\n",
    "\n",
    "def preproc_y(y, num_classes=10):\n",
    "    if y.shape[-1] == 1:\n",
    "        y = keras.utils.to_categorical(y, num_classes)\n",
    "    return y "
   ]
  },
  {
   "cell_type": "code",
   "execution_count": 13,
   "metadata": {
    "colab": {},
    "colab_type": "code",
    "id": "8dkhCWxCIlZI"
   },
   "outputs": [],
   "source": [
    "x_train, y_train = train\n",
    "x_test, y_test = test\n",
    "\n",
    "# Preproc the inputs\n",
    "x_train = preproc_x(x_train)\n",
    "x_test = preproc_x(x_test)\n",
    "\n",
    "# Preprc the outputs\n",
    "y_train = preproc_y(y_train)\n",
    "y_test = preproc_y(y_test)"
   ]
  },
  {
   "cell_type": "code",
   "execution_count": 14,
   "metadata": {
    "colab": {},
    "colab_type": "code",
    "id": "Xbgy5ljnInQi"
   },
   "outputs": [],
   "source": [
    "from keras.layers import BatchNormalization\n",
    "\n",
    "\"\"\"\n",
    "建立神經網路，並加入 BN layer\n",
    "\"\"\"\n",
    "def build_mlp(input_shape, output_units=10, num_neurons=[512, 256, 128]):\n",
    "    input_layer = keras.layers.Input(input_shape)\n",
    "    \n",
    "    for i, n_units in enumerate(num_neurons):\n",
    "        if i == 0:\n",
    "            x = keras.layers.Dense(units=n_units, \n",
    "                                   activation=\"relu\", \n",
    "                                   name=\"hidden_layer\"+str(i+1))(input_layer)\n",
    "            x = BatchNormalization()(x)\n",
    "        else:\n",
    "            x = keras.layers.Dense(units=n_units, \n",
    "                                   activation=\"relu\", \n",
    "                                   name=\"hidden_layer\"+str(i+1))(x)\n",
    "            x = BatchNormalization()(x)\n",
    "    \n",
    "    out = keras.layers.Dense(units=output_units, activation=\"softmax\", name=\"output\")(x)\n",
    "    \n",
    "    model = keras.models.Model(inputs=[input_layer], outputs=[out])\n",
    "    return model"
   ]
  },
  {
   "cell_type": "code",
   "execution_count": 15,
   "metadata": {
    "colab": {},
    "colab_type": "code",
    "id": "WJTjP3hwIrdp"
   },
   "outputs": [],
   "source": [
    "## 超參數設定\n",
    "LEARNING_RATE = 1e-3\n",
    "EPOCHS = 50\n",
    "BATCH_SIZE = 256\n",
    "MOMENTUM = 0.95"
   ]
  },
  {
   "cell_type": "code",
   "execution_count": 16,
   "metadata": {
    "colab": {
     "base_uri": "https://localhost:8080/",
     "height": 1000
    },
    "colab_type": "code",
    "id": "7ozdt1nbI1PX",
    "outputId": "98080b61-0caa-41e4-ceab-0befd7d0e00f"
   },
   "outputs": [
    {
     "name": "stdout",
     "output_type": "stream",
     "text": [
      "Model: \"model_2\"\n",
      "_________________________________________________________________\n",
      "Layer (type)                 Output Shape              Param #   \n",
      "=================================================================\n",
      "input_2 (InputLayer)         (None, 3072)              0         \n",
      "_________________________________________________________________\n",
      "hidden_layer1 (Dense)        (None, 512)               1573376   \n",
      "_________________________________________________________________\n",
      "batch_normalization_1 (Batch (None, 512)               2048      \n",
      "_________________________________________________________________\n",
      "hidden_layer2 (Dense)        (None, 256)               131328    \n",
      "_________________________________________________________________\n",
      "batch_normalization_2 (Batch (None, 256)               1024      \n",
      "_________________________________________________________________\n",
      "hidden_layer3 (Dense)        (None, 128)               32896     \n",
      "_________________________________________________________________\n",
      "batch_normalization_3 (Batch (None, 128)               512       \n",
      "_________________________________________________________________\n",
      "output (Dense)               (None, 10)                1290      \n",
      "=================================================================\n",
      "Total params: 1,742,474\n",
      "Trainable params: 1,740,682\n",
      "Non-trainable params: 1,792\n",
      "_________________________________________________________________\n",
      "Train on 50000 samples, validate on 10000 samples\n",
      "Epoch 1/50\n",
      "50000/50000 [==============================] - 2s 38us/step - loss: 1.8773 - accuracy: 0.3603 - val_loss: 1.7450 - val_accuracy: 0.3893\n",
      "Epoch 2/50\n",
      "50000/50000 [==============================] - 2s 31us/step - loss: 1.5477 - accuracy: 0.4578 - val_loss: 1.5898 - val_accuracy: 0.4388\n",
      "Epoch 3/50\n",
      "50000/50000 [==============================] - 2s 31us/step - loss: 1.4420 - accuracy: 0.4934 - val_loss: 1.5572 - val_accuracy: 0.4545\n",
      "Epoch 4/50\n",
      "50000/50000 [==============================] - 2s 31us/step - loss: 1.3678 - accuracy: 0.5181 - val_loss: 1.5504 - val_accuracy: 0.4550\n",
      "Epoch 5/50\n",
      "50000/50000 [==============================] - 2s 31us/step - loss: 1.3106 - accuracy: 0.5383 - val_loss: 1.5324 - val_accuracy: 0.4596\n",
      "Epoch 6/50\n",
      "50000/50000 [==============================] - 2s 31us/step - loss: 1.2557 - accuracy: 0.5607 - val_loss: 1.5223 - val_accuracy: 0.4660\n",
      "Epoch 7/50\n",
      "50000/50000 [==============================] - 2s 31us/step - loss: 1.2096 - accuracy: 0.5786 - val_loss: 1.5045 - val_accuracy: 0.4754\n",
      "Epoch 8/50\n",
      "50000/50000 [==============================] - 2s 31us/step - loss: 1.1702 - accuracy: 0.5904 - val_loss: 1.4836 - val_accuracy: 0.4809\n",
      "Epoch 9/50\n",
      "50000/50000 [==============================] - 2s 31us/step - loss: 1.1299 - accuracy: 0.6073 - val_loss: 1.4610 - val_accuracy: 0.4838\n",
      "Epoch 10/50\n",
      "50000/50000 [==============================] - 2s 31us/step - loss: 1.0909 - accuracy: 0.6228 - val_loss: 1.5169 - val_accuracy: 0.4769\n",
      "Epoch 11/50\n",
      "50000/50000 [==============================] - 2s 31us/step - loss: 1.0513 - accuracy: 0.6349 - val_loss: 1.4829 - val_accuracy: 0.4796\n",
      "Epoch 12/50\n",
      "50000/50000 [==============================] - 2s 32us/step - loss: 1.0108 - accuracy: 0.6494 - val_loss: 1.4663 - val_accuracy: 0.4982\n",
      "Epoch 13/50\n",
      "50000/50000 [==============================] - 2s 32us/step - loss: 0.9794 - accuracy: 0.6601 - val_loss: 1.5039 - val_accuracy: 0.4899\n",
      "Epoch 14/50\n",
      "50000/50000 [==============================] - 2s 33us/step - loss: 0.9484 - accuracy: 0.6724 - val_loss: 1.5332 - val_accuracy: 0.4863\n",
      "Epoch 15/50\n",
      "50000/50000 [==============================] - 2s 32us/step - loss: 0.9113 - accuracy: 0.6854 - val_loss: 1.5197 - val_accuracy: 0.4871\n",
      "Epoch 16/50\n",
      "50000/50000 [==============================] - 2s 31us/step - loss: 0.8804 - accuracy: 0.6978 - val_loss: 1.5092 - val_accuracy: 0.4969\n",
      "Epoch 17/50\n",
      "50000/50000 [==============================] - 2s 31us/step - loss: 0.8480 - accuracy: 0.7069 - val_loss: 1.5921 - val_accuracy: 0.4755\n",
      "Epoch 18/50\n",
      "50000/50000 [==============================] - 2s 31us/step - loss: 0.8210 - accuracy: 0.7180 - val_loss: 1.5786 - val_accuracy: 0.4849\n",
      "Epoch 19/50\n",
      "50000/50000 [==============================] - 2s 31us/step - loss: 0.7896 - accuracy: 0.7296 - val_loss: 1.5484 - val_accuracy: 0.4952\n",
      "Epoch 20/50\n",
      "50000/50000 [==============================] - 2s 32us/step - loss: 0.7584 - accuracy: 0.7390 - val_loss: 1.7664 - val_accuracy: 0.4534\n",
      "Epoch 21/50\n",
      "50000/50000 [==============================] - 2s 31us/step - loss: 0.7313 - accuracy: 0.7494 - val_loss: 1.5862 - val_accuracy: 0.5005\n",
      "Epoch 22/50\n",
      "50000/50000 [==============================] - 2s 31us/step - loss: 0.6975 - accuracy: 0.7655 - val_loss: 1.6675 - val_accuracy: 0.4755\n",
      "Epoch 23/50\n",
      "50000/50000 [==============================] - 2s 31us/step - loss: 0.6688 - accuracy: 0.7731 - val_loss: 1.7004 - val_accuracy: 0.4766\n",
      "Epoch 24/50\n",
      "50000/50000 [==============================] - 2s 31us/step - loss: 0.6510 - accuracy: 0.7795 - val_loss: 1.7530 - val_accuracy: 0.4634\n",
      "Epoch 25/50\n",
      "50000/50000 [==============================] - 2s 31us/step - loss: 0.6283 - accuracy: 0.7874 - val_loss: 1.6997 - val_accuracy: 0.4808\n",
      "Epoch 26/50\n",
      "50000/50000 [==============================] - 2s 31us/step - loss: 0.5907 - accuracy: 0.8025 - val_loss: 1.7852 - val_accuracy: 0.4853\n",
      "Epoch 27/50\n",
      "50000/50000 [==============================] - 2s 31us/step - loss: 0.5675 - accuracy: 0.8111 - val_loss: 1.7595 - val_accuracy: 0.4796\n",
      "Epoch 28/50\n",
      "50000/50000 [==============================] - 2s 32us/step - loss: 0.5418 - accuracy: 0.8201 - val_loss: 1.8013 - val_accuracy: 0.4917\n",
      "Epoch 29/50\n",
      "50000/50000 [==============================] - 2s 31us/step - loss: 0.5183 - accuracy: 0.8288 - val_loss: 1.8027 - val_accuracy: 0.4843\n",
      "Epoch 30/50\n",
      "50000/50000 [==============================] - 2s 31us/step - loss: 0.4886 - accuracy: 0.8397 - val_loss: 2.0372 - val_accuracy: 0.4505\n",
      "Epoch 31/50\n",
      "50000/50000 [==============================] - 2s 31us/step - loss: 0.4690 - accuracy: 0.8485 - val_loss: 1.9094 - val_accuracy: 0.4692\n",
      "Epoch 32/50\n",
      "50000/50000 [==============================] - 2s 32us/step - loss: 0.4435 - accuracy: 0.8561 - val_loss: 1.8684 - val_accuracy: 0.4908\n",
      "Epoch 33/50\n",
      "50000/50000 [==============================] - 2s 31us/step - loss: 0.4219 - accuracy: 0.8648 - val_loss: 2.0145 - val_accuracy: 0.4631\n",
      "Epoch 34/50\n",
      "50000/50000 [==============================] - 2s 31us/step - loss: 0.4006 - accuracy: 0.8730 - val_loss: 2.0494 - val_accuracy: 0.4531\n",
      "Epoch 35/50\n",
      "50000/50000 [==============================] - 2s 32us/step - loss: 0.3826 - accuracy: 0.8784 - val_loss: 2.0008 - val_accuracy: 0.4728\n",
      "Epoch 36/50\n",
      "50000/50000 [==============================] - 2s 31us/step - loss: 0.3618 - accuracy: 0.8876 - val_loss: 2.0993 - val_accuracy: 0.4626\n",
      "Epoch 37/50\n",
      "50000/50000 [==============================] - 2s 32us/step - loss: 0.3433 - accuracy: 0.8949 - val_loss: 2.0813 - val_accuracy: 0.4748\n",
      "Epoch 38/50\n",
      "50000/50000 [==============================] - 2s 31us/step - loss: 0.3249 - accuracy: 0.9002 - val_loss: 2.1706 - val_accuracy: 0.4749\n",
      "Epoch 39/50\n",
      "50000/50000 [==============================] - 2s 32us/step - loss: 0.3113 - accuracy: 0.9040 - val_loss: 2.1275 - val_accuracy: 0.4791\n",
      "Epoch 40/50\n",
      "50000/50000 [==============================] - 2s 31us/step - loss: 0.2956 - accuracy: 0.9113 - val_loss: 2.0917 - val_accuracy: 0.4805\n",
      "Epoch 41/50\n",
      "50000/50000 [==============================] - 2s 32us/step - loss: 0.2793 - accuracy: 0.9163 - val_loss: 2.1781 - val_accuracy: 0.4665\n",
      "Epoch 42/50\n",
      "50000/50000 [==============================] - 2s 31us/step - loss: 0.2659 - accuracy: 0.9206 - val_loss: 2.2238 - val_accuracy: 0.4794\n",
      "Epoch 43/50\n",
      "50000/50000 [==============================] - 2s 31us/step - loss: 0.2471 - accuracy: 0.9286 - val_loss: 2.2353 - val_accuracy: 0.4810\n",
      "Epoch 44/50\n",
      "50000/50000 [==============================] - 2s 32us/step - loss: 0.2313 - accuracy: 0.9345 - val_loss: 2.2930 - val_accuracy: 0.4736\n",
      "Epoch 45/50\n",
      "50000/50000 [==============================] - 2s 32us/step - loss: 0.2205 - accuracy: 0.9382 - val_loss: 2.2880 - val_accuracy: 0.4682\n",
      "Epoch 46/50\n",
      "50000/50000 [==============================] - 2s 32us/step - loss: 0.2056 - accuracy: 0.9435 - val_loss: 2.3688 - val_accuracy: 0.4707\n",
      "Epoch 47/50\n",
      "50000/50000 [==============================] - 2s 31us/step - loss: 0.1978 - accuracy: 0.9445 - val_loss: 2.5260 - val_accuracy: 0.4583\n",
      "Epoch 48/50\n",
      "50000/50000 [==============================] - 2s 32us/step - loss: 0.2036 - accuracy: 0.9413 - val_loss: 2.5607 - val_accuracy: 0.4529\n",
      "Epoch 49/50\n",
      "50000/50000 [==============================] - 2s 32us/step - loss: 0.1793 - accuracy: 0.9505 - val_loss: 2.4172 - val_accuracy: 0.4739\n",
      "Epoch 50/50\n",
      "50000/50000 [==============================] - 2s 32us/step - loss: 0.1749 - accuracy: 0.9521 - val_loss: 2.4169 - val_accuracy: 0.4748\n"
     ]
    },
    {
     "data": {
      "text/plain": [
       "<keras.callbacks.callbacks.History at 0x7f1faa9db208>"
      ]
     },
     "execution_count": 16,
     "metadata": {
      "tags": []
     },
     "output_type": "execute_result"
    }
   ],
   "source": [
    "model = build_mlp(input_shape=x_train.shape[1:])\n",
    "model.summary()\n",
    "optimizer = keras.optimizers.SGD(lr=LEARNING_RATE, nesterov=True, momentum=MOMENTUM)\n",
    "model.compile(loss=\"categorical_crossentropy\", metrics=[\"accuracy\"], optimizer=optimizer)\n",
    "\n",
    "model.fit(x_train, y_train, \n",
    "          epochs=EPOCHS, \n",
    "          batch_size=BATCH_SIZE, \n",
    "          validation_data=(x_test, y_test), \n",
    "          shuffle=True)"
   ]
  },
  {
   "cell_type": "code",
   "execution_count": 17,
   "metadata": {
    "colab": {},
    "colab_type": "code",
    "id": "mZSXcKh8I4S-"
   },
   "outputs": [],
   "source": [
    "# Collect results\n",
    "train_loss = model.history.history[\"loss\"]\n",
    "valid_loss = model.history.history[\"val_loss\"]\n",
    "train_acc = model.history.history[\"accuracy\"]\n",
    "valid_acc = model.history.history[\"val_accuracy\"]"
   ]
  },
  {
   "cell_type": "code",
   "execution_count": 18,
   "metadata": {
    "colab": {
     "base_uri": "https://localhost:8080/",
     "height": 545
    },
    "colab_type": "code",
    "id": "7YomHy4NI9rQ",
    "outputId": "c32d8646-af3c-42e8-f23c-d24a42caf7eb"
   },
   "outputs": [
    {
     "data": {
      "image/png": "[encoded data removed]",
      "text/plain": [
       "<Figure size 432x288 with 1 Axes>"
      ]
     },
     "metadata": {
      "needs_background": "light",
      "tags": []
     },
     "output_type": "display_data"
    },
    {
     "data": {
      "image/png": "[encoded data removed]",
      "text/plain": [
       "<Figure size 432x288 with 1 Axes>"
      ]
     },
     "metadata": {
      "needs_background": "light",
      "tags": []
     },
     "output_type": "display_data"
    }
   ],
   "source": [
    "import matplotlib.pyplot as plt\n",
    "%matplotlib inline\n",
    "\n",
    "plt.plot(range(len(train_loss)), train_loss, label=\"train loss\")\n",
    "plt.plot(range(len(valid_loss)), valid_loss, label=\"valid loss\")\n",
    "plt.legend()\n",
    "plt.title(\"Loss\")\n",
    "plt.show()\n",
    "\n",
    "plt.plot(range(len(train_acc)), train_acc, label=\"train accuracy\")\n",
    "plt.plot(range(len(valid_acc)), valid_acc, label=\"valid accuracy\")\n",
    "plt.legend()\n",
    "plt.title(\"Accuracy\")\n",
    "plt.show()"
   ]
  }
 ],
 "metadata": {
  "accelerator": "GPU",
  "colab": {
   "collapsed_sections": [],
   "name": "Day_083_HW.ipynb",
   "provenance": []
  },
  "kernelspec": {
   "display_name": "Python 3",
   "name": "python3"
  }
 },
 "nbformat": 4,
 "nbformat_minor": 0
}
