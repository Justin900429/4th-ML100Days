{
 "cells": [
  {
   "cell_type": "code",
   "execution_count": 1,
   "metadata": {
    "colab": {
     "base_uri": "https://localhost:8080/",
     "height": 34
    },
    "colab_type": "code",
    "id": "s-RWjIGfNyD0",
    "outputId": "202fcd73-f4e6-4b90-b12b-5acca5a6351d"
   },
   "outputs": [
    {
     "name": "stderr",
     "output_type": "stream",
     "text": [
      "Using TensorFlow backend.\n"
     ]
    }
   ],
   "source": [
    "import os\n",
    "import keras"
   ]
  },
  {
   "cell_type": "code",
   "execution_count": 2,
   "metadata": {
    "colab": {},
    "colab_type": "code",
    "id": "j9Nc1XOqNz-p"
   },
   "outputs": [],
   "source": [
    "train, test = keras.datasets.cifar10.load_data()"
   ]
  },
  {
   "cell_type": "code",
   "execution_count": 3,
   "metadata": {
    "colab": {},
    "colab_type": "code",
    "id": "W-23etDMN2aj"
   },
   "outputs": [],
   "source": [
    "## 資料前處理\n",
    "def preproc_x(x, flatten=True):\n",
    "    x = x / 255.\n",
    "    if flatten:\n",
    "        x = x.reshape((len(x), -1))\n",
    "    return x\n",
    "\n",
    "def preproc_y(y, num_classes=10):\n",
    "    if y.shape[-1] == 1:\n",
    "        y = keras.utils.to_categorical(y, num_classes)\n",
    "    return y  "
   ]
  },
  {
   "cell_type": "code",
   "execution_count": 4,
   "metadata": {
    "colab": {},
    "colab_type": "code",
    "id": "CGwmFDY_N4EQ"
   },
   "outputs": [],
   "source": [
    "x_train, y_train = train\n",
    "x_test, y_test = test\n",
    "\n",
    "# 資料前處理 - X 標準化\n",
    "x_train = preproc_x(x_train)\n",
    "x_test = preproc_x(x_test)\n",
    "\n",
    "# 資料前處理 -Y 轉成 onehot\n",
    "y_train = preproc_y(y_train)\n",
    "y_test = preproc_y(y_test)"
   ]
  },
  {
   "cell_type": "code",
   "execution_count": 5,
   "metadata": {
    "colab": {},
    "colab_type": "code",
    "id": "vzHl_M2TN67I"
   },
   "outputs": [],
   "source": [
    "from keras.layers import BatchNormalization\n",
    "\n",
    "\"\"\"\n",
    "建立神經網路，並加入 BN layer\n",
    "\"\"\"\n",
    "def build_mlp(input_shape, output_units=10, num_neurons=[512, 256, 128]):\n",
    "    input_layer = keras.layers.Input(input_shape)\n",
    "    \n",
    "    for i, n_units in enumerate(num_neurons):\n",
    "        if i == 0:\n",
    "            x = keras.layers.Dense(units=n_units, \n",
    "                                   activation=\"relu\", \n",
    "                                   name=\"hidden_layer\"+str(i+1))(input_layer)\n",
    "            x = BatchNormalization()(x)\n",
    "        else:\n",
    "            x = keras.layers.Dense(units=n_units, \n",
    "                                   activation=\"relu\", \n",
    "                                   name=\"hidden_layer\"+str(i+1))(x)\n",
    "            x = BatchNormalization()(x)\n",
    "    \n",
    "    out = keras.layers.Dense(units=output_units, activation=\"softmax\", name=\"output\")(x)\n",
    "    \n",
    "    model = keras.models.Model(inputs=[input_layer], outputs=[out])\n",
    "    return model"
   ]
  },
  {
   "cell_type": "code",
   "execution_count": 6,
   "metadata": {
    "colab": {},
    "colab_type": "code",
    "id": "jmhl9bDIN-z3"
   },
   "outputs": [],
   "source": [
    "## 超參數設定\n",
    "LEARNING_RATE = 1e-3\n",
    "EPOCHS = 50\n",
    "BATCH_SIZE = 1024\n",
    "MOMENTUM = 0.95"
   ]
  },
  {
   "cell_type": "code",
   "execution_count": 7,
   "metadata": {
    "colab": {},
    "colab_type": "code",
    "id": "bHWDoGpiOBln"
   },
   "outputs": [],
   "source": [
    "\"\"\"\n",
    "# 載入 Callbacks, 並將 monitor 設定為監控 validation loss\n",
    "\"\"\"\n",
    "from keras.callbacks import EarlyStopping\n",
    "\n",
    "earlystop = EarlyStopping(monitor=\"val_loss\", \n",
    "                          patience=10, \n",
    "                          verbose=1\n",
    "                          )"
   ]
  },
  {
   "cell_type": "code",
   "execution_count": 8,
   "metadata": {
    "colab": {
     "base_uri": "https://localhost:8080/",
     "height": 1000
    },
    "colab_type": "code",
    "id": "QjZGyt7AOMg5",
    "outputId": "74b78463-fe02-4ed6-c7f7-f58659db7ab9"
   },
   "outputs": [
    {
     "name": "stdout",
     "output_type": "stream",
     "text": [
      "Model: \"model_1\"\n",
      "_________________________________________________________________\n",
      "Layer (type)                 Output Shape              Param #   \n",
      "=================================================================\n",
      "input_1 (InputLayer)         (None, 3072)              0         \n",
      "_________________________________________________________________\n",
      "hidden_layer1 (Dense)        (None, 512)               1573376   \n",
      "_________________________________________________________________\n",
      "batch_normalization_1 (Batch (None, 512)               2048      \n",
      "_________________________________________________________________\n",
      "hidden_layer2 (Dense)        (None, 256)               131328    \n",
      "_________________________________________________________________\n",
      "batch_normalization_2 (Batch (None, 256)               1024      \n",
      "_________________________________________________________________\n",
      "hidden_layer3 (Dense)        (None, 128)               32896     \n",
      "_________________________________________________________________\n",
      "batch_normalization_3 (Batch (None, 128)               512       \n",
      "_________________________________________________________________\n",
      "output (Dense)               (None, 10)                1290      \n",
      "=================================================================\n",
      "Total params: 1,742,474\n",
      "Trainable params: 1,740,682\n",
      "Non-trainable params: 1,792\n",
      "_________________________________________________________________\n",
      "Train on 50000 samples, validate on 10000 samples\n",
      "Epoch 1/50\n",
      "50000/50000 [==============================] - 1s 30us/step - loss: 2.1703 - accuracy: 0.2819 - val_loss: 2.0974 - val_accuracy: 0.2433\n",
      "Epoch 2/50\n",
      "50000/50000 [==============================] - 1s 20us/step - loss: 1.7364 - accuracy: 0.3922 - val_loss: 1.9507 - val_accuracy: 0.3152\n",
      "Epoch 3/50\n",
      "50000/50000 [==============================] - 1s 20us/step - loss: 1.6154 - accuracy: 0.4345 - val_loss: 1.8285 - val_accuracy: 0.3542\n",
      "Epoch 4/50\n",
      "50000/50000 [==============================] - 1s 19us/step - loss: 1.5447 - accuracy: 0.4588 - val_loss: 1.7194 - val_accuracy: 0.4028\n",
      "Epoch 5/50\n",
      "50000/50000 [==============================] - 1s 20us/step - loss: 1.4868 - accuracy: 0.4788 - val_loss: 1.6292 - val_accuracy: 0.4309\n",
      "Epoch 6/50\n",
      "50000/50000 [==============================] - 1s 20us/step - loss: 1.4415 - accuracy: 0.4953 - val_loss: 1.5826 - val_accuracy: 0.4439\n",
      "Epoch 7/50\n",
      "50000/50000 [==============================] - 1s 20us/step - loss: 1.4012 - accuracy: 0.5114 - val_loss: 1.5579 - val_accuracy: 0.4536\n",
      "Epoch 8/50\n",
      "50000/50000 [==============================] - 1s 20us/step - loss: 1.3659 - accuracy: 0.5241 - val_loss: 1.5265 - val_accuracy: 0.4621\n",
      "Epoch 9/50\n",
      "50000/50000 [==============================] - 1s 20us/step - loss: 1.3330 - accuracy: 0.5361 - val_loss: 1.5004 - val_accuracy: 0.4729\n",
      "Epoch 10/50\n",
      "50000/50000 [==============================] - 1s 20us/step - loss: 1.3012 - accuracy: 0.5487 - val_loss: 1.4923 - val_accuracy: 0.4684\n",
      "Epoch 11/50\n",
      "50000/50000 [==============================] - 1s 20us/step - loss: 1.2726 - accuracy: 0.5572 - val_loss: 1.4804 - val_accuracy: 0.4833\n",
      "Epoch 12/50\n",
      "50000/50000 [==============================] - 1s 20us/step - loss: 1.2457 - accuracy: 0.5693 - val_loss: 1.4704 - val_accuracy: 0.4820\n",
      "Epoch 13/50\n",
      "50000/50000 [==============================] - 1s 20us/step - loss: 1.2194 - accuracy: 0.5787 - val_loss: 1.4719 - val_accuracy: 0.4832\n",
      "Epoch 14/50\n",
      "50000/50000 [==============================] - 1s 20us/step - loss: 1.1935 - accuracy: 0.5880 - val_loss: 1.4676 - val_accuracy: 0.4839\n",
      "Epoch 15/50\n",
      "50000/50000 [==============================] - 1s 20us/step - loss: 1.1697 - accuracy: 0.5977 - val_loss: 1.4626 - val_accuracy: 0.4869\n",
      "Epoch 16/50\n",
      "50000/50000 [==============================] - 1s 20us/step - loss: 1.1441 - accuracy: 0.6066 - val_loss: 1.4693 - val_accuracy: 0.4897\n",
      "Epoch 17/50\n",
      "50000/50000 [==============================] - 1s 20us/step - loss: 1.1222 - accuracy: 0.6150 - val_loss: 1.4576 - val_accuracy: 0.4908\n",
      "Epoch 18/50\n",
      "50000/50000 [==============================] - 1s 20us/step - loss: 1.0985 - accuracy: 0.6245 - val_loss: 1.4699 - val_accuracy: 0.4843\n",
      "Epoch 19/50\n",
      "50000/50000 [==============================] - 1s 20us/step - loss: 1.0756 - accuracy: 0.6334 - val_loss: 1.4623 - val_accuracy: 0.4919\n",
      "Epoch 20/50\n",
      "50000/50000 [==============================] - 1s 20us/step - loss: 1.0563 - accuracy: 0.6394 - val_loss: 1.4573 - val_accuracy: 0.4914\n",
      "Epoch 21/50\n",
      "50000/50000 [==============================] - 1s 20us/step - loss: 1.0330 - accuracy: 0.6496 - val_loss: 1.4566 - val_accuracy: 0.4964\n",
      "Epoch 22/50\n",
      "50000/50000 [==============================] - 1s 19us/step - loss: 1.0130 - accuracy: 0.6572 - val_loss: 1.4725 - val_accuracy: 0.4904\n",
      "Epoch 23/50\n",
      "50000/50000 [==============================] - 1s 20us/step - loss: 0.9915 - accuracy: 0.6641 - val_loss: 1.4593 - val_accuracy: 0.4959\n",
      "Epoch 24/50\n",
      "50000/50000 [==============================] - 1s 19us/step - loss: 0.9723 - accuracy: 0.6731 - val_loss: 1.4744 - val_accuracy: 0.4931\n",
      "Epoch 25/50\n",
      "50000/50000 [==============================] - 1s 20us/step - loss: 0.9526 - accuracy: 0.6794 - val_loss: 1.4732 - val_accuracy: 0.4932\n",
      "Epoch 26/50\n",
      "50000/50000 [==============================] - 1s 20us/step - loss: 0.9321 - accuracy: 0.6881 - val_loss: 1.4686 - val_accuracy: 0.4936\n",
      "Epoch 27/50\n",
      "50000/50000 [==============================] - 1s 20us/step - loss: 0.9101 - accuracy: 0.6956 - val_loss: 1.4625 - val_accuracy: 0.4958\n",
      "Epoch 28/50\n",
      "50000/50000 [==============================] - 1s 20us/step - loss: 0.8902 - accuracy: 0.7034 - val_loss: 1.4794 - val_accuracy: 0.4954\n",
      "Epoch 29/50\n",
      "50000/50000 [==============================] - 1s 20us/step - loss: 0.8697 - accuracy: 0.7131 - val_loss: 1.4618 - val_accuracy: 0.5014\n",
      "Epoch 30/50\n",
      "50000/50000 [==============================] - 1s 20us/step - loss: 0.8505 - accuracy: 0.7196 - val_loss: 1.4796 - val_accuracy: 0.4992\n",
      "Epoch 31/50\n",
      "50000/50000 [==============================] - 1s 20us/step - loss: 0.8322 - accuracy: 0.7277 - val_loss: 1.4960 - val_accuracy: 0.4949\n",
      "Epoch 00031: early stopping\n"
     ]
    }
   ],
   "source": [
    "model = build_mlp(input_shape=x_train.shape[1:])\n",
    "model.summary()\n",
    "optimizer = keras.optimizers.SGD(lr=LEARNING_RATE, nesterov=True, momentum=MOMENTUM)\n",
    "model.compile(loss=\"categorical_crossentropy\", metrics=[\"accuracy\"], optimizer=optimizer)\n",
    "\n",
    "model.fit(x_train, y_train, \n",
    "          epochs=EPOCHS, \n",
    "          batch_size=BATCH_SIZE, \n",
    "          validation_data=(x_test, y_test), \n",
    "          shuffle=True,\n",
    "          callbacks=[earlystop]\n",
    "         )\n",
    "\n",
    "# Collect results\n",
    "train_loss = model.history.history[\"loss\"]\n",
    "valid_loss = model.history.history[\"val_loss\"]\n",
    "train_acc = model.history.history[\"accuracy\"]\n",
    "valid_acc = model.history.history[\"val_accuracy\"]"
   ]
  },
  {
   "cell_type": "code",
   "execution_count": 9,
   "metadata": {
    "colab": {
     "base_uri": "https://localhost:8080/",
     "height": 545
    },
    "colab_type": "code",
    "id": "Iz0a30jAOOSB",
    "outputId": "38a313a4-4048-40d5-9a20-0412966f16e0"
   },
   "outputs": [
    {
     "data": {
      "image/png": "[encoded data removed]",
      "text/plain": [
       "<Figure size 432x288 with 1 Axes>"
      ]
     },
     "metadata": {
      "needs_background": "light",
      "tags": []
     },
     "output_type": "display_data"
    },
    {
     "data": {
      "image/png": "[encoded data removed]",
      "text/plain": [
       "<Figure size 432x288 with 1 Axes>"
      ]
     },
     "metadata": {
      "needs_background": "light",
      "tags": []
     },
     "output_type": "display_data"
    }
   ],
   "source": [
    "import matplotlib.pyplot as plt\n",
    "%matplotlib inline\n",
    "\n",
    "plt.plot(range(len(train_loss)), train_loss, label=\"train loss\")\n",
    "plt.plot(range(len(valid_loss)), valid_loss, label=\"valid loss\")\n",
    "plt.legend()\n",
    "plt.title(\"Loss\")\n",
    "plt.show()\n",
    "\n",
    "plt.plot(range(len(train_acc)), train_acc, label=\"train accuracy\")\n",
    "plt.plot(range(len(valid_acc)), valid_acc, label=\"valid accuracy\")\n",
    "plt.legend()\n",
    "plt.title(\"Accuracy\")\n",
    "plt.show()"
   ]
  },
  {
   "cell_type": "code",
   "execution_count": 10,
   "metadata": {
    "colab": {},
    "colab_type": "code",
    "id": "FV8y-ckWORxF"
   },
   "outputs": [],
   "source": [
    "\"\"\"\n",
    "# 載入 Callbacks, 並將 monitor 設定為監控 validation loss\n",
    "\"\"\"\n",
    "from keras.callbacks import EarlyStopping\n",
    "\n",
    "earlystop = EarlyStopping(monitor=\"val_loss\", \n",
    "                          patience=25, \n",
    "                          verbose=1\n",
    "                          )"
   ]
  },
  {
   "cell_type": "code",
   "execution_count": 11,
   "metadata": {
    "colab": {
     "base_uri": "https://localhost:8080/",
     "height": 1000
    },
    "colab_type": "code",
    "id": "BVYCLcmKOXss",
    "outputId": "bf176901-3852-40f6-f88b-61ae51462627"
   },
   "outputs": [
    {
     "name": "stdout",
     "output_type": "stream",
     "text": [
      "Model: \"model_2\"\n",
      "_________________________________________________________________\n",
      "Layer (type)                 Output Shape              Param #   \n",
      "=================================================================\n",
      "input_2 (InputLayer)         (None, 3072)              0         \n",
      "_________________________________________________________________\n",
      "hidden_layer1 (Dense)        (None, 512)               1573376   \n",
      "_________________________________________________________________\n",
      "batch_normalization_4 (Batch (None, 512)               2048      \n",
      "_________________________________________________________________\n",
      "hidden_layer2 (Dense)        (None, 256)               131328    \n",
      "_________________________________________________________________\n",
      "batch_normalization_5 (Batch (None, 256)               1024      \n",
      "_________________________________________________________________\n",
      "hidden_layer3 (Dense)        (None, 128)               32896     \n",
      "_________________________________________________________________\n",
      "batch_normalization_6 (Batch (None, 128)               512       \n",
      "_________________________________________________________________\n",
      "output (Dense)               (None, 10)                1290      \n",
      "=================================================================\n",
      "Total params: 1,742,474\n",
      "Trainable params: 1,740,682\n",
      "Non-trainable params: 1,792\n",
      "_________________________________________________________________\n",
      "Train on 50000 samples, validate on 10000 samples\n",
      "Epoch 1/50\n",
      "50000/50000 [==============================] - 1s 27us/step - loss: 2.2170 - accuracy: 0.2689 - val_loss: 2.1144 - val_accuracy: 0.2266\n",
      "Epoch 2/50\n",
      "50000/50000 [==============================] - 1s 20us/step - loss: 1.7317 - accuracy: 0.3921 - val_loss: 1.9652 - val_accuracy: 0.2761\n",
      "Epoch 3/50\n",
      "50000/50000 [==============================] - 1s 21us/step - loss: 1.6108 - accuracy: 0.4363 - val_loss: 1.8576 - val_accuracy: 0.3154\n",
      "Epoch 4/50\n",
      "50000/50000 [==============================] - 1s 20us/step - loss: 1.5406 - accuracy: 0.4603 - val_loss: 1.7265 - val_accuracy: 0.3822\n",
      "Epoch 5/50\n",
      "50000/50000 [==============================] - 1s 20us/step - loss: 1.4861 - accuracy: 0.4784 - val_loss: 1.6580 - val_accuracy: 0.4065\n",
      "Epoch 6/50\n",
      "50000/50000 [==============================] - 1s 20us/step - loss: 1.4441 - accuracy: 0.4937 - val_loss: 1.5924 - val_accuracy: 0.4347\n",
      "Epoch 7/50\n",
      "50000/50000 [==============================] - 1s 20us/step - loss: 1.4062 - accuracy: 0.5047 - val_loss: 1.5635 - val_accuracy: 0.4463\n",
      "Epoch 8/50\n",
      "50000/50000 [==============================] - 1s 20us/step - loss: 1.3720 - accuracy: 0.5183 - val_loss: 1.5316 - val_accuracy: 0.4562\n",
      "Epoch 9/50\n",
      "50000/50000 [==============================] - 1s 20us/step - loss: 1.3384 - accuracy: 0.5305 - val_loss: 1.5375 - val_accuracy: 0.4508\n",
      "Epoch 10/50\n",
      "50000/50000 [==============================] - 1s 20us/step - loss: 1.3077 - accuracy: 0.5422 - val_loss: 1.4929 - val_accuracy: 0.4694\n",
      "Epoch 11/50\n",
      "50000/50000 [==============================] - 1s 20us/step - loss: 1.2817 - accuracy: 0.5505 - val_loss: 1.5045 - val_accuracy: 0.4669\n",
      "Epoch 12/50\n",
      "50000/50000 [==============================] - 1s 20us/step - loss: 1.2569 - accuracy: 0.5613 - val_loss: 1.4965 - val_accuracy: 0.4726\n",
      "Epoch 13/50\n",
      "50000/50000 [==============================] - 1s 20us/step - loss: 1.2301 - accuracy: 0.5705 - val_loss: 1.4737 - val_accuracy: 0.4811\n",
      "Epoch 14/50\n",
      "50000/50000 [==============================] - 1s 20us/step - loss: 1.2053 - accuracy: 0.5826 - val_loss: 1.4686 - val_accuracy: 0.4874\n",
      "Epoch 15/50\n",
      "50000/50000 [==============================] - 1s 20us/step - loss: 1.1817 - accuracy: 0.5908 - val_loss: 1.4664 - val_accuracy: 0.4828\n",
      "Epoch 16/50\n",
      "50000/50000 [==============================] - 1s 20us/step - loss: 1.1581 - accuracy: 0.5984 - val_loss: 1.4719 - val_accuracy: 0.4792\n",
      "Epoch 17/50\n",
      "50000/50000 [==============================] - 1s 20us/step - loss: 1.1351 - accuracy: 0.6082 - val_loss: 1.4642 - val_accuracy: 0.4899\n",
      "Epoch 18/50\n",
      "50000/50000 [==============================] - 1s 20us/step - loss: 1.1145 - accuracy: 0.6158 - val_loss: 1.4827 - val_accuracy: 0.4835\n",
      "Epoch 19/50\n",
      "50000/50000 [==============================] - 1s 20us/step - loss: 1.0950 - accuracy: 0.6229 - val_loss: 1.4513 - val_accuracy: 0.4926\n",
      "Epoch 20/50\n",
      "50000/50000 [==============================] - 1s 20us/step - loss: 1.0730 - accuracy: 0.6313 - val_loss: 1.4657 - val_accuracy: 0.4872\n",
      "Epoch 21/50\n",
      "50000/50000 [==============================] - 1s 20us/step - loss: 1.0502 - accuracy: 0.6398 - val_loss: 1.4679 - val_accuracy: 0.4879\n",
      "Epoch 22/50\n",
      "50000/50000 [==============================] - 1s 20us/step - loss: 1.0284 - accuracy: 0.6490 - val_loss: 1.4716 - val_accuracy: 0.4823\n",
      "Epoch 23/50\n",
      "50000/50000 [==============================] - 1s 20us/step - loss: 1.0099 - accuracy: 0.6567 - val_loss: 1.4772 - val_accuracy: 0.4860\n",
      "Epoch 24/50\n",
      "50000/50000 [==============================] - 1s 20us/step - loss: 0.9881 - accuracy: 0.6659 - val_loss: 1.4789 - val_accuracy: 0.4823\n",
      "Epoch 25/50\n",
      "50000/50000 [==============================] - 1s 20us/step - loss: 0.9677 - accuracy: 0.6726 - val_loss: 1.4733 - val_accuracy: 0.4916\n",
      "Epoch 26/50\n",
      "50000/50000 [==============================] - 1s 20us/step - loss: 0.9471 - accuracy: 0.6806 - val_loss: 1.4625 - val_accuracy: 0.4968\n",
      "Epoch 27/50\n",
      "50000/50000 [==============================] - 1s 20us/step - loss: 0.9269 - accuracy: 0.6896 - val_loss: 1.4758 - val_accuracy: 0.4937\n",
      "Epoch 28/50\n",
      "50000/50000 [==============================] - 1s 19us/step - loss: 0.9094 - accuracy: 0.6958 - val_loss: 1.4791 - val_accuracy: 0.4899\n",
      "Epoch 29/50\n",
      "50000/50000 [==============================] - 1s 20us/step - loss: 0.8880 - accuracy: 0.7039 - val_loss: 1.4848 - val_accuracy: 0.4887\n",
      "Epoch 30/50\n",
      "50000/50000 [==============================] - 1s 19us/step - loss: 0.8706 - accuracy: 0.7103 - val_loss: 1.4949 - val_accuracy: 0.4810\n",
      "Epoch 31/50\n",
      "50000/50000 [==============================] - 1s 20us/step - loss: 0.8506 - accuracy: 0.7196 - val_loss: 1.5039 - val_accuracy: 0.4870\n",
      "Epoch 32/50\n",
      "50000/50000 [==============================] - 1s 20us/step - loss: 0.8304 - accuracy: 0.7277 - val_loss: 1.4969 - val_accuracy: 0.4927\n",
      "Epoch 33/50\n",
      "50000/50000 [==============================] - 1s 20us/step - loss: 0.8107 - accuracy: 0.7358 - val_loss: 1.5001 - val_accuracy: 0.4959\n",
      "Epoch 34/50\n",
      "50000/50000 [==============================] - 1s 20us/step - loss: 0.7933 - accuracy: 0.7419 - val_loss: 1.5061 - val_accuracy: 0.4934\n",
      "Epoch 35/50\n",
      "50000/50000 [==============================] - 1s 20us/step - loss: 0.7732 - accuracy: 0.7499 - val_loss: 1.5170 - val_accuracy: 0.4864\n",
      "Epoch 36/50\n",
      "50000/50000 [==============================] - 1s 20us/step - loss: 0.7568 - accuracy: 0.7572 - val_loss: 1.5248 - val_accuracy: 0.4897\n",
      "Epoch 37/50\n",
      "50000/50000 [==============================] - 1s 20us/step - loss: 0.7384 - accuracy: 0.7625 - val_loss: 1.5373 - val_accuracy: 0.4887\n",
      "Epoch 38/50\n",
      "50000/50000 [==============================] - 1s 20us/step - loss: 0.7196 - accuracy: 0.7717 - val_loss: 1.5376 - val_accuracy: 0.4914\n",
      "Epoch 39/50\n",
      "50000/50000 [==============================] - 1s 20us/step - loss: 0.7001 - accuracy: 0.7802 - val_loss: 1.5527 - val_accuracy: 0.4867\n",
      "Epoch 40/50\n",
      "50000/50000 [==============================] - 1s 20us/step - loss: 0.6812 - accuracy: 0.7870 - val_loss: 1.5495 - val_accuracy: 0.4918\n",
      "Epoch 41/50\n",
      "50000/50000 [==============================] - 1s 20us/step - loss: 0.6636 - accuracy: 0.7941 - val_loss: 1.5696 - val_accuracy: 0.4896\n",
      "Epoch 42/50\n",
      "50000/50000 [==============================] - 1s 20us/step - loss: 0.6465 - accuracy: 0.8022 - val_loss: 1.5873 - val_accuracy: 0.4864\n",
      "Epoch 43/50\n",
      "50000/50000 [==============================] - 1s 20us/step - loss: 0.6279 - accuracy: 0.8090 - val_loss: 1.5765 - val_accuracy: 0.4962\n",
      "Epoch 44/50\n",
      "50000/50000 [==============================] - 1s 20us/step - loss: 0.6104 - accuracy: 0.8150 - val_loss: 1.6024 - val_accuracy: 0.4906\n",
      "Epoch 00044: early stopping\n"
     ]
    }
   ],
   "source": [
    "model = build_mlp(input_shape=x_train.shape[1:])\n",
    "model.summary()\n",
    "optimizer = keras.optimizers.SGD(lr=LEARNING_RATE, nesterov=True, momentum=MOMENTUM)\n",
    "model.compile(loss=\"categorical_crossentropy\", metrics=[\"accuracy\"], optimizer=optimizer)\n",
    "\n",
    "model.fit(x_train, y_train, \n",
    "          epochs=EPOCHS, \n",
    "          batch_size=BATCH_SIZE, \n",
    "          validation_data=(x_test, y_test), \n",
    "          shuffle=True,\n",
    "          callbacks=[earlystop]\n",
    "         )\n",
    "\n",
    "# Collect results\n",
    "train_loss = model.history.history[\"loss\"]\n",
    "valid_loss = model.history.history[\"val_loss\"]\n",
    "train_acc = model.history.history[\"accuracy\"]\n",
    "valid_acc = model.history.history[\"val_accuracy\"]"
   ]
  },
  {
   "cell_type": "code",
   "execution_count": 12,
   "metadata": {
    "colab": {
     "base_uri": "https://localhost:8080/",
     "height": 545
    },
    "colab_type": "code",
    "id": "HpL44lfuOYch",
    "outputId": "15021a5a-9014-481c-c4d2-64b48f8772eb"
   },
   "outputs": [
    {
     "data": {
      "image/png": "[encoded data removed]",
      "text/plain": [
       "<Figure size 432x288 with 1 Axes>"
      ]
     },
     "metadata": {
      "needs_background": "light",
      "tags": []
     },
     "output_type": "display_data"
    },
    {
     "data": {
      "image/png": "[encoded data removed]",
      "text/plain": [
       "<Figure size 432x288 with 1 Axes>"
      ]
     },
     "metadata": {
      "needs_background": "light",
      "tags": []
     },
     "output_type": "display_data"
    }
   ],
   "source": [
    "import matplotlib.pyplot as plt\n",
    "%matplotlib inline\n",
    "\n",
    "plt.plot(range(len(train_loss)), train_loss, label=\"train loss\")\n",
    "plt.plot(range(len(valid_loss)), valid_loss, label=\"valid loss\")\n",
    "plt.legend()\n",
    "plt.title(\"Loss\")\n",
    "plt.show()\n",
    "\n",
    "plt.plot(range(len(train_acc)), train_acc, label=\"train accuracy\")\n",
    "plt.plot(range(len(valid_acc)), valid_acc, label=\"valid accuracy\")\n",
    "plt.legend()\n",
    "plt.title(\"Accuracy\")\n",
    "plt.show()"
   ]
  }
 ],
 "metadata": {
  "accelerator": "GPU",
  "colab": {
   "collapsed_sections": [],
   "name": "Day_085_HW.ipynb",
   "provenance": []
  },
  "kernelspec": {
   "display_name": "Python 3",
   "name": "python3"
  }
 },
 "nbformat": 4,
 "nbformat_minor": 0
}
