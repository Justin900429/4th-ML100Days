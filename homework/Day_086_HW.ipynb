{
 "cells": [
  {
   "cell_type": "code",
   "execution_count": 1,
   "metadata": {
    "colab": {
     "base_uri": "https://localhost:8080/",
     "height": 34
    },
    "colab_type": "code",
    "id": "qxXDXzyyPFja",
    "outputId": "e57982b9-0d7e-40f0-985d-f5c4e0cdb545"
   },
   "outputs": [
    {
     "name": "stderr",
     "output_type": "stream",
     "text": [
      "Using TensorFlow backend.\n"
     ]
    }
   ],
   "source": [
    "import os\n",
    "import keras"
   ]
  },
  {
   "cell_type": "code",
   "execution_count": 2,
   "metadata": {
    "colab": {},
    "colab_type": "code",
    "id": "0keYav_qPIvc"
   },
   "outputs": [],
   "source": [
    "train, test = keras.datasets.cifar10.load_data()"
   ]
  },
  {
   "cell_type": "code",
   "execution_count": 3,
   "metadata": {
    "colab": {},
    "colab_type": "code",
    "id": "8xgpZfSFPJg0"
   },
   "outputs": [],
   "source": [
    "## 資料前處理\n",
    "def preproc_x(x, flatten=True):\n",
    "    x = x / 255.\n",
    "    if flatten:\n",
    "        x = x.reshape((len(x), -1))\n",
    "    return x\n",
    "\n",
    "def preproc_y(y, num_classes=10):\n",
    "    if y.shape[-1] == 1:\n",
    "        y = keras.utils.to_categorical(y, num_classes)\n",
    "    return y "
   ]
  },
  {
   "cell_type": "code",
   "execution_count": 4,
   "metadata": {
    "colab": {},
    "colab_type": "code",
    "id": "zxRPjsUGPMSq"
   },
   "outputs": [],
   "source": [
    "x_train, y_train = train\n",
    "x_test, y_test = test\n",
    "\n",
    "# Preproc the inputs\n",
    "x_train = preproc_x(x_train)\n",
    "x_test = preproc_x(x_test)\n",
    "\n",
    "# Preprc the outputs\n",
    "y_train = preproc_y(y_train)\n",
    "y_test = preproc_y(y_test)"
   ]
  },
  {
   "cell_type": "code",
   "execution_count": 5,
   "metadata": {
    "colab": {},
    "colab_type": "code",
    "id": "L4qAQ10DPN2b"
   },
   "outputs": [],
   "source": [
    "from keras.layers import BatchNormalization\n",
    "\n",
    "\"\"\"\n",
    "建立神經網路，並加入 BN layer\n",
    "\"\"\"\n",
    "def build_mlp(input_shape, output_units=10, num_neurons=[512, 256, 128]):\n",
    "    input_layer = keras.layers.Input(input_shape)\n",
    "    \n",
    "    for i, n_units in enumerate(num_neurons):\n",
    "        if i == 0:\n",
    "            x = keras.layers.Dense(units=n_units, \n",
    "                                   activation=\"relu\", \n",
    "                                   name=\"hidden_layer\"+str(i+1))(input_layer)\n",
    "            x = BatchNormalization()(x)\n",
    "        else:\n",
    "            x = keras.layers.Dense(units=n_units, \n",
    "                                   activation=\"relu\", \n",
    "                                   name=\"hidden_layer\"+str(i+1))(x)\n",
    "            x = BatchNormalization()(x)\n",
    "    \n",
    "    out = keras.layers.Dense(units=output_units, activation=\"softmax\", name=\"output\")(x)\n",
    "    \n",
    "    model = keras.models.Model(inputs=[input_layer], outputs=[out])\n",
    "    return model"
   ]
  },
  {
   "cell_type": "code",
   "execution_count": 6,
   "metadata": {
    "colab": {},
    "colab_type": "code",
    "id": "QUCu-3H9PQbH"
   },
   "outputs": [],
   "source": [
    "## 超參數設定\n",
    "LEARNING_RATE = 1e-3\n",
    "EPOCHS = 50\n",
    "BATCH_SIZE = 1024\n",
    "MOMENTUM = 0.95"
   ]
  },
  {
   "cell_type": "code",
   "execution_count": 7,
   "metadata": {
    "colab": {},
    "colab_type": "code",
    "id": "xanv8JKTPTqM"
   },
   "outputs": [],
   "source": [
    "\"\"\"\n",
    "# 載入 Callbacks, 並將監控目標設為 validation loss, 且只存最佳參數時的模型\n",
    "\"\"\"\n",
    "from keras.callbacks import ModelCheckpoint\n",
    "\n",
    "model_ckpt = ModelCheckpoint(filepath=\"./tmp.h5\", \n",
    "                             monitor=\"val_loss\", \n",
    "                             save_best_only=True)"
   ]
  },
  {
   "cell_type": "code",
   "execution_count": 8,
   "metadata": {
    "colab": {
     "base_uri": "https://localhost:8080/",
     "height": 1000
    },
    "colab_type": "code",
    "id": "wGYNgotLPWrj",
    "outputId": "d581c4df-db93-488b-e374-cddc0b833977"
   },
   "outputs": [
    {
     "name": "stdout",
     "output_type": "stream",
     "text": [
      "Model: \"model_1\"\n",
      "_________________________________________________________________\n",
      "Layer (type)                 Output Shape              Param #   \n",
      "=================================================================\n",
      "input_1 (InputLayer)         (None, 3072)              0         \n",
      "_________________________________________________________________\n",
      "hidden_layer1 (Dense)        (None, 512)               1573376   \n",
      "_________________________________________________________________\n",
      "batch_normalization_1 (Batch (None, 512)               2048      \n",
      "_________________________________________________________________\n",
      "hidden_layer2 (Dense)        (None, 256)               131328    \n",
      "_________________________________________________________________\n",
      "batch_normalization_2 (Batch (None, 256)               1024      \n",
      "_________________________________________________________________\n",
      "hidden_layer3 (Dense)        (None, 128)               32896     \n",
      "_________________________________________________________________\n",
      "batch_normalization_3 (Batch (None, 128)               512       \n",
      "_________________________________________________________________\n",
      "output (Dense)               (None, 10)                1290      \n",
      "=================================================================\n",
      "Total params: 1,742,474\n",
      "Trainable params: 1,740,682\n",
      "Non-trainable params: 1,792\n",
      "_________________________________________________________________\n",
      "Train on 50000 samples, validate on 10000 samples\n",
      "Epoch 1/50\n",
      "50000/50000 [==============================] - 2s 30us/step - loss: 2.2308 - accuracy: 0.2647 - val_loss: 2.1471 - val_accuracy: 0.2160\n",
      "Epoch 2/50\n",
      "50000/50000 [==============================] - 1s 20us/step - loss: 1.7542 - accuracy: 0.3859 - val_loss: 1.9562 - val_accuracy: 0.3005\n",
      "Epoch 3/50\n",
      "50000/50000 [==============================] - 1s 20us/step - loss: 1.6321 - accuracy: 0.4283 - val_loss: 1.8218 - val_accuracy: 0.3650\n",
      "Epoch 4/50\n",
      "50000/50000 [==============================] - 1s 21us/step - loss: 1.5614 - accuracy: 0.4527 - val_loss: 1.7097 - val_accuracy: 0.4083\n",
      "Epoch 5/50\n",
      "50000/50000 [==============================] - 1s 20us/step - loss: 1.5071 - accuracy: 0.4734 - val_loss: 1.6379 - val_accuracy: 0.4271\n",
      "Epoch 6/50\n",
      "50000/50000 [==============================] - 1s 20us/step - loss: 1.4633 - accuracy: 0.4892 - val_loss: 1.5814 - val_accuracy: 0.4488\n",
      "Epoch 7/50\n",
      "50000/50000 [==============================] - 1s 20us/step - loss: 1.4237 - accuracy: 0.5025 - val_loss: 1.5538 - val_accuracy: 0.4561\n",
      "Epoch 8/50\n",
      "50000/50000 [==============================] - 1s 20us/step - loss: 1.3885 - accuracy: 0.5141 - val_loss: 1.5244 - val_accuracy: 0.4610\n",
      "Epoch 9/50\n",
      "50000/50000 [==============================] - 1s 21us/step - loss: 1.3554 - accuracy: 0.5276 - val_loss: 1.5120 - val_accuracy: 0.4678\n",
      "Epoch 10/50\n",
      "50000/50000 [==============================] - 1s 21us/step - loss: 1.3244 - accuracy: 0.5384 - val_loss: 1.4974 - val_accuracy: 0.4735\n",
      "Epoch 11/50\n",
      "50000/50000 [==============================] - 1s 20us/step - loss: 1.2964 - accuracy: 0.5471 - val_loss: 1.4859 - val_accuracy: 0.4752\n",
      "Epoch 12/50\n",
      "50000/50000 [==============================] - 1s 20us/step - loss: 1.2684 - accuracy: 0.5596 - val_loss: 1.4739 - val_accuracy: 0.4839\n",
      "Epoch 13/50\n",
      "50000/50000 [==============================] - 1s 20us/step - loss: 1.2431 - accuracy: 0.5680 - val_loss: 1.4714 - val_accuracy: 0.4810\n",
      "Epoch 14/50\n",
      "50000/50000 [==============================] - 1s 20us/step - loss: 1.2163 - accuracy: 0.5796 - val_loss: 1.4657 - val_accuracy: 0.4854\n",
      "Epoch 15/50\n",
      "50000/50000 [==============================] - 1s 20us/step - loss: 1.1917 - accuracy: 0.5886 - val_loss: 1.4715 - val_accuracy: 0.4887\n",
      "Epoch 16/50\n",
      "50000/50000 [==============================] - 1s 20us/step - loss: 1.1686 - accuracy: 0.5970 - val_loss: 1.4566 - val_accuracy: 0.4971\n",
      "Epoch 17/50\n",
      "50000/50000 [==============================] - 1s 20us/step - loss: 1.1459 - accuracy: 0.6057 - val_loss: 1.4585 - val_accuracy: 0.4920\n",
      "Epoch 18/50\n",
      "50000/50000 [==============================] - 1s 20us/step - loss: 1.1223 - accuracy: 0.6150 - val_loss: 1.4585 - val_accuracy: 0.4924\n",
      "Epoch 19/50\n",
      "50000/50000 [==============================] - 1s 20us/step - loss: 1.0994 - accuracy: 0.6244 - val_loss: 1.4551 - val_accuracy: 0.4938\n",
      "Epoch 20/50\n",
      "50000/50000 [==============================] - 1s 20us/step - loss: 1.0787 - accuracy: 0.6297 - val_loss: 1.4547 - val_accuracy: 0.4947\n",
      "Epoch 21/50\n",
      "50000/50000 [==============================] - 1s 20us/step - loss: 1.0554 - accuracy: 0.6407 - val_loss: 1.4674 - val_accuracy: 0.4889\n",
      "Epoch 22/50\n",
      "50000/50000 [==============================] - 1s 20us/step - loss: 1.0340 - accuracy: 0.6486 - val_loss: 1.4562 - val_accuracy: 0.4929\n",
      "Epoch 23/50\n",
      "50000/50000 [==============================] - 1s 20us/step - loss: 1.0124 - accuracy: 0.6573 - val_loss: 1.4630 - val_accuracy: 0.4976\n",
      "Epoch 24/50\n",
      "50000/50000 [==============================] - 1s 20us/step - loss: 0.9913 - accuracy: 0.6645 - val_loss: 1.4630 - val_accuracy: 0.4953\n",
      "Epoch 25/50\n",
      "50000/50000 [==============================] - 1s 20us/step - loss: 0.9715 - accuracy: 0.6712 - val_loss: 1.4584 - val_accuracy: 0.4932\n",
      "Epoch 26/50\n",
      "50000/50000 [==============================] - 1s 20us/step - loss: 0.9498 - accuracy: 0.6800 - val_loss: 1.4616 - val_accuracy: 0.5017\n",
      "Epoch 27/50\n",
      "50000/50000 [==============================] - 1s 20us/step - loss: 0.9285 - accuracy: 0.6889 - val_loss: 1.4644 - val_accuracy: 0.4998\n",
      "Epoch 28/50\n",
      "50000/50000 [==============================] - 1s 20us/step - loss: 0.9090 - accuracy: 0.6977 - val_loss: 1.4592 - val_accuracy: 0.5005\n",
      "Epoch 29/50\n",
      "50000/50000 [==============================] - 1s 20us/step - loss: 0.8882 - accuracy: 0.7055 - val_loss: 1.4669 - val_accuracy: 0.4993\n",
      "Epoch 30/50\n",
      "50000/50000 [==============================] - 1s 20us/step - loss: 0.8681 - accuracy: 0.7118 - val_loss: 1.4879 - val_accuracy: 0.4991\n",
      "Epoch 31/50\n",
      "50000/50000 [==============================] - 1s 20us/step - loss: 0.8474 - accuracy: 0.7215 - val_loss: 1.4794 - val_accuracy: 0.4969\n",
      "Epoch 32/50\n",
      "50000/50000 [==============================] - 1s 20us/step - loss: 0.8289 - accuracy: 0.7289 - val_loss: 1.4983 - val_accuracy: 0.4987\n",
      "Epoch 33/50\n",
      "50000/50000 [==============================] - 1s 20us/step - loss: 0.8073 - accuracy: 0.7372 - val_loss: 1.4894 - val_accuracy: 0.4978\n",
      "Epoch 34/50\n",
      "50000/50000 [==============================] - 1s 20us/step - loss: 0.7892 - accuracy: 0.7439 - val_loss: 1.4971 - val_accuracy: 0.4971\n",
      "Epoch 35/50\n",
      "50000/50000 [==============================] - 1s 20us/step - loss: 0.7681 - accuracy: 0.7540 - val_loss: 1.5248 - val_accuracy: 0.4907\n",
      "Epoch 36/50\n",
      "50000/50000 [==============================] - 1s 20us/step - loss: 0.7488 - accuracy: 0.7611 - val_loss: 1.5496 - val_accuracy: 0.4896\n",
      "Epoch 37/50\n",
      "50000/50000 [==============================] - 1s 20us/step - loss: 0.7300 - accuracy: 0.7685 - val_loss: 1.5275 - val_accuracy: 0.4950\n",
      "Epoch 38/50\n",
      "50000/50000 [==============================] - 1s 20us/step - loss: 0.7108 - accuracy: 0.7758 - val_loss: 1.5620 - val_accuracy: 0.4896\n",
      "Epoch 39/50\n",
      "50000/50000 [==============================] - 1s 20us/step - loss: 0.6942 - accuracy: 0.7828 - val_loss: 1.5821 - val_accuracy: 0.4879\n",
      "Epoch 40/50\n",
      "50000/50000 [==============================] - 1s 21us/step - loss: 0.6763 - accuracy: 0.7893 - val_loss: 1.5453 - val_accuracy: 0.4953\n",
      "Epoch 41/50\n",
      "50000/50000 [==============================] - 1s 20us/step - loss: 0.6575 - accuracy: 0.7981 - val_loss: 1.5673 - val_accuracy: 0.4898\n",
      "Epoch 42/50\n",
      "50000/50000 [==============================] - 1s 20us/step - loss: 0.6371 - accuracy: 0.8054 - val_loss: 1.5723 - val_accuracy: 0.4923\n",
      "Epoch 43/50\n",
      "50000/50000 [==============================] - 1s 20us/step - loss: 0.6216 - accuracy: 0.8111 - val_loss: 1.5939 - val_accuracy: 0.4919\n",
      "Epoch 44/50\n",
      "50000/50000 [==============================] - 1s 20us/step - loss: 0.6013 - accuracy: 0.8194 - val_loss: 1.5887 - val_accuracy: 0.4966\n",
      "Epoch 45/50\n",
      "50000/50000 [==============================] - 1s 20us/step - loss: 0.5850 - accuracy: 0.8246 - val_loss: 1.6156 - val_accuracy: 0.4880\n",
      "Epoch 46/50\n",
      "50000/50000 [==============================] - 1s 20us/step - loss: 0.5664 - accuracy: 0.8319 - val_loss: 1.6248 - val_accuracy: 0.4933\n",
      "Epoch 47/50\n",
      "50000/50000 [==============================] - 1s 20us/step - loss: 0.5507 - accuracy: 0.8387 - val_loss: 1.6269 - val_accuracy: 0.4939\n",
      "Epoch 48/50\n",
      "50000/50000 [==============================] - 1s 20us/step - loss: 0.5328 - accuracy: 0.8459 - val_loss: 1.6686 - val_accuracy: 0.4888\n",
      "Epoch 49/50\n",
      "50000/50000 [==============================] - 1s 21us/step - loss: 0.5149 - accuracy: 0.8524 - val_loss: 1.6644 - val_accuracy: 0.4879\n",
      "Epoch 50/50\n",
      "50000/50000 [==============================] - 1s 20us/step - loss: 0.5005 - accuracy: 0.8593 - val_loss: 1.6902 - val_accuracy: 0.4886\n",
      "10000/10000 [==============================] - 1s 78us/step\n"
     ]
    }
   ],
   "source": [
    "model = build_mlp(input_shape=x_train.shape[1:])\n",
    "model.summary()\n",
    "optimizer = keras.optimizers.SGD(lr=LEARNING_RATE, nesterov=True, momentum=MOMENTUM)\n",
    "model.compile(loss=\"categorical_crossentropy\", metrics=[\"accuracy\"], optimizer=optimizer)\n",
    "\n",
    "model.fit(x_train, y_train, \n",
    "          epochs=EPOCHS, \n",
    "          batch_size=BATCH_SIZE, \n",
    "          validation_data=(x_test, y_test), \n",
    "          shuffle=True,\n",
    "          callbacks=[model_ckpt]\n",
    "         )\n",
    "\n",
    "# Collect results\n",
    "train_loss = model.history.history[\"loss\"]\n",
    "valid_loss = model.history.history[\"val_loss\"]\n",
    "train_acc = model.history.history[\"accuracy\"]\n",
    "valid_acc = model.history.history[\"val_accuracy\"]\n",
    "\n",
    "# Load back\n",
    "model = keras.models.load_model(\"./tmp.h5\")\n",
    "loss_loadback, acc_loadback = model.evaluate(x_test, y_test)"
   ]
  },
  {
   "cell_type": "code",
   "execution_count": 9,
   "metadata": {
    "colab": {
     "base_uri": "https://localhost:8080/",
     "height": 545
    },
    "colab_type": "code",
    "id": "jhL2w7r8Picn",
    "outputId": "60115dc1-d530-42a0-af14-a4ed94fecb48"
   },
   "outputs": [
    {
     "data": {
      "image/png": "[encoded data removed]",
      "text/plain": [
       "<Figure size 432x288 with 1 Axes>"
      ]
     },
     "metadata": {
      "needs_background": "light",
      "tags": []
     },
     "output_type": "display_data"
    },
    {
     "data": {
      "image/png": "[encoded data removed]",
      "text/plain": [
       "<Figure size 432x288 with 1 Axes>"
      ]
     },
     "metadata": {
      "needs_background": "light",
      "tags": []
     },
     "output_type": "display_data"
    }
   ],
   "source": [
    "import matplotlib.pyplot as plt\n",
    "%matplotlib inline\n",
    "\n",
    "plt.plot(range(len(train_loss)), train_loss, label=\"train loss\")\n",
    "plt.plot(range(len(valid_loss)), valid_loss, label=\"valid loss\")\n",
    "plt.hlines(y=loss_loadback, xmin=0, xmax=len(train_loss), colors='r', linestyles='--')\n",
    "plt.legend()\n",
    "plt.title(\"Loss\")\n",
    "plt.show()\n",
    "\n",
    "plt.plot(range(len(train_acc)), train_acc, label=\"train accuracy\")\n",
    "plt.plot(range(len(valid_acc)), valid_acc, label=\"valid accuracy\")\n",
    "plt.hlines(y=acc_loadback, xmin=0, xmax=len(train_loss), colors='r', linestyles='--')\n",
    "plt.legend()\n",
    "plt.title(\"Accuracy\")\n",
    "plt.show()\n"
   ]
  }
 ],
 "metadata": {
  "accelerator": "GPU",
  "colab": {
   "collapsed_sections": [],
   "name": "Day_086_HW.ipynb",
   "provenance": []
  },
  "kernelspec": {
   "display_name": "Python 3",
   "name": "python3"
  }
 },
 "nbformat": 4,
 "nbformat_minor": 0
}
