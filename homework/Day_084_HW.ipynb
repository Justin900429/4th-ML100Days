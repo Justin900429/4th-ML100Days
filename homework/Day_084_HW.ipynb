{
 "cells": [
  {
   "cell_type": "code",
   "execution_count": 19,
   "metadata": {
    "colab": {},
    "colab_type": "code",
    "id": "E92efVE9MpGU"
   },
   "outputs": [],
   "source": [
    "import os\n",
    "import keras\n",
    "import itertools"
   ]
  },
  {
   "cell_type": "code",
   "execution_count": 20,
   "metadata": {
    "colab": {},
    "colab_type": "code",
    "id": "a88E7DCsMprD"
   },
   "outputs": [],
   "source": [
    "train, test = keras.datasets.cifar10.load_data()"
   ]
  },
  {
   "cell_type": "code",
   "execution_count": 21,
   "metadata": {
    "colab": {},
    "colab_type": "code",
    "id": "PLS_4IRAMrQW"
   },
   "outputs": [],
   "source": [
    "## 資料前處理\n",
    "def preproc_x(x, flatten=True):\n",
    "    x = x / 255.\n",
    "    if flatten:\n",
    "        x = x.reshape((len(x), -1))\n",
    "    return x\n",
    "\n",
    "def preproc_y(y, num_classes=10):\n",
    "    if y.shape[-1] == 1:\n",
    "        y = keras.utils.to_categorical(y, num_classes)\n",
    "    return y  "
   ]
  },
  {
   "cell_type": "code",
   "execution_count": 22,
   "metadata": {
    "colab": {},
    "colab_type": "code",
    "id": "4wRDCdfcMtBF"
   },
   "outputs": [],
   "source": [
    "x_train, y_train = train\n",
    "x_test, y_test = test\n",
    "\n",
    "# Preproc the inputs\n",
    "x_train = preproc_x(x_train)\n",
    "x_test = preproc_x(x_test)\n",
    "\n",
    "# Preprc the outputs\n",
    "y_train = preproc_y(y_train)\n",
    "y_test = preproc_y(y_test)"
   ]
  },
  {
   "cell_type": "code",
   "execution_count": 24,
   "metadata": {
    "colab": {},
    "colab_type": "code",
    "id": "PqwedXO3Mu55"
   },
   "outputs": [],
   "source": [
    "from keras.layers import BatchNormalization\n",
    "\n",
    "\"\"\"\n",
    "建立神經網路，並加入 BN layer\n",
    "\"\"\"\n",
    "def build_mlp(input_shape, output_units=10, num_neurons=[512, 256, 128], drp_ratio=0.2):\n",
    "    input_layer = keras.layers.Input(input_shape)\n",
    "    \n",
    "    for i, n_units in enumerate(num_neurons):\n",
    "        if i == 0:\n",
    "            x = keras.layers.Dense(units=n_units, \n",
    "                                   activation=\"relu\", \n",
    "                                   name=\"hidden_layer\"+str(i+1))(input_layer)\n",
    "            x = BatchNormalization()(x)\n",
    "            x = Dropout(drp_ratio)(x)\n",
    "        else:\n",
    "            x = keras.layers.Dense(units=n_units, \n",
    "                                   activation=\"relu\", \n",
    "                                   name=\"hidden_layer\"+str(i+1))(x)\n",
    "            x = BatchNormalization()(x)\n",
    "            x = Dropout(drp_ratio)(x)\n",
    "    \n",
    "    out = keras.layers.Dense(units=output_units, activation=\"softmax\", name=\"output\")(x)\n",
    "    \n",
    "    model = keras.models.Model(inputs=[input_layer], outputs=[out])\n",
    "    return model"
   ]
  },
  {
   "cell_type": "code",
   "execution_count": 25,
   "metadata": {
    "colab": {},
    "colab_type": "code",
    "id": "phdbRpGnMxR3"
   },
   "outputs": [],
   "source": [
    "## 超參數設定\n",
    "LEARNING_RATE = 1e-3\n",
    "EPOCHS = 50\n",
    "BATCH_SIZE = 256\n",
    "MOMENTUM = 0.95\n",
    "Dropout_EXP = 0.5"
   ]
  },
  {
   "cell_type": "code",
   "execution_count": 26,
   "metadata": {
    "colab": {
     "base_uri": "https://localhost:8080/",
     "height": 1000
    },
    "colab_type": "code",
    "id": "nWR1IVauM-B7",
    "outputId": "9fdfceb5-1123-49b8-a25f-19da1270a36d"
   },
   "outputs": [
    {
     "name": "stdout",
     "output_type": "stream",
     "text": [
      "Model: \"model_3\"\n",
      "_________________________________________________________________\n",
      "Layer (type)                 Output Shape              Param #   \n",
      "=================================================================\n",
      "input_3 (InputLayer)         (None, 3072)              0         \n",
      "_________________________________________________________________\n",
      "hidden_layer1 (Dense)        (None, 512)               1573376   \n",
      "_________________________________________________________________\n",
      "batch_normalization_4 (Batch (None, 512)               2048      \n",
      "_________________________________________________________________\n",
      "dropout_4 (Dropout)          (None, 512)               0         \n",
      "_________________________________________________________________\n",
      "hidden_layer2 (Dense)        (None, 256)               131328    \n",
      "_________________________________________________________________\n",
      "batch_normalization_5 (Batch (None, 256)               1024      \n",
      "_________________________________________________________________\n",
      "dropout_5 (Dropout)          (None, 256)               0         \n",
      "_________________________________________________________________\n",
      "hidden_layer3 (Dense)        (None, 128)               32896     \n",
      "_________________________________________________________________\n",
      "batch_normalization_6 (Batch (None, 128)               512       \n",
      "_________________________________________________________________\n",
      "dropout_6 (Dropout)          (None, 128)               0         \n",
      "_________________________________________________________________\n",
      "output (Dense)               (None, 10)                1290      \n",
      "=================================================================\n",
      "Total params: 1,742,474\n",
      "Trainable params: 1,740,682\n",
      "Non-trainable params: 1,792\n",
      "_________________________________________________________________\n",
      "Train on 50000 samples, validate on 10000 samples\n",
      "Epoch 1/50\n",
      "50000/50000 [==============================] - 2s 39us/step - loss: 2.6721 - accuracy: 0.1995 - val_loss: 1.9133 - val_accuracy: 0.3100\n",
      "Epoch 2/50\n",
      "50000/50000 [==============================] - 2s 32us/step - loss: 2.1305 - accuracy: 0.2613 - val_loss: 1.7883 - val_accuracy: 0.3618\n",
      "Epoch 3/50\n",
      "50000/50000 [==============================] - 2s 32us/step - loss: 1.9674 - accuracy: 0.2922 - val_loss: 1.7712 - val_accuracy: 0.3632\n",
      "Epoch 4/50\n",
      "50000/50000 [==============================] - 2s 31us/step - loss: 1.8906 - accuracy: 0.3177 - val_loss: 1.7206 - val_accuracy: 0.3831\n",
      "Epoch 5/50\n",
      "50000/50000 [==============================] - 2s 32us/step - loss: 1.8436 - accuracy: 0.3370 - val_loss: 1.7248 - val_accuracy: 0.3792\n",
      "Epoch 6/50\n",
      "50000/50000 [==============================] - 2s 32us/step - loss: 1.8168 - accuracy: 0.3429 - val_loss: 1.6849 - val_accuracy: 0.3890\n",
      "Epoch 7/50\n",
      "50000/50000 [==============================] - 2s 32us/step - loss: 1.7930 - accuracy: 0.3505 - val_loss: 1.6644 - val_accuracy: 0.4043\n",
      "Epoch 8/50\n",
      "50000/50000 [==============================] - 2s 32us/step - loss: 1.7774 - accuracy: 0.3571 - val_loss: 1.6487 - val_accuracy: 0.4053\n",
      "Epoch 9/50\n",
      "50000/50000 [==============================] - 2s 32us/step - loss: 1.7554 - accuracy: 0.3665 - val_loss: 1.6352 - val_accuracy: 0.4136\n",
      "Epoch 10/50\n",
      "50000/50000 [==============================] - 2s 32us/step - loss: 1.7401 - accuracy: 0.3709 - val_loss: 1.6327 - val_accuracy: 0.4170\n",
      "Epoch 11/50\n",
      "50000/50000 [==============================] - 2s 32us/step - loss: 1.7291 - accuracy: 0.3791 - val_loss: 1.6049 - val_accuracy: 0.4270\n",
      "Epoch 12/50\n",
      "50000/50000 [==============================] - 2s 32us/step - loss: 1.7188 - accuracy: 0.3825 - val_loss: 1.5964 - val_accuracy: 0.4280\n",
      "Epoch 13/50\n",
      "50000/50000 [==============================] - 2s 32us/step - loss: 1.7087 - accuracy: 0.3868 - val_loss: 1.5930 - val_accuracy: 0.4269\n",
      "Epoch 14/50\n",
      "50000/50000 [==============================] - 2s 32us/step - loss: 1.7047 - accuracy: 0.3874 - val_loss: 1.5985 - val_accuracy: 0.4266\n",
      "Epoch 15/50\n",
      "50000/50000 [==============================] - 2s 32us/step - loss: 1.6953 - accuracy: 0.3910 - val_loss: 1.5608 - val_accuracy: 0.4420\n",
      "Epoch 16/50\n",
      "50000/50000 [==============================] - 2s 31us/step - loss: 1.6810 - accuracy: 0.3973 - val_loss: 1.5549 - val_accuracy: 0.4468\n",
      "Epoch 17/50\n",
      "50000/50000 [==============================] - 2s 32us/step - loss: 1.6725 - accuracy: 0.4005 - val_loss: 1.5636 - val_accuracy: 0.4422\n",
      "Epoch 18/50\n",
      "50000/50000 [==============================] - 2s 32us/step - loss: 1.6604 - accuracy: 0.4035 - val_loss: 1.5455 - val_accuracy: 0.4476\n",
      "Epoch 19/50\n",
      "50000/50000 [==============================] - 2s 32us/step - loss: 1.6602 - accuracy: 0.4049 - val_loss: 1.5458 - val_accuracy: 0.4475\n",
      "Epoch 20/50\n",
      "50000/50000 [==============================] - 2s 32us/step - loss: 1.6597 - accuracy: 0.4028 - val_loss: 1.5257 - val_accuracy: 0.4497\n",
      "Epoch 21/50\n",
      "50000/50000 [==============================] - 2s 32us/step - loss: 1.6451 - accuracy: 0.4090 - val_loss: 1.5308 - val_accuracy: 0.4495\n",
      "Epoch 22/50\n",
      "50000/50000 [==============================] - 2s 32us/step - loss: 1.6410 - accuracy: 0.4133 - val_loss: 1.5075 - val_accuracy: 0.4591\n",
      "Epoch 23/50\n",
      "50000/50000 [==============================] - 2s 32us/step - loss: 1.6385 - accuracy: 0.4124 - val_loss: 1.5156 - val_accuracy: 0.4540\n",
      "Epoch 24/50\n",
      "50000/50000 [==============================] - 2s 32us/step - loss: 1.6354 - accuracy: 0.4142 - val_loss: 1.5079 - val_accuracy: 0.4568\n",
      "Epoch 25/50\n",
      "50000/50000 [==============================] - 2s 32us/step - loss: 1.6253 - accuracy: 0.4198 - val_loss: 1.4983 - val_accuracy: 0.4632\n",
      "Epoch 26/50\n",
      "50000/50000 [==============================] - 2s 32us/step - loss: 1.6226 - accuracy: 0.4161 - val_loss: 1.4968 - val_accuracy: 0.4596\n",
      "Epoch 27/50\n",
      "50000/50000 [==============================] - 2s 32us/step - loss: 1.6097 - accuracy: 0.4233 - val_loss: 1.4843 - val_accuracy: 0.4667\n",
      "Epoch 28/50\n",
      "50000/50000 [==============================] - 2s 32us/step - loss: 1.6114 - accuracy: 0.4227 - val_loss: 1.4869 - val_accuracy: 0.4638\n",
      "Epoch 29/50\n",
      "50000/50000 [==============================] - 2s 33us/step - loss: 1.6008 - accuracy: 0.4268 - val_loss: 1.4872 - val_accuracy: 0.4653\n",
      "Epoch 30/50\n",
      "50000/50000 [==============================] - 2s 34us/step - loss: 1.5989 - accuracy: 0.4264 - val_loss: 1.4895 - val_accuracy: 0.4627\n",
      "Epoch 31/50\n",
      "50000/50000 [==============================] - 2s 33us/step - loss: 1.5999 - accuracy: 0.4279 - val_loss: 1.4856 - val_accuracy: 0.4618\n",
      "Epoch 32/50\n",
      "50000/50000 [==============================] - 2s 33us/step - loss: 1.5961 - accuracy: 0.4278 - val_loss: 1.4657 - val_accuracy: 0.4746\n",
      "Epoch 33/50\n",
      "50000/50000 [==============================] - 2s 33us/step - loss: 1.5892 - accuracy: 0.4306 - val_loss: 1.4944 - val_accuracy: 0.4619\n",
      "Epoch 34/50\n",
      "50000/50000 [==============================] - 2s 33us/step - loss: 1.5827 - accuracy: 0.4331 - val_loss: 1.4748 - val_accuracy: 0.4695\n",
      "Epoch 35/50\n",
      "50000/50000 [==============================] - 2s 33us/step - loss: 1.5796 - accuracy: 0.4350 - val_loss: 1.4591 - val_accuracy: 0.4760\n",
      "Epoch 36/50\n",
      "50000/50000 [==============================] - 2s 33us/step - loss: 1.5771 - accuracy: 0.4343 - val_loss: 1.4700 - val_accuracy: 0.4675\n",
      "Epoch 37/50\n",
      "50000/50000 [==============================] - 2s 33us/step - loss: 1.5736 - accuracy: 0.4392 - val_loss: 1.4855 - val_accuracy: 0.4636\n",
      "Epoch 38/50\n",
      "50000/50000 [==============================] - 2s 34us/step - loss: 1.5705 - accuracy: 0.4367 - val_loss: 1.4587 - val_accuracy: 0.4764\n",
      "Epoch 39/50\n",
      "50000/50000 [==============================] - 2s 33us/step - loss: 1.5634 - accuracy: 0.4398 - val_loss: 1.4676 - val_accuracy: 0.4674\n",
      "Epoch 40/50\n",
      "50000/50000 [==============================] - 2s 33us/step - loss: 1.5542 - accuracy: 0.4438 - val_loss: 1.4607 - val_accuracy: 0.4692\n",
      "Epoch 41/50\n",
      "50000/50000 [==============================] - 2s 33us/step - loss: 1.5548 - accuracy: 0.4433 - val_loss: 1.4577 - val_accuracy: 0.4750\n",
      "Epoch 42/50\n",
      "50000/50000 [==============================] - 2s 33us/step - loss: 1.5527 - accuracy: 0.4427 - val_loss: 1.4512 - val_accuracy: 0.4707\n",
      "Epoch 43/50\n",
      "50000/50000 [==============================] - 2s 32us/step - loss: 1.5523 - accuracy: 0.4429 - val_loss: 1.4537 - val_accuracy: 0.4737\n",
      "Epoch 44/50\n",
      "50000/50000 [==============================] - 2s 32us/step - loss: 1.5473 - accuracy: 0.4463 - val_loss: 1.4354 - val_accuracy: 0.4887\n",
      "Epoch 45/50\n",
      "50000/50000 [==============================] - 2s 33us/step - loss: 1.5471 - accuracy: 0.4463 - val_loss: 1.4374 - val_accuracy: 0.4877\n",
      "Epoch 46/50\n",
      "50000/50000 [==============================] - 2s 32us/step - loss: 1.5433 - accuracy: 0.4447 - val_loss: 1.4758 - val_accuracy: 0.4661\n",
      "Epoch 47/50\n",
      "50000/50000 [==============================] - 2s 32us/step - loss: 1.5279 - accuracy: 0.4551 - val_loss: 1.4183 - val_accuracy: 0.4888\n",
      "Epoch 48/50\n",
      "50000/50000 [==============================] - 2s 32us/step - loss: 1.5354 - accuracy: 0.4483 - val_loss: 1.4166 - val_accuracy: 0.4944\n",
      "Epoch 49/50\n",
      "50000/50000 [==============================] - 2s 32us/step - loss: 1.5216 - accuracy: 0.4558 - val_loss: 1.4221 - val_accuracy: 0.4840\n",
      "Epoch 50/50\n",
      "50000/50000 [==============================] - 2s 32us/step - loss: 1.5267 - accuracy: 0.4541 - val_loss: 1.4476 - val_accuracy: 0.4796\n"
     ]
    },
    {
     "data": {
      "text/plain": [
       "<keras.callbacks.callbacks.History at 0x7f1faa4a3ef0>"
      ]
     },
     "execution_count": 26,
     "metadata": {
      "tags": []
     },
     "output_type": "execute_result"
    }
   ],
   "source": [
    "model = build_mlp(input_shape=x_train.shape[1:], drp_ratio=Dropout_EXP)\n",
    "model.summary()\n",
    "optimizer = keras.optimizers.SGD(lr=LEARNING_RATE, nesterov=True, momentum=MOMENTUM)\n",
    "model.compile(loss=\"categorical_crossentropy\", metrics=[\"accuracy\"], optimizer=optimizer)\n",
    "\n",
    "model.fit(x_train, y_train, \n",
    "          epochs=EPOCHS, \n",
    "          batch_size=BATCH_SIZE, \n",
    "          validation_data=(x_test, y_test), \n",
    "          shuffle=True)"
   ]
  },
  {
   "cell_type": "code",
   "execution_count": 27,
   "metadata": {
    "colab": {},
    "colab_type": "code",
    "id": "mS1CatDZM_oD"
   },
   "outputs": [],
   "source": [
    "# Collect results\n",
    "train_loss = model.history.history[\"loss\"]\n",
    "valid_loss = model.history.history[\"val_loss\"]\n",
    "train_acc = model.history.history[\"accuracy\"]\n",
    "valid_acc = model.history.history[\"val_accuracy\"]"
   ]
  },
  {
   "cell_type": "code",
   "execution_count": 28,
   "metadata": {
    "colab": {
     "base_uri": "https://localhost:8080/",
     "height": 545
    },
    "colab_type": "code",
    "id": "VOIfANkONEfs",
    "outputId": "cf16f0f4-cc14-4268-bf96-d6695eb8848c"
   },
   "outputs": [
    {
     "data": {
      "image/png": "[encoded data removed]",
      "text/plain": [
       "<Figure size 432x288 with 1 Axes>"
      ]
     },
     "metadata": {
      "needs_background": "light",
      "tags": []
     },
     "output_type": "display_data"
    },
    {
     "data": {
      "image/png": "[encoded data removed]",
      "text/plain": [
       "<Figure size 432x288 with 1 Axes>"
      ]
     },
     "metadata": {
      "needs_background": "light",
      "tags": []
     },
     "output_type": "display_data"
    }
   ],
   "source": [
    "import matplotlib.pyplot as plt\n",
    "%matplotlib inline\n",
    "\n",
    "plt.plot(range(len(train_loss)), train_loss, label=\"train loss\")\n",
    "plt.plot(range(len(valid_loss)), valid_loss, label=\"valid loss\")\n",
    "plt.legend()\n",
    "plt.title(\"Loss\")\n",
    "plt.show()\n",
    "\n",
    "plt.plot(range(len(train_acc)), train_acc, label=\"train accuracy\")\n",
    "plt.plot(range(len(valid_acc)), valid_acc, label=\"valid accuracy\")\n",
    "plt.legend()\n",
    "plt.title(\"Accuracy\")\n",
    "plt.show()"
   ]
  }
 ],
 "metadata": {
  "accelerator": "GPU",
  "colab": {
   "collapsed_sections": [],
   "name": "Day084_HW.ipynb",
   "provenance": []
  },
  "kernelspec": {
   "display_name": "Python 3",
   "name": "python3"
  }
 },
 "nbformat": 4,
 "nbformat_minor": 0
}
